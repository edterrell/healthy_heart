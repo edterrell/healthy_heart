{
 "cells": [
  {
   "cell_type": "code",
   "execution_count": 1,
   "id": "5d459dfb-74f9-41d9-8af4-c92e2c2b4a4c",
   "metadata": {},
   "outputs": [
    {
     "data": {
      "text/plain": [
       "'/Users/edwardterrell/Desktop/Training/kindle/strava'"
      ]
     },
     "execution_count": 1,
     "metadata": {},
     "output_type": "execute_result"
    }
   ],
   "source": [
    "pwd"
   ]
  },
  {
   "cell_type": "code",
   "execution_count": 31,
   "id": "f86e2403-fec5-475b-9ee0-efa17cf601f7",
   "metadata": {},
   "outputs": [
    {
     "data": {
      "text/html": [
       "<style>body {\n",
       "    margin: 0;\n",
       "    font-family: Helvetica;\n",
       "}\n",
       "\n",
       "table.dataframe {\n",
       "    border-collapse: collapse;\n",
       "    border: none;\n",
       "}\n",
       "\n",
       "table.dataframe tr {\n",
       "    border: none;\n",
       "}\n",
       "\n",
       "table.dataframe td, table.dataframe th {\n",
       "    margin: 0;\n",
       "    border: 1px solid white;\n",
       "    padding-left: 0.25em;\n",
       "    padding-right: 0.25em;\n",
       "}\n",
       "\n",
       "table.dataframe th:not(:empty) {\n",
       "    background-color: #fec;\n",
       "    text-align: left;\n",
       "    font-weight: normal;\n",
       "}\n",
       "\n",
       "table.dataframe tr:nth-child(2) th:empty {\n",
       "    border-left: none;\n",
       "    border-right: 1px dashed #888;\n",
       "    background-color: #f4f4ff;\n",
       "}\n",
       "\n",
       "table.dataframe td {\n",
       "    border: 2px solid #ccf;\n",
       "    background-color: #f4f4ff;\n",
       "}\n",
       "\n",
       "/* Add a smooth transition effect for the background color change */\n",
       "table.dataframe tr {\n",
       "   border: none;\n",
       "   transition: background-color 0.3s; \n",
       "} \n",
       "\n",
       "table.dataframe tr:hover {\n",
       "    background-color: #ffccd8;\n",
       "}\n",
       "\n",
       "/* Override the cell background color within the hovered row */\n",
       "table.dataframe tr:hover td {\n",
       "    background-color: #ffccd8; /* Use the same color as the row hover effect */\n",
       "}\n",
       "h3 {\n",
       "    color: white;\n",
       "    background-color: black;\n",
       "    padding: 0.5em;\n",
       "}\n",
       "</style>"
      ],
      "text/plain": [
       "<IPython.core.display.HTML object>"
      ]
     },
     "execution_count": 31,
     "metadata": {},
     "output_type": "execute_result"
    }
   ],
   "source": [
    "%matplotlib inline\n",
    "from IPython.core.display import HTML\n",
    "css = open('css/style-table.css').read() + open('css/style-notebook.css').read()\n",
    "HTML('<style>{}</style>'.format(css))\n",
    "\n",
    "from IPython.core.interactiveshell import InteractiveShell\n",
    "InteractiveShell.ast_node_interactivity = \"all\""
   ]
  },
  {
   "cell_type": "code",
   "execution_count": 32,
   "id": "d6710164-d780-4a78-84ab-36ef6b5000f8",
   "metadata": {},
   "outputs": [
    {
     "name": "stdout",
     "output_type": "stream",
     "text": [
      "The autoreload extension is already loaded. To reload it, use:\n",
      "  %reload_ext autoreload\n"
     ]
    },
    {
     "data": {
      "text/plain": [
       "'/Users/edwardterrell/opt/anaconda3/envs/mlml/bin/python'"
      ]
     },
     "execution_count": 32,
     "metadata": {},
     "output_type": "execute_result"
    }
   ],
   "source": [
    "import requests\n",
    "import json\n",
    "import time\n",
    "import os\n",
    "from pprint import pprint\n",
    "from datetime import date,timedelta,datetime\n",
    "\n",
    "import pandas as pd\n",
    "pd.set_option('display.precision', 1)\n",
    "import warnings\n",
    "warnings.filterwarnings(\"ignore\", message=\".*will drop timezone.*\")\n",
    "\n",
    "%load_ext autoreload\n",
    "%autoreload 2\n",
    "from clean_convert import cleanup, convert_speed, order_columns, process_new_data, save_data, get_date, get_year\n",
    "from zones import get_zones_for_id, build_week_summary\n",
    "from plots_details import display_detail_week\n",
    "\n",
    "# import graphics programs\n",
    "import matplotlib.pyplot as plt\n",
    "import seaborn as sns\n",
    "sns.set(rc={'figure.figsize':(14,6)}) # for all future plots\n",
    "\n",
    "import sys\n",
    "sys.executable"
   ]
  },
  {
   "cell_type": "code",
   "execution_count": 33,
   "id": "fd305d4d-6e3c-4c4e-b37c-f24ca22263fb",
   "metadata": {},
   "outputs": [
    {
     "name": "stdout",
     "output_type": "stream",
     "text": [
      "2025-07-20 00:00:00\n"
     ]
    }
   ],
   "source": [
    "from datetime import datetime\n",
    "print(datetime.strptime(\"2025-07-20\", \"%Y-%m-%d\"))"
   ]
  },
  {
   "cell_type": "code",
   "execution_count": 34,
   "id": "61801378-e8bf-4f37-a6a4-ec37fa4d8ede",
   "metadata": {},
   "outputs": [
    {
     "name": "stdout",
     "output_type": "stream",
     "text": [
      "Using access token: 756a645da05109cd2c1cf82cdded8780c9bc8858\n",
      "{'id': 723727, 'username': 'eterrell', 'resource_state': 2, 'firstname': 'Ed', 'lastname': 'Terrell', 'bio': '', 'city': 'Boulder', 'state': 'CO', 'country': 'United States', 'sex': 'M', 'premium': True, 'summit': True, 'created_at': '2012-07-05T00:04:09Z', 'updated_at': '2025-07-09T12:38:59Z', 'badge_type_id': 1, 'weight': 61.235, 'profile_medium': 'https://dgalywyr863hv.cloudfront.net/pictures/athletes/723727/20826329/1/medium.jpg', 'profile': 'https://dgalywyr863hv.cloudfront.net/pictures/athletes/723727/20826329/1/large.jpg', 'friend': None, 'follower': None}\n"
     ]
    }
   ],
   "source": [
    "from token_manager import get_valid_access_token\n",
    "import requests\n",
    "\n",
    "access_token = get_valid_access_token()\n",
    "print(\"Using access token:\", access_token)\n",
    "\n",
    "# Make an authenticated API call\n",
    "response = requests.get(\n",
    "    'https://www.strava.com/api/v3/athlete',\n",
    "    headers={'Authorization': f'Bearer {access_token}'}\n",
    ")\n",
    "print(response.json())"
   ]
  },
  {
   "cell_type": "raw",
   "id": "716337a9-1bb1-4c30-b842-f69032168997",
   "metadata": {},
   "source": [
    "# USED ONLY IF token_manager.py isn't generating correctly\n",
    "client_id = 167221\n",
    "client_secret = 'f4df8e0dec7d9d8e725707eaf05037fcc845989d'\n",
    "auth_code = 'd973f0f86d2e56c3e7ac369809ca6b14fc814a98' # stored from last time\n",
    "\n",
    "response = requests.post(\n",
    "    'https://www.strava.com/oauth/token',\n",
    "    data={\n",
    "        'client_id': client_id,\n",
    "        'client_secret': client_secret,\n",
    "        'code': auth_code,\n",
    "        'grant_type': 'authorization_code',\n",
    "    }\n",
    ")\n",
    "# Check and save response\n",
    "if response.status_code == 200:\n",
    "    tokens = response.json()\n",
    "    print(\"✅ Tokens received:\")\n",
    "    print(json.dumps(tokens, indent=2))\n",
    "\n",
    "    # Save to tokens.json for use in token_manager.py\n",
    "    with open(\"tokens.json\", \"w\") as f:\n",
    "        json.dump(tokens, f)\n",
    "else:\n",
    "    print(\"❌ Failed to get tokens:\", response.status_code)\n",
    "    print(response.text)"
   ]
  },
  {
   "cell_type": "markdown",
   "id": "3fa71d38-4c72-4052-a4dc-fd90e4d77432",
   "metadata": {},
   "source": [
    "### Load dataframes"
   ]
  },
  {
   "cell_type": "code",
   "execution_count": 35,
   "id": "695c3577-cfb5-45d2-a1be-f372d46a4698",
   "metadata": {},
   "outputs": [
    {
     "name": "stdout",
     "output_type": "stream",
     "text": [
      "\u001b[01;34mdata\u001b[0m\n",
      "├── \u001b[01;34m2025-07-17\u001b[0m\n",
      "│   ├── \u001b[00mstrava_data_2025.pkl\u001b[0m\n",
      "│   └── \u001b[00mstrava_zone_data_2025.pkl\u001b[0m\n",
      "├── \u001b[01;34m2025-07-18\u001b[0m\n",
      "│   ├── \u001b[00mstrava_data_2024.pkl\u001b[0m\n",
      "│   └── \u001b[00mstrava_zone_data_2024.pkl\u001b[0m\n",
      "├── \u001b[01;34m2025-07-19\u001b[0m\n",
      "│   ├── \u001b[00mstrava_data_2025.pkl\u001b[0m\n",
      "│   └── \u001b[00mstrava_zone_data_2025.pkl\u001b[0m\n",
      "├── \u001b[01;34m2025-07-20\u001b[0m\n",
      "│   ├── \u001b[00mstrava_data_2025.pkl\u001b[0m\n",
      "│   └── \u001b[00mstrava_zone_data_2025.pkl\u001b[0m\n",
      "├── \u001b[01;34m2025-07-22\u001b[0m\n",
      "│   ├── \u001b[00mstrava_data_2025.pkl\u001b[0m\n",
      "│   └── \u001b[00mstrava_zone_data_2025.pkl\u001b[0m\n",
      "├── \u001b[00mstrava_data_2024.pkl\u001b[0m\n",
      "├── \u001b[00mstrava_data_2025.pkl\u001b[0m\n",
      "├── \u001b[00mstrava_data_empty.pkl\u001b[0m\n",
      "├── \u001b[00mstrava_zone_data_2024.pkl\u001b[0m\n",
      "├── \u001b[00mstrava_zone_data_2025.pkl\u001b[0m\n",
      "└── \u001b[00mstrava_zone_data_empty.pkl\u001b[0m\n",
      "\n",
      "6 directories, 16 files\n"
     ]
    }
   ],
   "source": [
    "# Loading empty dfs for user to start from scratch\n",
    "strava_df = pd.read_pickle(f\"data/strava_data_empty.pkl\")\n",
    "strava_zone_df = pd.read_pickle(f\"data/strava_zone_data_empty.pkl\")\n",
    "!tree data"
   ]
  },
  {
   "cell_type": "markdown",
   "id": "216a56ff-d00f-4a73-8743-981037047842",
   "metadata": {},
   "source": [
    "### Select date range and year"
   ]
  },
  {
   "cell_type": "code",
   "execution_count": 39,
   "id": "9370421f-3af8-45c4-8914-1a080f16f511",
   "metadata": {},
   "outputs": [
    {
     "name": "stdin",
     "output_type": "stream",
     "text": [
      "Enter folder date [2025-07-21]:  2025-07-22\n"
     ]
    },
    {
     "name": "stdout",
     "output_type": "stream",
     "text": [
      "✅ Folder selected: 2025-07-22\n"
     ]
    },
    {
     "name": "stdin",
     "output_type": "stream",
     "text": [
      "Enter year [2025]:  \n"
     ]
    },
    {
     "name": "stdout",
     "output_type": "stream",
     "text": [
      "✅ Year selected: 2025\n"
     ]
    }
   ],
   "source": [
    "# select 'empty' to start new dfs from scratch\n",
    "# Default values\n",
    "today = date.today().strftime('%Y-%m-%d')\n",
    "yesterday = (date.today() - timedelta(days=1)).strftime('%Y-%m-%d')\n",
    "tomorrow = (date.today() + timedelta(days=1)).strftime('%Y-%m-%d')\n",
    "\n",
    "# Get folder name and year from user\n",
    "my_folder = get_date(\"Enter folder date\", default=yesterday)\n",
    "print(f\"✅ Folder selected: {my_folder}\")\n",
    "if my_folder is None:\n",
    "    print(\"📭 Empty data mode selected. Skipping further input.\")\n",
    "else:\n",
    "    # Get year from user\n",
    "    year = get_year(\"Enter year\", default='2025')\n",
    "    print(f\"✅ Year selected: {year}\")\n",
    "    # Reload dfs and confirm lengths\n",
    "    strava_df = pd.read_pickle(f\"data/{my_folder}/strava_data_{year}.pkl\")\n",
    "    strava_zone_df = pd.read_pickle(f\"data/{my_folder}/strava_zone_data_{year}.pkl\")"
   ]
  },
  {
   "cell_type": "code",
   "execution_count": 40,
   "id": "4eece22c-63a3-4e0a-8d4e-211496866d0e",
   "metadata": {},
   "outputs": [
    {
     "name": "stdout",
     "output_type": "stream",
     "text": [
      "126\n",
      "126\n"
     ]
    }
   ],
   "source": [
    "# confirm lengths\n",
    "print(len(strava_df))\n",
    "print(len(strava_zone_df))"
   ]
  },
  {
   "cell_type": "code",
   "execution_count": 41,
   "id": "faabedc0-335a-4fc3-862b-6ee2213b57a2",
   "metadata": {},
   "outputs": [
    {
     "data": {
      "text/html": [
       "<div>\n",
       "<style scoped>\n",
       "    .dataframe tbody tr th:only-of-type {\n",
       "        vertical-align: middle;\n",
       "    }\n",
       "\n",
       "    .dataframe tbody tr th {\n",
       "        vertical-align: top;\n",
       "    }\n",
       "\n",
       "    .dataframe thead th {\n",
       "        text-align: right;\n",
       "    }\n",
       "</style>\n",
       "<table border=\"1\" class=\"dataframe\">\n",
       "  <thead>\n",
       "    <tr style=\"text-align: right;\">\n",
       "      <th></th>\n",
       "      <th>id</th>\n",
       "      <th>name</th>\n",
       "      <th>date</th>\n",
       "      <th>sport</th>\n",
       "      <th>distance</th>\n",
       "      <th>time</th>\n",
       "      <th>speed</th>\n",
       "      <th>elev_gain</th>\n",
       "      <th>avg_HR</th>\n",
       "      <th>max_HR</th>\n",
       "      <th>suffer_score</th>\n",
       "      <th>time-minutes</th>\n",
       "      <th>average_speed</th>\n",
       "      <th>start_date</th>\n",
       "    </tr>\n",
       "  </thead>\n",
       "  <tbody>\n",
       "    <tr>\n",
       "      <th>0</th>\n",
       "      <td>15189628842</td>\n",
       "      <td>Poorman and Chapman</td>\n",
       "      <td>2025-07-21</td>\n",
       "      <td>Ride</td>\n",
       "      <td>35.5</td>\n",
       "      <td>3:14</td>\n",
       "      <td>11.0</td>\n",
       "      <td>2814.6</td>\n",
       "      <td>117.3</td>\n",
       "      <td>144.0</td>\n",
       "      <td>68.0</td>\n",
       "      <td>194.1</td>\n",
       "      <td>4.9</td>\n",
       "      <td>2025-07-21 15:04:13+00:00</td>\n",
       "    </tr>\n",
       "  </tbody>\n",
       "</table>\n",
       "</div>"
      ],
      "text/plain": [
       "            id                 name        date sport  distance  time speed  \\\n",
       "0  15189628842  Poorman and Chapman  2025-07-21  Ride      35.5  3:14  11.0   \n",
       "\n",
       "   elev_gain  avg_HR  max_HR  suffer_score  time-minutes  average_speed  \\\n",
       "0     2814.6   117.3   144.0          68.0         194.1            4.9   \n",
       "\n",
       "                 start_date  \n",
       "0 2025-07-21 15:04:13+00:00  "
      ]
     },
     "execution_count": 41,
     "metadata": {},
     "output_type": "execute_result"
    },
    {
     "data": {
      "text/html": [
       "<div>\n",
       "<style scoped>\n",
       "    .dataframe tbody tr th:only-of-type {\n",
       "        vertical-align: middle;\n",
       "    }\n",
       "\n",
       "    .dataframe tbody tr th {\n",
       "        vertical-align: top;\n",
       "    }\n",
       "\n",
       "    .dataframe thead th {\n",
       "        text-align: right;\n",
       "    }\n",
       "</style>\n",
       "<table border=\"1\" class=\"dataframe\">\n",
       "  <thead>\n",
       "    <tr style=\"text-align: right;\">\n",
       "      <th></th>\n",
       "      <th>id</th>\n",
       "      <th>name</th>\n",
       "      <th>date</th>\n",
       "      <th>suffer_score</th>\n",
       "      <th>start_date</th>\n",
       "      <th>Zone1</th>\n",
       "      <th>Zone2</th>\n",
       "      <th>Zone3</th>\n",
       "      <th>Zone4</th>\n",
       "      <th>Zone5</th>\n",
       "      <th>moderate</th>\n",
       "      <th>intense</th>\n",
       "      <th>week_start</th>\n",
       "      <th>weekly_intense</th>\n",
       "      <th>weekly_moderate</th>\n",
       "      <th>weekly_suffer_score</th>\n",
       "    </tr>\n",
       "  </thead>\n",
       "  <tbody>\n",
       "    <tr>\n",
       "      <th>0</th>\n",
       "      <td>15189628842</td>\n",
       "      <td>Poorman and Chapman</td>\n",
       "      <td>2025-07-21</td>\n",
       "      <td>68.0</td>\n",
       "      <td>2025-07-21 15:04:13+00:00</td>\n",
       "      <td>29.1</td>\n",
       "      <td>110.0</td>\n",
       "      <td>35.3</td>\n",
       "      <td>19.8</td>\n",
       "      <td>0.0</td>\n",
       "      <td>139.0</td>\n",
       "      <td>55.1</td>\n",
       "      <td>2025-07-21</td>\n",
       "      <td>55.1</td>\n",
       "      <td>139.0</td>\n",
       "      <td>68.0</td>\n",
       "    </tr>\n",
       "  </tbody>\n",
       "</table>\n",
       "</div>"
      ],
      "text/plain": [
       "            id                 name        date  suffer_score  \\\n",
       "0  15189628842  Poorman and Chapman  2025-07-21          68.0   \n",
       "\n",
       "                 start_date  Zone1  Zone2  Zone3  Zone4  Zone5  moderate  \\\n",
       "0 2025-07-21 15:04:13+00:00   29.1  110.0   35.3   19.8    0.0     139.0   \n",
       "\n",
       "   intense week_start  weekly_intense  weekly_moderate  weekly_suffer_score  \n",
       "0     55.1 2025-07-21            55.1            139.0                 68.0  "
      ]
     },
     "execution_count": 41,
     "metadata": {},
     "output_type": "execute_result"
    }
   ],
   "source": [
    "strava_df.head(1)\n",
    "strava_zone_df.head(1)"
   ]
  },
  {
   "cell_type": "markdown",
   "id": "cd731c6a-f11c-4769-8dee-24243277a6af",
   "metadata": {},
   "source": [
    "### Update a specific activity"
   ]
  },
  {
   "cell_type": "raw",
   "id": "9b110de5-c82d-4be5-b77b-b6639f02491c",
   "metadata": {},
   "source": [
    "# to update a specific id with new info:\n",
    "# change this cell to code from raw\n",
    "# delete that id row from strava_df and strava_zone_df\n",
    "strava_df = strava_df[strava_df['id'] != 13504452781]\n",
    "strava_zone_df = strava_zone_df[strava_zone_df['id'] != 13504452781]\n",
    "print(len(strava_df))\n",
    "print(len(strava_zone_df))\n",
    "\n",
    "#Then select a start time to encompass that activity date"
   ]
  },
  {
   "cell_type": "markdown",
   "id": "861b5af7-0aca-4777-8170-7feb41a74200",
   "metadata": {},
   "source": [
    "### Recent activities only!"
   ]
  },
  {
   "cell_type": "code",
   "execution_count": 42,
   "id": "e3b5dfbb-e60a-44bc-ad68-2f8661827f48",
   "metadata": {},
   "outputs": [
    {
     "name": "stdin",
     "output_type": "stream",
     "text": [
      "Enter START date [2025-07-21]:  \n",
      "Enter END date [2025-07-23]:  \n"
     ]
    },
    {
     "name": "stdout",
     "output_type": "stream",
     "text": [
      "\n",
      "✅ Date range selected:\n",
      "Start: 2025-07-21\n",
      "End:   2025-07-23\n"
     ]
    }
   ],
   "source": [
    "# Get start and end dates from user\n",
    "start_date_str = get_date(\"Enter START date\", default=yesterday)\n",
    "end_date_str = get_date(\"Enter END date\", default=tomorrow)\n",
    "\n",
    "print(f\"\\n✅ Date range selected:\\nStart: {start_date_str}\\nEnd:   {end_date_str}\")\n"
   ]
  },
  {
   "cell_type": "code",
   "execution_count": 43,
   "id": "d996046f-d2c9-4230-a2c5-bdae52b38e9d",
   "metadata": {},
   "outputs": [
    {
     "name": "stdout",
     "output_type": "stream",
     "text": [
      "\n",
      "ID: 15189628842, Name: Poorman and Chapman, Date: 2025-07-21T15:04:13Z\n"
     ]
    }
   ],
   "source": [
    "# Desired number of activities for upload\n",
    "num_of_activities_for_upload = 50\n",
    "\n",
    "# change date to unix integer format with mktime\n",
    "start_date = int(time.mktime(time.strptime(start_date_str, '%Y-%m-%d')))\n",
    "end_date = int(time.mktime(time.strptime(end_date_str, '%Y-%m-%d')))\n",
    "print()\n",
    "\n",
    "# strava url\n",
    "url = \"https://www.strava.com/api/v3/athlete/activities\"\n",
    "headers = {\"Authorization\": f\"Bearer {access_token}\"}\n",
    "params = {\n",
    "    \"before\": end_date,\n",
    "    \"after\": start_date,\n",
    "    \"per_page\": 200,  # max per request\n",
    "    \"page\": 1\n",
    "}\n",
    "activities = []\n",
    "\n",
    "stop_fetching = False\n",
    "while True:\n",
    "    response = requests.get(url, headers=headers, params=params)\n",
    "    data = response.json()\n",
    "    if not data or stop_fetching:\n",
    "        # breaks out of while loop\n",
    "        break\n",
    "        \n",
    "    for activity in data:\n",
    "        # change date to unix integer format\n",
    "        activity_date = int(datetime.strptime(activity['start_date'], \"%Y-%m-%dT%H:%M:%SZ\").timestamp())\n",
    "        print(f\"ID: {activity['id']}, Name: {activity['name']}, Date: {activity['start_date']}\")\n",
    "        # set number of activites (strava maximum is 100/15 minutes)\n",
    "        if len(activities) >= num_of_activities_for_upload:\n",
    "            stop_fetching = True\n",
    "            # breaks out of for loop only\n",
    "            break\n",
    "        activities.append(activity)\n",
    "    params[\"page\"] += 1"
   ]
  },
  {
   "cell_type": "code",
   "execution_count": 44,
   "id": "aafab648-08de-42f1-9832-fc892ea5843f",
   "metadata": {},
   "outputs": [
    {
     "name": "stdout",
     "output_type": "stream",
     "text": [
      "\n"
     ]
    },
    {
     "data": {
      "text/plain": [
       "0"
      ]
     },
     "execution_count": 44,
     "metadata": {},
     "output_type": "execute_result"
    }
   ],
   "source": [
    "# Build out strava_df with only the necessary columns\n",
    "recent_df = pd.DataFrame(activities)\n",
    "cols_needed = ['id','name', 'distance', 'moving_time','total_elevation_gain', 'sport_type',\n",
    "          'average_speed', 'average_heartrate','max_heartrate', 'suffer_score','start_date']\n",
    "recent_df = recent_df.loc[:,cols_needed]\n",
    "recent_df = recent_df.sort_values('start_date',ascending=False) \n",
    "\n",
    "# This step does the comparison between recent_df and strava_df\n",
    "# strava_df holds previously saved data\n",
    "\n",
    "if strava_df.empty:\n",
    "    new_activities_df = recent_df.copy()\n",
    "else:\n",
    "    new_activities_df = recent_df[~recent_df.id.isin(strava_df.id)].copy()\n",
    "    \n",
    "# display df of new activities\n",
    "print()\n",
    "len(new_activities_df)"
   ]
  },
  {
   "cell_type": "code",
   "execution_count": 45,
   "id": "bfb9d6c8-d0d2-49d9-a548-3e39e19abb99",
   "metadata": {},
   "outputs": [
    {
     "name": "stdout",
     "output_type": "stream",
     "text": [
      "No new activities to process.\n"
     ]
    },
    {
     "data": {
      "text/plain": [
       "126"
      ]
     },
     "execution_count": 45,
     "metadata": {},
     "output_type": "execute_result"
    }
   ],
   "source": [
    "strava_df = process_new_data(new_activities_df, strava_df)\n",
    "len(strava_df)"
   ]
  },
  {
   "cell_type": "markdown",
   "id": "bfb517e1-0043-4303-9d16-a8e64be891b3",
   "metadata": {},
   "source": [
    "### Get Zone data"
   ]
  },
  {
   "cell_type": "raw",
   "id": "4540d492-8e72-4698-9bae-10b7bb7ddca7",
   "metadata": {},
   "source": [
    "zone 1           <103\n",
    "zone 2 Moderate  103-123\n",
    "zone 3 Tempo     123 - 138\n",
    "zone 4 Threshold 138 - 153\n",
    "zone 5 Anaerobic > 153"
   ]
  },
  {
   "cell_type": "code",
   "execution_count": 46,
   "id": "29d31c0b-ac72-4eea-9435-895aab13f5e8",
   "metadata": {},
   "outputs": [
    {
     "data": {
      "text/plain": [
       "0"
      ]
     },
     "execution_count": 46,
     "metadata": {},
     "output_type": "execute_result"
    }
   ],
   "source": [
    "# Recent zone data\n",
    "# Create a new_zone dataframe for recent activities\n",
    "cols = ['id', 'name', 'date', 'suffer_score','start_date']\n",
    "new_data = strava_df.loc[:,cols]\n",
    "new_zone_df = pd.DataFrame(new_data, columns=cols)\n",
    "\n",
    "mask = new_zone_df['id'].isin(new_activities_df['id'])\n",
    "new_zone_df = new_zone_df[mask]\n",
    "len(new_zone_df)"
   ]
  },
  {
   "cell_type": "code",
   "execution_count": 48,
   "id": "174dedd1-5ae2-4c65-aacd-72809a8f8a31",
   "metadata": {},
   "outputs": [
    {
     "name": "stdout",
     "output_type": "stream",
     "text": [
      "No new activites to process\n"
     ]
    }
   ],
   "source": [
    "# Note that get_zones_for_id is a function in zones.py\n",
    "# There is a max limit of 100 calls per 15 minutes set by Strava for this function\n",
    "    \n",
    "if 0 > len(new_zone_df) <100:\n",
    "    # Apply function to fetch zone data per activity ID\n",
    "    zone = new_zone_df['id'].apply(lambda current_id: get_zones_for_id(current_id, access_token))\n",
    "    zone.index = new_zone_df['id']\n",
    "\n",
    "    # Add in summary zones: moderate and intense\n",
    "    zone['moderate'] = zone[['Zone1', 'Zone2']].sum(axis=1)\n",
    "    zone['intense'] = zone[['Zone3', 'Zone4', 'Zone5']].sum(axis=1)\n",
    "\n",
    "    # display new zone info\n",
    "    print()\n",
    "    zone\n",
    "elif  len(new_zone_df)==0:\n",
    "    print (\"No new activites to process\")\n",
    "    \n",
    "else:\n",
    "     print(\"❌ Number of calls will exceed Strava's 15-minute limit (max 100)\")\n",
    "     print (\"Try limiting the number of calls before proceeding\")"
   ]
  },
  {
   "cell_type": "code",
   "execution_count": 49,
   "id": "36df9731-0a19-4646-b442-97c493ae300b",
   "metadata": {},
   "outputs": [],
   "source": [
    "new_zone_df = pd.merge(new_zone_df, zone, left_on='id',right_index=True)"
   ]
  },
  {
   "cell_type": "code",
   "execution_count": 50,
   "id": "cb35c99a-95b7-4dc6-8a14-2d599a9f6d8a",
   "metadata": {},
   "outputs": [
    {
     "data": {
      "text/html": [
       "<div>\n",
       "<style scoped>\n",
       "    .dataframe tbody tr th:only-of-type {\n",
       "        vertical-align: middle;\n",
       "    }\n",
       "\n",
       "    .dataframe tbody tr th {\n",
       "        vertical-align: top;\n",
       "    }\n",
       "\n",
       "    .dataframe thead th {\n",
       "        text-align: right;\n",
       "    }\n",
       "</style>\n",
       "<table border=\"1\" class=\"dataframe\">\n",
       "  <thead>\n",
       "    <tr style=\"text-align: right;\">\n",
       "      <th></th>\n",
       "      <th>id_x</th>\n",
       "      <th>name</th>\n",
       "      <th>date</th>\n",
       "      <th>suffer_score</th>\n",
       "      <th>start_date</th>\n",
       "      <th>id_y</th>\n",
       "      <th>week_start</th>\n",
       "      <th>id</th>\n",
       "      <th>Zone1</th>\n",
       "      <th>Zone2</th>\n",
       "      <th>Zone3</th>\n",
       "      <th>Zone4</th>\n",
       "      <th>Zone5</th>\n",
       "      <th>moderate</th>\n",
       "      <th>intense</th>\n",
       "      <th>weekly_intense</th>\n",
       "      <th>weekly_moderate</th>\n",
       "      <th>weekly_suffer_score</th>\n",
       "    </tr>\n",
       "  </thead>\n",
       "  <tbody>\n",
       "    <tr>\n",
       "      <th>0</th>\n",
       "      <td>NaN</td>\n",
       "      <td>Poorman and Chapman</td>\n",
       "      <td>2025-07-21</td>\n",
       "      <td>68.0</td>\n",
       "      <td>2025-07-21 15:04:13+00:00</td>\n",
       "      <td>NaN</td>\n",
       "      <td>2025-07-21</td>\n",
       "      <td>1.5e+10</td>\n",
       "      <td>29.1</td>\n",
       "      <td>110.0</td>\n",
       "      <td>35.3</td>\n",
       "      <td>19.8</td>\n",
       "      <td>0.0</td>\n",
       "      <td>139.0</td>\n",
       "      <td>55.1</td>\n",
       "      <td>55.1</td>\n",
       "      <td>139.0</td>\n",
       "      <td>68.0</td>\n",
       "    </tr>\n",
       "  </tbody>\n",
       "</table>\n",
       "</div>"
      ],
      "text/plain": [
       "   id_x                 name        date  suffer_score  \\\n",
       "0   NaN  Poorman and Chapman  2025-07-21          68.0   \n",
       "\n",
       "                 start_date  id_y week_start       id  Zone1  Zone2  Zone3  \\\n",
       "0 2025-07-21 15:04:13+00:00   NaN 2025-07-21  1.5e+10   29.1  110.0   35.3   \n",
       "\n",
       "   Zone4  Zone5  moderate  intense  weekly_intense  weekly_moderate  \\\n",
       "0   19.8    0.0     139.0     55.1            55.1            139.0   \n",
       "\n",
       "   weekly_suffer_score  \n",
       "0                 68.0  "
      ]
     },
     "execution_count": 50,
     "metadata": {},
     "output_type": "execute_result"
    }
   ],
   "source": [
    "# Get the Sunday start of the week for each date (time set to Sunday at midnight)\n",
    "new_zone_df['week_start'] = new_zone_df['start_date'].dt.to_period('W-SUN').dt.start_time\n",
    "\n",
    "#new_zone_df.columns are now matched with strava_zone_df\n",
    "new_zone_df = pd.concat ([new_zone_df, strava_zone_df], axis=0)\n",
    "\n",
    "new_zone_df.head(1)"
   ]
  },
  {
   "cell_type": "code",
   "execution_count": 51,
   "id": "8582490c-f873-4477-8247-f92369e8b976",
   "metadata": {},
   "outputs": [
    {
     "data": {
      "text/plain": [
       "126"
      ]
     },
     "execution_count": 51,
     "metadata": {},
     "output_type": "execute_result"
    },
    {
     "data": {
      "text/plain": [
       "126"
      ]
     },
     "execution_count": 51,
     "metadata": {},
     "output_type": "execute_result"
    }
   ],
   "source": [
    "len(strava_zone_df)\n",
    "len(new_zone_df)"
   ]
  },
  {
   "cell_type": "code",
   "execution_count": 52,
   "id": "81cd3ed7-1fbd-4dcf-96b5-7a07b7f87353",
   "metadata": {},
   "outputs": [],
   "source": [
    "# This drops all weekly_ cols since they are all recalculated later\n",
    "only_cols = ['id', 'name', 'date', 'suffer_score', 'start_date', 'Zone1', 'Zone2',\n",
    "       'Zone3', 'Zone4', 'Zone5', 'moderate', 'intense', 'week_start']\n",
    "new_zone_df = new_zone_df[only_cols]\n",
    "#new_zone_df.head()\n",
    "\n",
    "# Temporarily sort ascending by week_start and date to compute cumulative sum correctly\n",
    "temp = new_zone_df.sort_values(['week_start', 'start_date'])"
   ]
  },
  {
   "cell_type": "code",
   "execution_count": 53,
   "id": "e2754bcc-1329-4db8-923d-92a59915ecce",
   "metadata": {},
   "outputs": [
    {
     "data": {
      "text/html": [
       "<div>\n",
       "<style scoped>\n",
       "    .dataframe tbody tr th:only-of-type {\n",
       "        vertical-align: middle;\n",
       "    }\n",
       "\n",
       "    .dataframe tbody tr th {\n",
       "        vertical-align: top;\n",
       "    }\n",
       "\n",
       "    .dataframe thead th {\n",
       "        text-align: right;\n",
       "    }\n",
       "</style>\n",
       "<table border=\"1\" class=\"dataframe\">\n",
       "  <thead>\n",
       "    <tr style=\"text-align: right;\">\n",
       "      <th></th>\n",
       "      <th>weekly_intense</th>\n",
       "      <th>weekly_moderate</th>\n",
       "      <th>weekly_suffer_score</th>\n",
       "      <th>start_date</th>\n",
       "    </tr>\n",
       "  </thead>\n",
       "  <tbody>\n",
       "    <tr>\n",
       "      <th>0</th>\n",
       "      <td>55.1</td>\n",
       "      <td>139.0</td>\n",
       "      <td>68.0</td>\n",
       "      <td>2025-07-21 15:04:13+00:00</td>\n",
       "    </tr>\n",
       "    <tr>\n",
       "      <th>1</th>\n",
       "      <td>122.1</td>\n",
       "      <td>704.2</td>\n",
       "      <td>538.0</td>\n",
       "      <td>2025-07-20 13:46:19+00:00</td>\n",
       "    </tr>\n",
       "    <tr>\n",
       "      <th>2</th>\n",
       "      <td>121.6</td>\n",
       "      <td>580.1</td>\n",
       "      <td>505.0</td>\n",
       "      <td>2025-07-19 13:23:35+00:00</td>\n",
       "    </tr>\n",
       "  </tbody>\n",
       "</table>\n",
       "</div>"
      ],
      "text/plain": [
       "   weekly_intense  weekly_moderate  weekly_suffer_score  \\\n",
       "0            55.1            139.0                 68.0   \n",
       "1           122.1            704.2                538.0   \n",
       "2           121.6            580.1                505.0   \n",
       "\n",
       "                 start_date  \n",
       "0 2025-07-21 15:04:13+00:00  \n",
       "1 2025-07-20 13:46:19+00:00  \n",
       "2 2025-07-19 13:23:35+00:00  "
      ]
     },
     "execution_count": 53,
     "metadata": {},
     "output_type": "execute_result"
    }
   ],
   "source": [
    "# Calculate cumulative sum within each week for weekly_ cols\n",
    "cumulative_cols = ['intense', 'moderate', 'suffer_score']\n",
    "cumulative_sums = (\n",
    "temp\n",
    "    .groupby('week_start')[cumulative_cols]\n",
    "    .cumsum()\n",
    "    .add_prefix('weekly_')  # rename columns if needed\n",
    ")\n",
    "# Add start_date column for reference\n",
    "cumulative_sums['start_date'] = temp['start_date']\n",
    "cumulative_sums = cumulative_sums.sort_values('start_date', ascending = False)\n",
    "cumulative_sums.head(3)\n",
    "strava_zone_df = pd.merge(new_zone_df,cumulative_sums, left_on ='start_date', right_on='start_date')"
   ]
  },
  {
   "cell_type": "markdown",
   "id": "7c61549e-bad2-4be0-89e5-b53008e1c122",
   "metadata": {},
   "source": [
    "### Plotting Section"
   ]
  },
  {
   "cell_type": "code",
   "execution_count": 54,
   "id": "bf31949e-1632-4a80-a664-dbaf306827f3",
   "metadata": {},
   "outputs": [
    {
     "data": {
      "text/plain": [
       "126"
      ]
     },
     "execution_count": 54,
     "metadata": {},
     "output_type": "execute_result"
    },
    {
     "data": {
      "text/plain": [
       "126"
      ]
     },
     "execution_count": 54,
     "metadata": {},
     "output_type": "execute_result"
    }
   ],
   "source": [
    "len(cumulative_sums)\n",
    "len(strava_zone_df)"
   ]
  },
  {
   "cell_type": "code",
   "execution_count": 55,
   "id": "eae5f217-48d8-40f5-b35d-6e09ed4a0a15",
   "metadata": {},
   "outputs": [
    {
     "data": {
      "text/html": [
       "<div>\n",
       "<style scoped>\n",
       "    .dataframe tbody tr th:only-of-type {\n",
       "        vertical-align: middle;\n",
       "    }\n",
       "\n",
       "    .dataframe tbody tr th {\n",
       "        vertical-align: top;\n",
       "    }\n",
       "\n",
       "    .dataframe thead th {\n",
       "        text-align: right;\n",
       "    }\n",
       "</style>\n",
       "<table border=\"1\" class=\"dataframe\">\n",
       "  <thead>\n",
       "    <tr style=\"text-align: right;\">\n",
       "      <th></th>\n",
       "      <th>week_start</th>\n",
       "      <th>weekly_intense</th>\n",
       "      <th>weekly_moderate</th>\n",
       "      <th>weekly_suffer_score</th>\n",
       "      <th>week</th>\n",
       "    </tr>\n",
       "  </thead>\n",
       "  <tbody>\n",
       "    <tr>\n",
       "      <th>28</th>\n",
       "      <td>2025-07-21</td>\n",
       "      <td>55.1</td>\n",
       "      <td>139.0</td>\n",
       "      <td>68.0</td>\n",
       "      <td>Jul 21</td>\n",
       "    </tr>\n",
       "    <tr>\n",
       "      <th>27</th>\n",
       "      <td>2025-07-14</td>\n",
       "      <td>122.1</td>\n",
       "      <td>704.2</td>\n",
       "      <td>538.0</td>\n",
       "      <td>Jul 14</td>\n",
       "    </tr>\n",
       "    <tr>\n",
       "      <th>26</th>\n",
       "      <td>2025-07-07</td>\n",
       "      <td>155.5</td>\n",
       "      <td>767.9</td>\n",
       "      <td>546.0</td>\n",
       "      <td>Jul 07</td>\n",
       "    </tr>\n",
       "    <tr>\n",
       "      <th>25</th>\n",
       "      <td>2025-06-30</td>\n",
       "      <td>143.9</td>\n",
       "      <td>794.7</td>\n",
       "      <td>597.0</td>\n",
       "      <td>Jun 30</td>\n",
       "    </tr>\n",
       "    <tr>\n",
       "      <th>24</th>\n",
       "      <td>2025-06-23</td>\n",
       "      <td>259.7</td>\n",
       "      <td>479.1</td>\n",
       "      <td>662.0</td>\n",
       "      <td>Jun 23</td>\n",
       "    </tr>\n",
       "  </tbody>\n",
       "</table>\n",
       "</div>"
      ],
      "text/plain": [
       "   week_start  weekly_intense  weekly_moderate  weekly_suffer_score    week\n",
       "28 2025-07-21            55.1            139.0                 68.0  Jul 21\n",
       "27 2025-07-14           122.1            704.2                538.0  Jul 14\n",
       "26 2025-07-07           155.5            767.9                546.0  Jul 07\n",
       "25 2025-06-30           143.9            794.7                597.0  Jun 30\n",
       "24 2025-06-23           259.7            479.1                662.0  Jun 23"
      ]
     },
     "execution_count": 55,
     "metadata": {},
     "output_type": "execute_result"
    }
   ],
   "source": [
    "week_summary = build_week_summary(strava_zone_df)\n",
    "week_summary.sort_values('week_start',ascending=False).head()"
   ]
  },
  {
   "cell_type": "code",
   "execution_count": 56,
   "id": "aa60c814-62ab-4aa8-b6f1-842e7d0bc7a1",
   "metadata": {},
   "outputs": [
    {
     "data": {
      "image/png": "[encoded data removed]",
      "text/plain": [
       "<Figure size 1008x432 with 1 Axes>"
      ]
     },
     "metadata": {},
     "output_type": "display_data"
    }
   ],
   "source": [
    "ax = week_summary.plot(\n",
    "    y=['weekly_moderate','weekly_intense'],\n",
    "    x='week',\n",
    "    kind='bar', \n",
    "    stacked=True, \n",
    "    figsize=(14, 6), \n",
    "    color=['#98FB98', '#F08080']\n",
    ")\n",
    "\n",
    "# Overlay line plot for 'weekly_suffer_score'\n",
    "line = ax.plot(\n",
    "    week_summary[\"week\"],\n",
    "    week_summary[\"weekly_suffer_score\"],\n",
    "    color=\"black\",\n",
    "    marker=\"o\",\n",
    "    linewidth=2,\n",
    "    label=\"Suffer_Score\"  \n",
    ")\n",
    "\n",
    "plt.title(\"Time in Heart Rate Zones\");\n",
    "plt.xlabel(\"Activity ID\");\n",
    "plt.ylabel(\"Time (minutes)\");\n",
    "plt.legend(title=\"Zone\");\n",
    "plt.xticks(rotation=45, ha='right');\n",
    "plt.tight_layout();\n",
    "plt.show();"
   ]
  },
  {
   "cell_type": "markdown",
   "id": "6f617a86-5860-4fbc-9590-57af1a1640a8",
   "metadata": {},
   "source": [
    "### Drilling down a specific week"
   ]
  },
  {
   "cell_type": "code",
   "execution_count": 25,
   "id": "b65baccb-f8e0-4fed-b822-cd0d421e0f6d",
   "metadata": {},
   "outputs": [],
   "source": [
    "# default start is current week\n",
    "start = week_summary.sort_values('week_start',ascending=False).iloc[0,0]\n",
    "#start = \"2025-01-27\" # <-- select custom week starting datea"
   ]
  },
  {
   "cell_type": "code",
   "execution_count": 26,
   "id": "baea0f23-f7eb-4b30-b2e6-8181acf2959a",
   "metadata": {},
   "outputs": [
    {
     "data": {
      "text/html": [
       "<div>\n",
       "<style scoped>\n",
       "    .dataframe tbody tr th:only-of-type {\n",
       "        vertical-align: middle;\n",
       "    }\n",
       "\n",
       "    .dataframe tbody tr th {\n",
       "        vertical-align: top;\n",
       "    }\n",
       "\n",
       "    .dataframe thead th {\n",
       "        text-align: right;\n",
       "    }\n",
       "</style>\n",
       "<table border=\"1\" class=\"dataframe\">\n",
       "  <thead>\n",
       "    <tr style=\"text-align: right;\">\n",
       "      <th></th>\n",
       "      <th>id</th>\n",
       "      <th>name</th>\n",
       "      <th>date</th>\n",
       "      <th>sport</th>\n",
       "      <th>distance</th>\n",
       "      <th>time</th>\n",
       "      <th>speed</th>\n",
       "      <th>elev_gain</th>\n",
       "      <th>avg_HR</th>\n",
       "      <th>max_HR</th>\n",
       "      <th>suffer_score</th>\n",
       "    </tr>\n",
       "  </thead>\n",
       "  <tbody>\n",
       "    <tr>\n",
       "      <th>0</th>\n",
       "      <td>15189628842</td>\n",
       "      <td>Poorman and Chapman</td>\n",
       "      <td>2025-07-21</td>\n",
       "      <td>Ride</td>\n",
       "      <td>35.5</td>\n",
       "      <td>3:14</td>\n",
       "      <td>11.0</td>\n",
       "      <td>2814.6</td>\n",
       "      <td>117.3</td>\n",
       "      <td>144.0</td>\n",
       "      <td>68.0</td>\n",
       "    </tr>\n",
       "  </tbody>\n",
       "</table>\n",
       "</div>"
      ],
      "text/plain": [
       "            id                 name        date sport  distance  time speed  \\\n",
       "0  15189628842  Poorman and Chapman  2025-07-21  Ride      35.5  3:14  11.0   \n",
       "\n",
       "   elev_gain  avg_HR  max_HR  suffer_score  \n",
       "0     2814.6   117.3   144.0          68.0  "
      ]
     },
     "execution_count": 26,
     "metadata": {},
     "output_type": "execute_result"
    },
    {
     "data": {
      "text/html": [
       "<div>\n",
       "<style scoped>\n",
       "    .dataframe tbody tr th:only-of-type {\n",
       "        vertical-align: middle;\n",
       "    }\n",
       "\n",
       "    .dataframe tbody tr th {\n",
       "        vertical-align: top;\n",
       "    }\n",
       "\n",
       "    .dataframe thead th {\n",
       "        text-align: right;\n",
       "    }\n",
       "</style>\n",
       "<table border=\"1\" class=\"dataframe\">\n",
       "  <thead>\n",
       "    <tr style=\"text-align: right;\">\n",
       "      <th></th>\n",
       "      <th>name</th>\n",
       "      <th>date</th>\n",
       "      <th>Zone1</th>\n",
       "      <th>Zone2</th>\n",
       "      <th>Zone3</th>\n",
       "      <th>Zone4</th>\n",
       "      <th>Zone5</th>\n",
       "      <th>moderate</th>\n",
       "      <th>intense</th>\n",
       "      <th>week_start</th>\n",
       "      <th>weekly_intense</th>\n",
       "    </tr>\n",
       "  </thead>\n",
       "  <tbody>\n",
       "    <tr>\n",
       "      <th>0</th>\n",
       "      <td>Poorman and Chapman</td>\n",
       "      <td>2025-07-21</td>\n",
       "      <td>29.1</td>\n",
       "      <td>110.0</td>\n",
       "      <td>35.3</td>\n",
       "      <td>19.8</td>\n",
       "      <td>0.0</td>\n",
       "      <td>139.0</td>\n",
       "      <td>55.1</td>\n",
       "      <td>2025-07-21</td>\n",
       "      <td>55.1</td>\n",
       "    </tr>\n",
       "  </tbody>\n",
       "</table>\n",
       "</div>"
      ],
      "text/plain": [
       "                  name        date  Zone1  Zone2  Zone3  Zone4  Zone5  \\\n",
       "0  Poorman and Chapman  2025-07-21   29.1  110.0   35.3   19.8    0.0   \n",
       "\n",
       "   moderate  intense week_start  weekly_intense  \n",
       "0     139.0     55.1 2025-07-21            55.1  "
      ]
     },
     "execution_count": 26,
     "metadata": {},
     "output_type": "execute_result"
    }
   ],
   "source": [
    "week_df, zone_week_df = display_detail_week(start, strava_df, strava_zone_df)\n",
    "week_df.sort_values('start_date',ascending=False)[['id','name', 'date', 'sport', 'distance', 'time', 'speed', 'elev_gain',\n",
    "       'avg_HR', 'max_HR', 'suffer_score']]\n",
    "zone_week_df.sort_values('start_date',ascending=False)[['name','date','Zone1', 'Zone2',\n",
    "       'Zone3', 'Zone4', 'Zone5', 'moderate', 'intense', 'week_start',\n",
    "       'weekly_intense']]"
   ]
  },
  {
   "cell_type": "code",
   "execution_count": 27,
   "id": "625deb40-1d9f-4cbd-987f-c4ad79b55651",
   "metadata": {},
   "outputs": [
    {
     "data": {
      "text/html": [
       "<div>\n",
       "<style scoped>\n",
       "    .dataframe tbody tr th:only-of-type {\n",
       "        vertical-align: middle;\n",
       "    }\n",
       "\n",
       "    .dataframe tbody tr th {\n",
       "        vertical-align: top;\n",
       "    }\n",
       "\n",
       "    .dataframe thead th {\n",
       "        text-align: right;\n",
       "    }\n",
       "</style>\n",
       "<table border=\"1\" class=\"dataframe\">\n",
       "  <thead>\n",
       "    <tr style=\"text-align: right;\">\n",
       "      <th></th>\n",
       "      <th>name</th>\n",
       "      <th>date</th>\n",
       "      <th>intense</th>\n",
       "    </tr>\n",
       "  </thead>\n",
       "  <tbody>\n",
       "    <tr>\n",
       "      <th>0</th>\n",
       "      <td>Poorman and Chapman</td>\n",
       "      <td>2025-07-21</td>\n",
       "      <td>55.1</td>\n",
       "    </tr>\n",
       "    <tr>\n",
       "      <th>1</th>\n",
       "      <td>Sandstone Ranch - recovery ride</td>\n",
       "      <td>2025-07-20</td>\n",
       "      <td>0.5</td>\n",
       "    </tr>\n",
       "    <tr>\n",
       "      <th>2</th>\n",
       "      <td>Raymond to Ward - that was brutal</td>\n",
       "      <td>2025-07-19</td>\n",
       "      <td>43.7</td>\n",
       "    </tr>\n",
       "    <tr>\n",
       "      <th>3</th>\n",
       "      <td>Sunshine to GoldHill return via Salina</td>\n",
       "      <td>2025-07-17</td>\n",
       "      <td>64.8</td>\n",
       "    </tr>\n",
       "    <tr>\n",
       "      <th>4</th>\n",
       "      <td>North Sky and Skyline Ranch</td>\n",
       "      <td>2025-07-15</td>\n",
       "      <td>13.1</td>\n",
       "    </tr>\n",
       "    <tr>\n",
       "      <th>5</th>\n",
       "      <td>Recovery gravel in the early morning</td>\n",
       "      <td>2025-07-13</td>\n",
       "      <td>4.1</td>\n",
       "    </tr>\n",
       "    <tr>\n",
       "      <th>6</th>\n",
       "      <td>Gross Reservoir Loop Hwy72 - CR97 and Magnolia</td>\n",
       "      <td>2025-07-12</td>\n",
       "      <td>83.6</td>\n",
       "    </tr>\n",
       "    <tr>\n",
       "      <th>7</th>\n",
       "      <td>Nederland exploration and exploitation</td>\n",
       "      <td>2025-07-09</td>\n",
       "      <td>29.4</td>\n",
       "    </tr>\n",
       "    <tr>\n",
       "      <th>8</th>\n",
       "      <td>Jamestown and eats at Lucky's Bakery</td>\n",
       "      <td>2025-07-08</td>\n",
       "      <td>26.9</td>\n",
       "    </tr>\n",
       "    <tr>\n",
       "      <th>9</th>\n",
       "      <td>Old Stage</td>\n",
       "      <td>2025-07-07</td>\n",
       "      <td>11.4</td>\n",
       "    </tr>\n",
       "    <tr>\n",
       "      <th>...</th>\n",
       "      <td>...</td>\n",
       "      <td>...</td>\n",
       "      <td>...</td>\n",
       "    </tr>\n",
       "    <tr>\n",
       "      <th>116</th>\n",
       "      <td>Mesa trail to Chautauqua</td>\n",
       "      <td>2025-01-24</td>\n",
       "      <td>8.3</td>\n",
       "    </tr>\n",
       "    <tr>\n",
       "      <th>117</th>\n",
       "      <td>Anemone snow hike</td>\n",
       "      <td>2025-01-21</td>\n",
       "      <td>0.0</td>\n",
       "    </tr>\n",
       "    <tr>\n",
       "      <th>118</th>\n",
       "      <td>X-country ski out the back door</td>\n",
       "      <td>2025-01-19</td>\n",
       "      <td>0.0</td>\n",
       "    </tr>\n",
       "    <tr>\n",
       "      <th>119</th>\n",
       "      <td>Sanitas</td>\n",
       "      <td>2025-01-17</td>\n",
       "      <td>33.8</td>\n",
       "    </tr>\n",
       "    <tr>\n",
       "      <th>120</th>\n",
       "      <td>NCAR and Southern Sun with friends</td>\n",
       "      <td>2025-01-16</td>\n",
       "      <td>17.5</td>\n",
       "    </tr>\n",
       "    <tr>\n",
       "      <th>121</th>\n",
       "      <td>Davidson Mesa</td>\n",
       "      <td>2025-01-15</td>\n",
       "      <td>4.0</td>\n",
       "    </tr>\n",
       "    <tr>\n",
       "      <th>122</th>\n",
       "      <td>Coot Lake loop - Brrrr!</td>\n",
       "      <td>2025-01-13</td>\n",
       "      <td>36.9</td>\n",
       "    </tr>\n",
       "    <tr>\n",
       "      <th>123</th>\n",
       "      <td>White Rock w/CB</td>\n",
       "      <td>2025-01-11</td>\n",
       "      <td>95.1</td>\n",
       "    </tr>\n",
       "    <tr>\n",
       "      <th>124</th>\n",
       "      <td>Stairway to Heaven (Mt Sanitas East ridge)</td>\n",
       "      <td>2025-01-09</td>\n",
       "      <td>0.0</td>\n",
       "    </tr>\n",
       "    <tr>\n",
       "      <th>125</th>\n",
       "      <td>Sanitas ridge - Lion's Lair return w/J</td>\n",
       "      <td>2025-01-04</td>\n",
       "      <td>79.8</td>\n",
       "    </tr>\n",
       "  </tbody>\n",
       "</table>\n",
       "<p>126 rows × 3 columns</p>\n",
       "</div>"
      ],
      "text/plain": [
       "                                               name        date  intense\n",
       "0                               Poorman and Chapman  2025-07-21     55.1\n",
       "1                   Sandstone Ranch - recovery ride  2025-07-20      0.5\n",
       "2                 Raymond to Ward - that was brutal  2025-07-19     43.7\n",
       "3            Sunshine to GoldHill return via Salina  2025-07-17     64.8\n",
       "4                       North Sky and Skyline Ranch  2025-07-15     13.1\n",
       "5              Recovery gravel in the early morning  2025-07-13      4.1\n",
       "6    Gross Reservoir Loop Hwy72 - CR97 and Magnolia  2025-07-12     83.6\n",
       "7            Nederland exploration and exploitation  2025-07-09     29.4\n",
       "8              Jamestown and eats at Lucky's Bakery  2025-07-08     26.9\n",
       "9                                         Old Stage  2025-07-07     11.4\n",
       "..                                              ...         ...      ...\n",
       "116                        Mesa trail to Chautauqua  2025-01-24      8.3\n",
       "117                               Anemone snow hike  2025-01-21      0.0\n",
       "118                 X-country ski out the back door  2025-01-19      0.0\n",
       "119                                         Sanitas  2025-01-17     33.8\n",
       "120              NCAR and Southern Sun with friends  2025-01-16     17.5\n",
       "121                                   Davidson Mesa  2025-01-15      4.0\n",
       "122                         Coot Lake loop - Brrrr!  2025-01-13     36.9\n",
       "123                                 White Rock w/CB  2025-01-11     95.1\n",
       "124      Stairway to Heaven (Mt Sanitas East ridge)  2025-01-09      0.0\n",
       "125          Sanitas ridge - Lion's Lair return w/J  2025-01-04     79.8\n",
       "\n",
       "[126 rows x 3 columns]"
      ]
     },
     "execution_count": 27,
     "metadata": {},
     "output_type": "execute_result"
    }
   ],
   "source": [
    "# Set number of rows to display\n",
    "pd.set_option('display.max_rows', 20) #if set to None this will show all\n",
    "pd.set_option('display.min_rows', 20)  # adjust to help override auto-truncation\n",
    "\n",
    "strava_zone_df[['name','date','intense']]\n",
    "pd.reset_option('display.max_rows')"
   ]
  },
  {
   "cell_type": "markdown",
   "id": "7201dc71-222d-43cd-ad88-84d63baeb2e7",
   "metadata": {},
   "source": [
    "### Saving data"
   ]
  },
  {
   "cell_type": "code",
   "execution_count": 28,
   "id": "71e356ba-ced8-4e7e-b5a8-f5748c9af7f0",
   "metadata": {},
   "outputs": [],
   "source": [
    "strava_df = strava_df.sort_values('id',ascending=False)\n",
    "strava_zone_df = strava_zone_df.sort_values('id',ascending=False)"
   ]
  },
  {
   "cell_type": "code",
   "execution_count": 29,
   "id": "4b34c832-3aef-4086-9d57-adcfee9329d1",
   "metadata": {},
   "outputs": [
    {
     "data": {
      "text/html": [
       "<div>\n",
       "<style scoped>\n",
       "    .dataframe tbody tr th:only-of-type {\n",
       "        vertical-align: middle;\n",
       "    }\n",
       "\n",
       "    .dataframe tbody tr th {\n",
       "        vertical-align: top;\n",
       "    }\n",
       "\n",
       "    .dataframe thead th {\n",
       "        text-align: right;\n",
       "    }\n",
       "</style>\n",
       "<table border=\"1\" class=\"dataframe\">\n",
       "  <thead>\n",
       "    <tr style=\"text-align: right;\">\n",
       "      <th></th>\n",
       "      <th>id</th>\n",
       "      <th>name</th>\n",
       "      <th>date</th>\n",
       "      <th>sport</th>\n",
       "      <th>distance</th>\n",
       "      <th>time</th>\n",
       "      <th>speed</th>\n",
       "      <th>elev_gain</th>\n",
       "      <th>avg_HR</th>\n",
       "      <th>max_HR</th>\n",
       "      <th>suffer_score</th>\n",
       "      <th>time-minutes</th>\n",
       "      <th>average_speed</th>\n",
       "      <th>start_date</th>\n",
       "    </tr>\n",
       "  </thead>\n",
       "  <tbody>\n",
       "    <tr>\n",
       "      <th>0</th>\n",
       "      <td>15189628842</td>\n",
       "      <td>Poorman and Chapman</td>\n",
       "      <td>2025-07-21</td>\n",
       "      <td>Ride</td>\n",
       "      <td>35.5</td>\n",
       "      <td>3:14</td>\n",
       "      <td>11.0</td>\n",
       "      <td>2814.6</td>\n",
       "      <td>117.3</td>\n",
       "      <td>144.0</td>\n",
       "      <td>68.0</td>\n",
       "      <td>194.1</td>\n",
       "      <td>4.9</td>\n",
       "      <td>2025-07-21 15:04:13+00:00</td>\n",
       "    </tr>\n",
       "  </tbody>\n",
       "</table>\n",
       "</div>"
      ],
      "text/plain": [
       "            id                 name        date sport  distance  time speed  \\\n",
       "0  15189628842  Poorman and Chapman  2025-07-21  Ride      35.5  3:14  11.0   \n",
       "\n",
       "   elev_gain  avg_HR  max_HR  suffer_score  time-minutes  average_speed  \\\n",
       "0     2814.6   117.3   144.0          68.0         194.1            4.9   \n",
       "\n",
       "                 start_date  \n",
       "0 2025-07-21 15:04:13+00:00  "
      ]
     },
     "execution_count": 29,
     "metadata": {},
     "output_type": "execute_result"
    },
    {
     "data": {
      "text/html": [
       "<div>\n",
       "<style scoped>\n",
       "    .dataframe tbody tr th:only-of-type {\n",
       "        vertical-align: middle;\n",
       "    }\n",
       "\n",
       "    .dataframe tbody tr th {\n",
       "        vertical-align: top;\n",
       "    }\n",
       "\n",
       "    .dataframe thead th {\n",
       "        text-align: right;\n",
       "    }\n",
       "</style>\n",
       "<table border=\"1\" class=\"dataframe\">\n",
       "  <thead>\n",
       "    <tr style=\"text-align: right;\">\n",
       "      <th></th>\n",
       "      <th>id</th>\n",
       "      <th>name</th>\n",
       "      <th>date</th>\n",
       "      <th>suffer_score</th>\n",
       "      <th>start_date</th>\n",
       "      <th>Zone1</th>\n",
       "      <th>Zone2</th>\n",
       "      <th>Zone3</th>\n",
       "      <th>Zone4</th>\n",
       "      <th>Zone5</th>\n",
       "      <th>moderate</th>\n",
       "      <th>intense</th>\n",
       "      <th>week_start</th>\n",
       "      <th>weekly_intense</th>\n",
       "      <th>weekly_moderate</th>\n",
       "      <th>weekly_suffer_score</th>\n",
       "    </tr>\n",
       "  </thead>\n",
       "  <tbody>\n",
       "    <tr>\n",
       "      <th>0</th>\n",
       "      <td>15189628842</td>\n",
       "      <td>Poorman and Chapman</td>\n",
       "      <td>2025-07-21</td>\n",
       "      <td>68.0</td>\n",
       "      <td>2025-07-21 15:04:13+00:00</td>\n",
       "      <td>29.1</td>\n",
       "      <td>110.0</td>\n",
       "      <td>35.3</td>\n",
       "      <td>19.8</td>\n",
       "      <td>0.0</td>\n",
       "      <td>139.0</td>\n",
       "      <td>55.1</td>\n",
       "      <td>2025-07-21</td>\n",
       "      <td>55.1</td>\n",
       "      <td>139.0</td>\n",
       "      <td>68.0</td>\n",
       "    </tr>\n",
       "  </tbody>\n",
       "</table>\n",
       "</div>"
      ],
      "text/plain": [
       "            id                 name        date  suffer_score  \\\n",
       "0  15189628842  Poorman and Chapman  2025-07-21          68.0   \n",
       "\n",
       "                 start_date  Zone1  Zone2  Zone3  Zone4  Zone5  moderate  \\\n",
       "0 2025-07-21 15:04:13+00:00   29.1  110.0   35.3   19.8    0.0     139.0   \n",
       "\n",
       "   intense week_start  weekly_intense  weekly_moderate  weekly_suffer_score  \n",
       "0     55.1 2025-07-21            55.1            139.0                 68.0  "
      ]
     },
     "execution_count": 29,
     "metadata": {},
     "output_type": "execute_result"
    },
    {
     "name": "stdout",
     "output_type": "stream",
     "text": [
      "126\n",
      "126\n"
     ]
    }
   ],
   "source": [
    "# verify before saving\n",
    "strava_df.head(1)\n",
    "strava_zone_df.head(1)\n",
    "print(len(strava_df))\n",
    "print(len(strava_zone_df))"
   ]
  },
  {
   "cell_type": "markdown",
   "id": "ecf05fde-9a35-45b7-b3c9-471d277228bf",
   "metadata": {},
   "source": [
    "### Use save_data, and year"
   ]
  },
  {
   "cell_type": "code",
   "execution_count": 30,
   "id": "6c1aca6a-1d5a-4771-a470-08421534a5c6",
   "metadata": {},
   "outputs": [
    {
     "name": "stdout",
     "output_type": "stream",
     "text": [
      "Data saved in folder: data/2025-07-22\n"
     ]
    }
   ],
   "source": [
    "# Select year for saving\n",
    "# Data will be saved to: data/{today}\n",
    "save_data(strava_df, strava_zone_df, 2025)"
   ]
  },
  {
   "cell_type": "code",
   "execution_count": null,
   "id": "07d1d2e0-241b-4c2e-8405-c6a2c7fa1071",
   "metadata": {},
   "outputs": [],
   "source": []
  },
  {
   "cell_type": "code",
   "execution_count": null,
   "id": "0132558c-926a-4eda-983f-5040c7a93280",
   "metadata": {},
   "outputs": [],
   "source": []
  }
 ],
 "metadata": {
  "kernelspec": {
   "display_name": "Python 3",
   "language": "python",
   "name": "python3"
  },
  "language_info": {
   "codemirror_mode": {
    "name": "ipython",
    "version": 3
   },
   "file_extension": ".py",
   "mimetype": "text/x-python",
   "name": "python",
   "nbconvert_exporter": "python",
   "pygments_lexer": "ipython3",
   "version": "3.8.8"
  }
 },
 "nbformat": 4,
 "nbformat_minor": 5
}
