{
 "cells": [
  {
   "cell_type": "code",
   "execution_count": 1,
   "id": "29153aaa-856e-4d6e-b724-6ad6e791aa59",
   "metadata": {},
   "outputs": [
    {
     "data": {
      "text/plain": [
       "'/Users/edwardterrell/Desktop/Training/kindle/strava'"
      ]
     },
     "execution_count": 1,
     "metadata": {},
     "output_type": "execute_result"
    }
   ],
   "source": [
    "pwd"
   ]
  },
  {
   "cell_type": "code",
   "execution_count": 2,
   "id": "d6710164-d780-4a78-84ab-36ef6b5000f8",
   "metadata": {},
   "outputs": [
    {
     "data": {
      "text/plain": [
       "'/Users/edwardterrell/opt/anaconda3/envs/mlml/bin/python'"
      ]
     },
     "execution_count": 2,
     "metadata": {},
     "output_type": "execute_result"
    }
   ],
   "source": [
    "import requests\n",
    "import json\n",
    "import time\n",
    "import os\n",
    "import shutil\n",
    "\n",
    "from pprint import pprint\n",
    "from datetime import date,timedelta,datetime\n",
    "\n",
    "import pandas as pd\n",
    "pd.set_option('display.precision', 1)\n",
    "import warnings\n",
    "warnings.filterwarnings(\"ignore\", message=\".*will drop timezone.*\")\n",
    "\n",
    "%load_ext autoreload\n",
    "%autoreload 2\n",
    "from clean_convert import cleanup, convert_speed, order_columns, process_new_data, save_data, get_date, get_year, remove_backups\n",
    "from zones import get_zones_for_id, build_week_summary\n",
    "from plots_details import display_detail_week\n",
    "\n",
    "# import graphics programs\n",
    "import matplotlib.pyplot as plt\n",
    "import seaborn as sns\n",
    "sns.set(rc={'figure.figsize':(14,6)}) # for all future plots\n",
    "\n",
    "import sys\n",
    "sys.executable"
   ]
  },
  {
   "cell_type": "code",
   "execution_count": 3,
   "id": "f86e2403-fec5-475b-9ee0-efa17cf601f7",
   "metadata": {},
   "outputs": [],
   "source": [
    "%matplotlib inline\n",
    "from IPython.core.display import HTML\n",
    "css = open('css/style-table.css').read() + open('css/style-notebook.css').read()\n",
    "HTML('<style>{}</style>'.format(css))\n",
    "\n",
    "from IPython.core.interactiveshell import InteractiveShell\n",
    "InteractiveShell.ast_node_interactivity = \"all\""
   ]
  },
  {
   "cell_type": "code",
   "execution_count": 4,
   "id": "61801378-e8bf-4f37-a6a4-ec37fa4d8ede",
   "metadata": {},
   "outputs": [
    {
     "name": "stdout",
     "output_type": "stream",
     "text": [
      "Access token expired. Refreshing...\n",
      "Using access token: 2da75bd5a02156550ab543ea8702915b7db0861c\n",
      "{'id': 723727, 'username': 'eterrell', 'resource_state': 2, 'firstname': 'Ed', 'lastname': 'Terrell', 'bio': '', 'city': 'Boulder', 'state': 'CO', 'country': 'United States', 'sex': 'M', 'premium': True, 'summit': True, 'created_at': '2012-07-05T00:04:09Z', 'updated_at': '2025-07-09T12:38:59Z', 'badge_type_id': 1, 'weight': 61.235, 'profile_medium': 'https://dgalywyr863hv.cloudfront.net/pictures/athletes/723727/20826329/1/medium.jpg', 'profile': 'https://dgalywyr863hv.cloudfront.net/pictures/athletes/723727/20826329/1/large.jpg', 'friend': None, 'follower': None}\n"
     ]
    }
   ],
   "source": [
    "from token_manager import get_valid_access_token\n",
    "import requests\n",
    "\n",
    "access_token = get_valid_access_token()\n",
    "print(\"Using access token:\", access_token)\n",
    "\n",
    "# Make an authenticated API call\n",
    "response = requests.get(\n",
    "    'https://www.strava.com/api/v3/athlete',\n",
    "    headers={'Authorization': f'Bearer {access_token}'}\n",
    ")\n",
    "print(response.json())"
   ]
  },
  {
   "cell_type": "raw",
   "id": "716337a9-1bb1-4c30-b842-f69032168997",
   "metadata": {},
   "source": [
    "# USED ONLY IF token_manager.py isn't generating correctly\n",
    "client_id = 167221\n",
    "client_secret = 'f4df8e0dec7d9d8e725707eaf05037fcc845989d'\n",
    "auth_code = 'd973f0f86d2e56c3e7ac369809ca6b14fc814a98' # stored from last time\n",
    "\n",
    "response = requests.post(\n",
    "    'https://www.strava.com/oauth/token',\n",
    "    data={\n",
    "        'client_id': client_id,\n",
    "        'client_secret': client_secret,\n",
    "        'code': auth_code,\n",
    "        'grant_type': 'authorization_code',\n",
    "    }\n",
    ")\n",
    "# Check and save response\n",
    "if response.status_code == 200:\n",
    "    tokens = response.json()\n",
    "    print(\"✅ Tokens received:\")\n",
    "    print(json.dumps(tokens, indent=2))\n",
    "\n",
    "    # Save to tokens.json for use in token_manager.py\n",
    "    with open(\"tokens.json\", \"w\") as f:\n",
    "        json.dump(tokens, f)\n",
    "else:\n",
    "    print(\"❌ Failed to get tokens:\", response.status_code)\n",
    "    print(response.text)"
   ]
  },
  {
   "cell_type": "markdown",
   "id": "3fa71d38-4c72-4052-a4dc-fd90e4d77432",
   "metadata": {},
   "source": [
    "### Load dataframes"
   ]
  },
  {
   "cell_type": "code",
   "execution_count": 5,
   "id": "695c3577-cfb5-45d2-a1be-f372d46a4698",
   "metadata": {},
   "outputs": [
    {
     "name": "stdout",
     "output_type": "stream",
     "text": [
      "\u001b[01;34mdata\u001b[0m\n",
      "├── \u001b[01;34m2025-07-18\u001b[0m\n",
      "│   ├── \u001b[00mstrava_data_2024.pkl\u001b[0m\n",
      "│   └── \u001b[00mstrava_zone_data_2024.pkl\u001b[0m\n",
      "├── \u001b[01;34m2025-07-30\u001b[0m\n",
      "│   ├── \u001b[00mstrava_data_2025.pkl\u001b[0m\n",
      "│   └── \u001b[00mstrava_zone_data_2025.pkl\u001b[0m\n",
      "├── \u001b[00mstrava_data_2024.pkl\u001b[0m\n",
      "├── \u001b[00mstrava_data_2025.pkl\u001b[0m\n",
      "├── \u001b[00mstrava_data_empty.pkl\u001b[0m\n",
      "├── \u001b[00mstrava_zone_data_2024.pkl\u001b[0m\n",
      "├── \u001b[00mstrava_zone_data_2025.pkl\u001b[0m\n",
      "└── \u001b[00mstrava_zone_data_empty.pkl\u001b[0m\n",
      "\n",
      "3 directories, 10 files\n"
     ]
    }
   ],
   "source": [
    "# Loading empty dfs for user to start from scratch\n",
    "strava_df = pd.read_pickle(f\"data/strava_data_empty.pkl\")\n",
    "strava_zone_df = pd.read_pickle(f\"data/strava_zone_data_empty.pkl\")\n",
    "!tree data"
   ]
  },
  {
   "cell_type": "markdown",
   "id": "216a56ff-d00f-4a73-8743-981037047842",
   "metadata": {},
   "source": [
    "### Select date range and year"
   ]
  },
  {
   "cell_type": "code",
   "execution_count": 6,
   "id": "9370421f-3af8-45c4-8914-1a080f16f511",
   "metadata": {},
   "outputs": [
    {
     "name": "stdin",
     "output_type": "stream",
     "text": [
      "Enter folder date or empty for None [2025-07-31]:  2025-07-30\n"
     ]
    },
    {
     "name": "stdout",
     "output_type": "stream",
     "text": [
      "✅ Folder selected: 2025-07-30\n"
     ]
    },
    {
     "name": "stdin",
     "output_type": "stream",
     "text": [
      "Enter year [2025]:  \n"
     ]
    },
    {
     "name": "stdout",
     "output_type": "stream",
     "text": [
      "✅ Year selected: 2025\n"
     ]
    }
   ],
   "source": [
    "# select 'empty' to start new dfs from scratch\n",
    "# Default values\n",
    "today = date.today().strftime('%Y-%m-%d')\n",
    "yesterday = (date.today() - timedelta(days=1)).strftime('%Y-%m-%d')\n",
    "tomorrow = (date.today() + timedelta(days=1)).strftime('%Y-%m-%d')\n",
    "\n",
    "# Get folder name and year from user\n",
    "my_folder = get_date(\"Enter folder date or empty for None\", default=yesterday)\n",
    "print(f\"✅ Folder selected: {my_folder}\")\n",
    "if my_folder is None:\n",
    "    print(\"📭 Empty data mode selected. Skipping further input.\")\n",
    "else:\n",
    "    # Get year from user\n",
    "    year = get_year(\"Enter year\", default='2025')\n",
    "    print(f\"✅ Year selected: {year}\")\n",
    "    # Reload dfs and confirm lengths\n",
    "    strava_df = pd.read_pickle(f\"data/{my_folder}/strava_data_{year}.pkl\")\n",
    "    strava_zone_df = pd.read_pickle(f\"data/{my_folder}/strava_zone_data_{year}.pkl\")"
   ]
  },
  {
   "cell_type": "code",
   "execution_count": 7,
   "id": "4eece22c-63a3-4e0a-8d4e-211496866d0e",
   "metadata": {},
   "outputs": [
    {
     "name": "stdout",
     "output_type": "stream",
     "text": [
      "There are 133 activities in strava_df.\n",
      "There are 133 activities in strava_zone_df.\n"
     ]
    }
   ],
   "source": [
    "# confirm lengths and assign starting length to length_df for later comparision\n",
    "length_df = len(strava_df)\n",
    "print (f'There are {len(strava_df)} activities in strava_df.')\n",
    "print (f'There are {len(strava_zone_df)} activities in strava_zone_df.')"
   ]
  },
  {
   "cell_type": "code",
   "execution_count": 8,
   "id": "faabedc0-335a-4fc3-862b-6ee2213b57a2",
   "metadata": {},
   "outputs": [
    {
     "data": {
      "text/html": [
       "<div>\n",
       "<style scoped>\n",
       "    .dataframe tbody tr th:only-of-type {\n",
       "        vertical-align: middle;\n",
       "    }\n",
       "\n",
       "    .dataframe tbody tr th {\n",
       "        vertical-align: top;\n",
       "    }\n",
       "\n",
       "    .dataframe thead th {\n",
       "        text-align: right;\n",
       "    }\n",
       "</style>\n",
       "<table border=\"1\" class=\"dataframe\">\n",
       "  <thead>\n",
       "    <tr style=\"text-align: right;\">\n",
       "      <th></th>\n",
       "      <th>id</th>\n",
       "      <th>name</th>\n",
       "      <th>date</th>\n",
       "      <th>sport</th>\n",
       "      <th>distance</th>\n",
       "      <th>time</th>\n",
       "      <th>speed</th>\n",
       "      <th>elev_gain</th>\n",
       "      <th>avg_HR</th>\n",
       "      <th>max_HR</th>\n",
       "      <th>suffer_score</th>\n",
       "      <th>time-minutes</th>\n",
       "      <th>average_speed</th>\n",
       "      <th>start_date</th>\n",
       "    </tr>\n",
       "  </thead>\n",
       "  <tbody>\n",
       "    <tr>\n",
       "      <th>0</th>\n",
       "      <td>15287217614</td>\n",
       "      <td>Walden Ponds - first time out since hamstring ...</td>\n",
       "      <td>2025-07-30</td>\n",
       "      <td>Run</td>\n",
       "      <td>3.2</td>\n",
       "      <td>0:34</td>\n",
       "      <td>10:39</td>\n",
       "      <td>28.2</td>\n",
       "      <td>152.8</td>\n",
       "      <td>183.0</td>\n",
       "      <td>9.0</td>\n",
       "      <td>34.0</td>\n",
       "      <td>2.5</td>\n",
       "      <td>2025-07-30 13:38:47+00:00</td>\n",
       "    </tr>\n",
       "  </tbody>\n",
       "</table>\n",
       "</div>"
      ],
      "text/plain": [
       "            id                                               name        date  \\\n",
       "0  15287217614  Walden Ponds - first time out since hamstring ...  2025-07-30   \n",
       "\n",
       "  sport  distance  time  speed  elev_gain  avg_HR  max_HR  suffer_score  \\\n",
       "0   Run       3.2  0:34  10:39       28.2   152.8   183.0           9.0   \n",
       "\n",
       "   time-minutes  average_speed                start_date  \n",
       "0          34.0            2.5 2025-07-30 13:38:47+00:00  "
      ]
     },
     "execution_count": 8,
     "metadata": {},
     "output_type": "execute_result"
    },
    {
     "data": {
      "text/html": [
       "<div>\n",
       "<style scoped>\n",
       "    .dataframe tbody tr th:only-of-type {\n",
       "        vertical-align: middle;\n",
       "    }\n",
       "\n",
       "    .dataframe tbody tr th {\n",
       "        vertical-align: top;\n",
       "    }\n",
       "\n",
       "    .dataframe thead th {\n",
       "        text-align: right;\n",
       "    }\n",
       "</style>\n",
       "<table border=\"1\" class=\"dataframe\">\n",
       "  <thead>\n",
       "    <tr style=\"text-align: right;\">\n",
       "      <th></th>\n",
       "      <th>id</th>\n",
       "      <th>name</th>\n",
       "      <th>date</th>\n",
       "      <th>suffer_score</th>\n",
       "      <th>start_date</th>\n",
       "      <th>Zone1</th>\n",
       "      <th>Zone2</th>\n",
       "      <th>Zone3</th>\n",
       "      <th>Zone4</th>\n",
       "      <th>Zone5</th>\n",
       "      <th>moderate</th>\n",
       "      <th>intense</th>\n",
       "      <th>week_start</th>\n",
       "      <th>HR-value</th>\n",
       "      <th>weekly_intense</th>\n",
       "      <th>weekly_moderate</th>\n",
       "      <th>weekly_suffer_score</th>\n",
       "      <th>weekly_HR-value</th>\n",
       "    </tr>\n",
       "  </thead>\n",
       "  <tbody>\n",
       "    <tr>\n",
       "      <th>0</th>\n",
       "      <td>15287217614</td>\n",
       "      <td>Walden Ponds - first time out since hamstring ...</td>\n",
       "      <td>2025-07-30</td>\n",
       "      <td>9.0</td>\n",
       "      <td>2025-07-30 13:38:47+00:00</td>\n",
       "      <td>1.7e-02</td>\n",
       "      <td>26.7</td>\n",
       "      <td>0.2</td>\n",
       "      <td>7.1</td>\n",
       "      <td>0.0</td>\n",
       "      <td>26.7</td>\n",
       "      <td>7.3</td>\n",
       "      <td>2025-07-28</td>\n",
       "      <td>20.6</td>\n",
       "      <td>35.8</td>\n",
       "      <td>351.6</td>\n",
       "      <td>89.0</td>\n",
       "      <td>137.3</td>\n",
       "    </tr>\n",
       "  </tbody>\n",
       "</table>\n",
       "</div>"
      ],
      "text/plain": [
       "            id                                               name        date  \\\n",
       "0  15287217614  Walden Ponds - first time out since hamstring ...  2025-07-30   \n",
       "\n",
       "   suffer_score                start_date    Zone1  Zone2  Zone3  Zone4  \\\n",
       "0           9.0 2025-07-30 13:38:47+00:00  1.7e-02   26.7    0.2    7.1   \n",
       "\n",
       "   Zone5  moderate  intense week_start  HR-value  weekly_intense  \\\n",
       "0    0.0      26.7      7.3 2025-07-28      20.6            35.8   \n",
       "\n",
       "   weekly_moderate  weekly_suffer_score  weekly_HR-value  \n",
       "0            351.6                 89.0            137.3  "
      ]
     },
     "execution_count": 8,
     "metadata": {},
     "output_type": "execute_result"
    }
   ],
   "source": [
    "strava_df.head(1)\n",
    "strava_zone_df.head(1)"
   ]
  },
  {
   "cell_type": "markdown",
   "id": "cd731c6a-f11c-4769-8dee-24243277a6af",
   "metadata": {},
   "source": [
    "### Update a specific activity"
   ]
  },
  {
   "cell_type": "raw",
   "id": "9b110de5-c82d-4be5-b77b-b6639f02491c",
   "metadata": {},
   "source": [
    "# to update a specific id with new info:\n",
    "# change this cell to code from raw\n",
    "# Using id select the activity to be delted in both: strava_df, strava_zone_df\n",
    "strava_df = strava_df[strava_df['id'] != 13504452781]\n",
    "strava_zone_df = strava_zone_df[strava_zone_df['id'] != 13504452781]\n",
    "print(len(strava_df))\n",
    "print(len(strava_zone_df))\n",
    "\n",
    "#Then select a start time to encompass that activity date"
   ]
  },
  {
   "cell_type": "markdown",
   "id": "861b5af7-0aca-4777-8170-7feb41a74200",
   "metadata": {},
   "source": [
    "### Recent activities only!"
   ]
  },
  {
   "cell_type": "code",
   "execution_count": 9,
   "id": "e3b5dfbb-e60a-44bc-ad68-2f8661827f48",
   "metadata": {},
   "outputs": [
    {
     "name": "stdin",
     "output_type": "stream",
     "text": [
      "Enter START date [2025-07-31]:  \n",
      "Enter END date [2025-08-02]:  \n"
     ]
    },
    {
     "name": "stdout",
     "output_type": "stream",
     "text": [
      "\n",
      "✅ Date range selected:\n",
      "Start: 2025-07-31\n",
      "End:   2025-08-02\n"
     ]
    }
   ],
   "source": [
    "# Get start and end dates from user\n",
    "start_date_str = get_date(\"Enter START date\", default=yesterday)\n",
    "end_date_str = get_date(\"Enter END date\", default=tomorrow)\n",
    "\n",
    "print(f\"\\n✅ Date range selected:\\nStart: {start_date_str}\\nEnd:   {end_date_str}\")\n"
   ]
  },
  {
   "cell_type": "code",
   "execution_count": 10,
   "id": "d996046f-d2c9-4230-a2c5-bdae52b38e9d",
   "metadata": {},
   "outputs": [
    {
     "name": "stdout",
     "output_type": "stream",
     "text": [
      "\n",
      "ID: 15310444923, Name: Logan Mill, Date: 2025-08-01T13:35:02Z\n"
     ]
    }
   ],
   "source": [
    "# Desired number of activities for upload\n",
    "num_of_activities_for_upload = 50 #select maximum desired\n",
    "\n",
    "# change date to unix integer format with mktime\n",
    "start_date = int(time.mktime(time.strptime(start_date_str, '%Y-%m-%d')))\n",
    "end_date = int(time.mktime(time.strptime(end_date_str, '%Y-%m-%d')))\n",
    "print()\n",
    "\n",
    "# strava url\n",
    "url = \"https://www.strava.com/api/v3/athlete/activities\"\n",
    "headers = {\"Authorization\": f\"Bearer {access_token}\"}\n",
    "params = {\n",
    "    \"before\": end_date,\n",
    "    \"after\": start_date,\n",
    "    \"per_page\": 200,  # max per request\n",
    "    \"page\": 1\n",
    "}\n",
    "activities = []\n",
    "\n",
    "stop_fetching = False\n",
    "while True:\n",
    "    response = requests.get(url, headers=headers, params=params)\n",
    "    data = response.json()\n",
    "    if not data or stop_fetching:\n",
    "        # breaks out of while loop\n",
    "        break\n",
    "        \n",
    "    for activity in data:\n",
    "        # change date to unix integer format\n",
    "        activity_date = int(datetime.strptime(activity['start_date'], \"%Y-%m-%dT%H:%M:%SZ\").timestamp())\n",
    "        print(f\"ID: {activity['id']}, Name: {activity['name']}, Date: {activity['start_date']}\")\n",
    "        # set number of activites (strava maximum is 100/15 minutes)\n",
    "        if len(activities) >= num_of_activities_for_upload:\n",
    "            stop_fetching = True\n",
    "            # breaks out of for loop only\n",
    "            break\n",
    "        activities.append(activity)\n",
    "    params[\"page\"] += 1"
   ]
  },
  {
   "cell_type": "code",
   "execution_count": 11,
   "id": "aafab648-08de-42f1-9832-fc892ea5843f",
   "metadata": {},
   "outputs": [
    {
     "name": "stdout",
     "output_type": "stream",
     "text": [
      "\n",
      "You have 1 activity to process\n"
     ]
    }
   ],
   "source": [
    "# Build out strava_df with only the necessary columns\n",
    "recent_df = pd.DataFrame(activities)\n",
    "cols_needed = ['id','name', 'distance', 'moving_time','total_elevation_gain', 'sport_type',\n",
    "          'average_speed', 'average_heartrate','max_heartrate', 'suffer_score','start_date']\n",
    "recent_df = recent_df.loc[:,cols_needed]\n",
    "recent_df = recent_df.sort_values('start_date',ascending=False) \n",
    "\n",
    "# This step does the comparison between recent_df and strava_df\n",
    "# strava_df holds previously saved data\n",
    "\n",
    "if strava_df.empty:\n",
    "    new_activities_df = recent_df.copy()\n",
    "else:\n",
    "    new_activities_df = recent_df[~recent_df.id.isin(strava_df.id)].copy()\n",
    "    \n",
    "# display number of new activities\n",
    "print(f'You have {len(new_activities_df)} activity to process')"
   ]
  },
  {
   "cell_type": "code",
   "execution_count": 12,
   "id": "626c173e-119e-4913-9feb-cf5171110edc",
   "metadata": {},
   "outputs": [
    {
     "name": "stdout",
     "output_type": "stream",
     "text": [
      "5.31\n",
      "we are in convert_speed\n"
     ]
    }
   ],
   "source": [
    "strava_check = process_new_data(new_activities_df, strava_df)"
   ]
  },
  {
   "cell_type": "code",
   "execution_count": 13,
   "id": "3df519d9-86b1-4f06-9ae0-bb3b5f00d270",
   "metadata": {},
   "outputs": [],
   "source": [
    "if strava_check is None:\n",
    "    print('strava_df not updated')\n",
    "else:\n",
    "    strava_df = strava_check"
   ]
  },
  {
   "cell_type": "code",
   "execution_count": 14,
   "id": "005fd0ff-01bc-4227-b44d-7667f6a65654",
   "metadata": {},
   "outputs": [
    {
     "name": "stdout",
     "output_type": "stream",
     "text": [
      "You haved processed 1 activities. There are now 134 activities in strava_df.\n"
     ]
    }
   ],
   "source": [
    "print (f'You haved processed {len(strava_df)- length_df} activities. There are now {len(strava_df)} activities in strava_df.')"
   ]
  },
  {
   "cell_type": "markdown",
   "id": "bfb517e1-0043-4303-9d16-a8e64be891b3",
   "metadata": {},
   "source": [
    "### Get Zone data"
   ]
  },
  {
   "cell_type": "raw",
   "id": "4540d492-8e72-4698-9bae-10b7bb7ddca7",
   "metadata": {},
   "source": [
    "zone 1           <101\n",
    "zone 2 Moderate  101-118\n",
    "zone 3 Tempo     118 - 132\n",
    "zone 4 Threshold 132 - 147\n",
    "zone 5 Anaerobic > 147"
   ]
  },
  {
   "cell_type": "code",
   "execution_count": 15,
   "id": "29d31c0b-ac72-4eea-9435-895aab13f5e8",
   "metadata": {},
   "outputs": [],
   "source": [
    "# Recent zone data\n",
    "# Create a new_zone dataframe for recent activities\n",
    "cols = ['id', 'name', 'date', 'suffer_score','start_date']\n",
    "new_data = strava_df.loc[:,cols]\n",
    "new_zone_df = pd.DataFrame(new_data, columns=cols)\n",
    "\n",
    "mask = new_zone_df['id'].isin(new_activities_df['id'])\n",
    "new_zone_df = new_zone_df[mask]"
   ]
  },
  {
   "cell_type": "code",
   "execution_count": 16,
   "id": "ffb49dd9-cb18-4a2f-ac3e-0badfa6273dd",
   "metadata": {},
   "outputs": [
    {
     "data": {
      "text/html": [
       "<div>\n",
       "<style scoped>\n",
       "    .dataframe tbody tr th:only-of-type {\n",
       "        vertical-align: middle;\n",
       "    }\n",
       "\n",
       "    .dataframe tbody tr th {\n",
       "        vertical-align: top;\n",
       "    }\n",
       "\n",
       "    .dataframe thead th {\n",
       "        text-align: right;\n",
       "    }\n",
       "</style>\n",
       "<table border=\"1\" class=\"dataframe\">\n",
       "  <thead>\n",
       "    <tr style=\"text-align: right;\">\n",
       "      <th></th>\n",
       "      <th>id</th>\n",
       "      <th>name</th>\n",
       "      <th>date</th>\n",
       "      <th>suffer_score</th>\n",
       "      <th>start_date</th>\n",
       "    </tr>\n",
       "  </thead>\n",
       "  <tbody>\n",
       "    <tr>\n",
       "      <th>0</th>\n",
       "      <td>15310444923</td>\n",
       "      <td>Logan Mill</td>\n",
       "      <td>2025-08-01</td>\n",
       "      <td>69.0</td>\n",
       "      <td>2025-08-01 13:35:02+00:00</td>\n",
       "    </tr>\n",
       "  </tbody>\n",
       "</table>\n",
       "</div>"
      ],
      "text/plain": [
       "            id        name        date  suffer_score                start_date\n",
       "0  15310444923  Logan Mill  2025-08-01          69.0 2025-08-01 13:35:02+00:00"
      ]
     },
     "execution_count": 16,
     "metadata": {},
     "output_type": "execute_result"
    }
   ],
   "source": [
    "new_zone_df"
   ]
  },
  {
   "cell_type": "code",
   "execution_count": 17,
   "id": "b6294a6f-c079-442f-a195-0e15bb1188c2",
   "metadata": {},
   "outputs": [
    {
     "name": "stdout",
     "output_type": "stream",
     "text": [
      "1\n",
      "Fetching zones for activity: 15310444923\n",
      "\n"
     ]
    },
    {
     "data": {
      "text/html": [
       "<div>\n",
       "<style scoped>\n",
       "    .dataframe tbody tr th:only-of-type {\n",
       "        vertical-align: middle;\n",
       "    }\n",
       "\n",
       "    .dataframe tbody tr th {\n",
       "        vertical-align: top;\n",
       "    }\n",
       "\n",
       "    .dataframe thead th {\n",
       "        text-align: right;\n",
       "    }\n",
       "</style>\n",
       "<table border=\"1\" class=\"dataframe\">\n",
       "  <thead>\n",
       "    <tr style=\"text-align: right;\">\n",
       "      <th></th>\n",
       "      <th>Zone1</th>\n",
       "      <th>Zone2</th>\n",
       "      <th>Zone3</th>\n",
       "      <th>Zone4</th>\n",
       "      <th>Zone5</th>\n",
       "    </tr>\n",
       "    <tr>\n",
       "      <th>id</th>\n",
       "      <th></th>\n",
       "      <th></th>\n",
       "      <th></th>\n",
       "      <th></th>\n",
       "      <th></th>\n",
       "    </tr>\n",
       "  </thead>\n",
       "  <tbody>\n",
       "    <tr>\n",
       "      <th>15310444923</th>\n",
       "      <td>83.5</td>\n",
       "      <td>64.5</td>\n",
       "      <td>26.4</td>\n",
       "      <td>24.0</td>\n",
       "      <td>0.2</td>\n",
       "    </tr>\n",
       "  </tbody>\n",
       "</table>\n",
       "</div>"
      ],
      "text/plain": [
       "             Zone1  Zone2  Zone3  Zone4  Zone5\n",
       "id                                            \n",
       "15310444923   83.5   64.5   26.4   24.0    0.2"
      ]
     },
     "execution_count": 17,
     "metadata": {},
     "output_type": "execute_result"
    }
   ],
   "source": [
    "# get_zones_for_id is a function in zones.py\n",
    "# There is a max limit of 100 calls per 15 minutes set by Strava for this function\n",
    "    \n",
    "if len(new_zone_df) > 0 and len(new_zone_df) < 100:\n",
    "    print (len(new_zone_df))\n",
    "    # Apply function to fetch zone data per activity ID\n",
    "    zone = new_zone_df['id'].apply(lambda current_id: get_zones_for_id(current_id, access_token))\n",
    "    zone.index = new_zone_df['id']\n",
    "\n",
    "    # display new zone info\n",
    "    print()\n",
    "    zone\n",
    "\n",
    "elif  len(new_zone_df)==0:\n",
    "    print (\"No new activites to process\")\n",
    "    \n",
    "elif len(new_zone_df) >= 100:\n",
    "     print(\"❌ Number of calls will exceed Strava's 15-minute limit (max 100)\")\n",
    "     print (\"Try limiting the number of calls before proceeding\")"
   ]
  },
  {
   "cell_type": "raw",
   "id": "f107d628-46a2-4d1d-a315-b030e9d9f421",
   "metadata": {},
   "source": [
    "HR-value\n",
    "This is an approximation of moderate - hard biking minutes. It is calculated by:\n",
    "HR-value = 50% of Zone2 minutes and 100% of Zone3, Zone4, Zone5 minutes.\n",
    "Minutes spent in Zone1 are not included. This value tracks similarly to Strava's suffer score."
   ]
  },
  {
   "cell_type": "code",
   "execution_count": 18,
   "id": "a12347f9-564f-4571-96ed-114c26577b9c",
   "metadata": {},
   "outputs": [
    {
     "data": {
      "text/plain": [
       "133"
      ]
     },
     "execution_count": 18,
     "metadata": {},
     "output_type": "execute_result"
    },
    {
     "data": {
      "text/plain": [
       "134"
      ]
     },
     "execution_count": 18,
     "metadata": {},
     "output_type": "execute_result"
    },
    {
     "data": {
      "text/html": [
       "<div>\n",
       "<style scoped>\n",
       "    .dataframe tbody tr th:only-of-type {\n",
       "        vertical-align: middle;\n",
       "    }\n",
       "\n",
       "    .dataframe tbody tr th {\n",
       "        vertical-align: top;\n",
       "    }\n",
       "\n",
       "    .dataframe thead th {\n",
       "        text-align: right;\n",
       "    }\n",
       "</style>\n",
       "<table border=\"1\" class=\"dataframe\">\n",
       "  <thead>\n",
       "    <tr style=\"text-align: right;\">\n",
       "      <th></th>\n",
       "      <th>weekly_intense</th>\n",
       "      <th>weekly_moderate</th>\n",
       "      <th>weekly_suffer_score</th>\n",
       "      <th>weekly_HR-value</th>\n",
       "      <th>start_date</th>\n",
       "    </tr>\n",
       "  </thead>\n",
       "  <tbody>\n",
       "    <tr>\n",
       "      <th>0</th>\n",
       "      <td>86.1</td>\n",
       "      <td>499.6</td>\n",
       "      <td>158.0</td>\n",
       "      <td>219.9</td>\n",
       "      <td>2025-08-01 13:35:02+00:00</td>\n",
       "    </tr>\n",
       "    <tr>\n",
       "      <th>0</th>\n",
       "      <td>35.8</td>\n",
       "      <td>351.6</td>\n",
       "      <td>89.0</td>\n",
       "      <td>137.3</td>\n",
       "      <td>2025-07-30 13:38:47+00:00</td>\n",
       "    </tr>\n",
       "    <tr>\n",
       "      <th>1</th>\n",
       "      <td>28.5</td>\n",
       "      <td>324.9</td>\n",
       "      <td>80.0</td>\n",
       "      <td>116.7</td>\n",
       "      <td>2025-07-29 14:18:57+00:00</td>\n",
       "    </tr>\n",
       "  </tbody>\n",
       "</table>\n",
       "</div>"
      ],
      "text/plain": [
       "   weekly_intense  weekly_moderate  weekly_suffer_score  weekly_HR-value  \\\n",
       "0            86.1            499.6                158.0            219.9   \n",
       "0            35.8            351.6                 89.0            137.3   \n",
       "1            28.5            324.9                 80.0            116.7   \n",
       "\n",
       "                 start_date  \n",
       "0 2025-08-01 13:35:02+00:00  \n",
       "0 2025-07-30 13:38:47+00:00  \n",
       "1 2025-07-29 14:18:57+00:00  "
      ]
     },
     "execution_count": 18,
     "metadata": {},
     "output_type": "execute_result"
    }
   ],
   "source": [
    "if len(new_zone_df) > 0 and len(new_zone_df) < 100:\n",
    "    new_zone_df = pd.merge(new_zone_df, zone, left_on='id',right_index=True)\n",
    "\n",
    "    # Get the Sunday start of the week for each date (time set to Sunday at midnight)\n",
    "    new_zone_df['week_start'] = new_zone_df['start_date'].dt.to_period('W-SUN').dt.start_time\n",
    "    \n",
    "    #new_zone_df.columns are now matched with strava_zone_df\n",
    "    new_zone_df = pd.concat ([new_zone_df, strava_zone_df], axis=0)\n",
    "    \n",
    "    len(strava_zone_df)\n",
    "    len(new_zone_df)\n",
    "    \n",
    "    # Correct instance of unreliable heart rate data; adds erroneous zone5 time to zone2\n",
    "    mask = new_zone_df['Zone5'] > 5\n",
    "    new_zone_df.loc[mask, 'Zone2'] = new_zone_df.loc[mask, 'Zone2'] + new_zone_df.loc[mask, 'Zone5']\n",
    "    new_zone_df.loc[new_zone_df.suffer_score < 100, 'Zone5'] = 0\n",
    "    \n",
    "    # Add in summary zones: moderate and intense\n",
    "    new_zone_df['moderate'] = new_zone_df[['Zone1', 'Zone2']].sum(axis=1)\n",
    "    new_zone_df['intense'] = new_zone_df[['Zone3', 'Zone4', 'Zone5']].sum(axis=1)\n",
    "    \n",
    "    new_zone_df['HR-value'] = (new_zone_df.Zone2*0.5)+(new_zone_df.intense)\n",
    "\n",
    "    # This drops all weekly_ cols since they are all recalculated later\n",
    "    only_cols = ['id', 'name', 'date', 'suffer_score', 'start_date', 'Zone1', 'Zone2',\n",
    "           'Zone3', 'Zone4', 'Zone5', 'moderate', 'intense', 'week_start','HR-value']\n",
    "    new_zone_df = new_zone_df[only_cols]\n",
    "    \n",
    "    \n",
    "    # Temporarily sort ascending by week_start and date to compute cumulative sum correctly\n",
    "    temp = new_zone_df.sort_values(['week_start', 'start_date'])\n",
    "\n",
    "    # Calculate cumulative sum within each week for weekly_ cols\n",
    "    cumulative_cols = ['intense', 'moderate', 'suffer_score','HR-value']\n",
    "    cumulative_sums = (\n",
    "    temp\n",
    "        .groupby('week_start')[cumulative_cols]\n",
    "        .cumsum()\n",
    "        .add_prefix('weekly_')  # rename columns if needed\n",
    "    )\n",
    "    # Add start_date column for reference\n",
    "    cumulative_sums['start_date'] = temp['start_date']\n",
    "    cumulative_sums = cumulative_sums.sort_values('start_date', ascending = False)\n",
    "    cumulative_sums.head(3)\n",
    "    strava_zone_df = pd.merge(new_zone_df,cumulative_sums, left_on ='start_date', right_on='start_date')"
   ]
  },
  {
   "cell_type": "code",
   "execution_count": 19,
   "id": "26131060-0f17-43b8-a6c8-db143cab72b4",
   "metadata": {},
   "outputs": [
    {
     "data": {
      "text/html": [
       "<div>\n",
       "<style scoped>\n",
       "    .dataframe tbody tr th:only-of-type {\n",
       "        vertical-align: middle;\n",
       "    }\n",
       "\n",
       "    .dataframe tbody tr th {\n",
       "        vertical-align: top;\n",
       "    }\n",
       "\n",
       "    .dataframe thead th {\n",
       "        text-align: right;\n",
       "    }\n",
       "</style>\n",
       "<table border=\"1\" class=\"dataframe\">\n",
       "  <thead>\n",
       "    <tr style=\"text-align: right;\">\n",
       "      <th></th>\n",
       "      <th>id</th>\n",
       "      <th>name</th>\n",
       "      <th>date</th>\n",
       "      <th>suffer_score</th>\n",
       "      <th>start_date</th>\n",
       "      <th>Zone1</th>\n",
       "      <th>Zone2</th>\n",
       "      <th>Zone3</th>\n",
       "      <th>Zone4</th>\n",
       "      <th>Zone5</th>\n",
       "      <th>moderate</th>\n",
       "      <th>intense</th>\n",
       "      <th>week_start</th>\n",
       "      <th>HR-value</th>\n",
       "      <th>weekly_intense</th>\n",
       "      <th>weekly_moderate</th>\n",
       "      <th>weekly_suffer_score</th>\n",
       "      <th>weekly_HR-value</th>\n",
       "    </tr>\n",
       "  </thead>\n",
       "  <tbody>\n",
       "    <tr>\n",
       "      <th>0</th>\n",
       "      <td>15310444923</td>\n",
       "      <td>Logan Mill</td>\n",
       "      <td>2025-08-01</td>\n",
       "      <td>69.0</td>\n",
       "      <td>2025-08-01 13:35:02+00:00</td>\n",
       "      <td>8.3e+01</td>\n",
       "      <td>64.5</td>\n",
       "      <td>26.4</td>\n",
       "      <td>24.0</td>\n",
       "      <td>0.0</td>\n",
       "      <td>148.0</td>\n",
       "      <td>50.3</td>\n",
       "      <td>2025-07-28</td>\n",
       "      <td>82.6</td>\n",
       "      <td>86.1</td>\n",
       "      <td>499.6</td>\n",
       "      <td>158.0</td>\n",
       "      <td>219.9</td>\n",
       "    </tr>\n",
       "    <tr>\n",
       "      <th>1</th>\n",
       "      <td>15287217614</td>\n",
       "      <td>Walden Ponds - first time out since hamstring ...</td>\n",
       "      <td>2025-07-30</td>\n",
       "      <td>9.0</td>\n",
       "      <td>2025-07-30 13:38:47+00:00</td>\n",
       "      <td>1.7e-02</td>\n",
       "      <td>26.7</td>\n",
       "      <td>0.2</td>\n",
       "      <td>7.1</td>\n",
       "      <td>0.0</td>\n",
       "      <td>26.7</td>\n",
       "      <td>7.3</td>\n",
       "      <td>2025-07-28</td>\n",
       "      <td>20.6</td>\n",
       "      <td>35.8</td>\n",
       "      <td>351.6</td>\n",
       "      <td>89.0</td>\n",
       "      <td>137.3</td>\n",
       "    </tr>\n",
       "    <tr>\n",
       "      <th>2</th>\n",
       "      <td>15278734733</td>\n",
       "      <td>Gravel, Gravel, Gravel: Coal Creek and Rock Creek</td>\n",
       "      <td>2025-07-29</td>\n",
       "      <td>47.0</td>\n",
       "      <td>2025-07-29 14:18:57+00:00</td>\n",
       "      <td>1.3e+02</td>\n",
       "      <td>100.9</td>\n",
       "      <td>8.7</td>\n",
       "      <td>0.0</td>\n",
       "      <td>0.0</td>\n",
       "      <td>233.2</td>\n",
       "      <td>8.7</td>\n",
       "      <td>2025-07-28</td>\n",
       "      <td>59.1</td>\n",
       "      <td>28.5</td>\n",
       "      <td>324.9</td>\n",
       "      <td>80.0</td>\n",
       "      <td>116.7</td>\n",
       "    </tr>\n",
       "    <tr>\n",
       "      <th>3</th>\n",
       "      <td>15263842880</td>\n",
       "      <td>Old Stage and gravel roads</td>\n",
       "      <td>2025-07-28</td>\n",
       "      <td>33.0</td>\n",
       "      <td>2025-07-28 12:30:16+00:00</td>\n",
       "      <td>1.6e+01</td>\n",
       "      <td>75.5</td>\n",
       "      <td>14.2</td>\n",
       "      <td>5.7</td>\n",
       "      <td>0.0</td>\n",
       "      <td>91.7</td>\n",
       "      <td>19.8</td>\n",
       "      <td>2025-07-28</td>\n",
       "      <td>57.6</td>\n",
       "      <td>19.8</td>\n",
       "      <td>91.7</td>\n",
       "      <td>33.0</td>\n",
       "      <td>57.6</td>\n",
       "    </tr>\n",
       "    <tr>\n",
       "      <th>4</th>\n",
       "      <td>15255996830</td>\n",
       "      <td>Gold Hill via Gold Run</td>\n",
       "      <td>2025-07-27</td>\n",
       "      <td>82.0</td>\n",
       "      <td>2025-07-27 13:40:08+00:00</td>\n",
       "      <td>4.9e+01</td>\n",
       "      <td>80.7</td>\n",
       "      <td>68.6</td>\n",
       "      <td>12.7</td>\n",
       "      <td>0.0</td>\n",
       "      <td>130.1</td>\n",
       "      <td>81.3</td>\n",
       "      <td>2025-07-21</td>\n",
       "      <td>121.7</td>\n",
       "      <td>292.4</td>\n",
       "      <td>558.3</td>\n",
       "      <td>342.0</td>\n",
       "      <td>484.7</td>\n",
       "    </tr>\n",
       "  </tbody>\n",
       "</table>\n",
       "</div>"
      ],
      "text/plain": [
       "            id                                               name        date  \\\n",
       "0  15310444923                                         Logan Mill  2025-08-01   \n",
       "1  15287217614  Walden Ponds - first time out since hamstring ...  2025-07-30   \n",
       "2  15278734733  Gravel, Gravel, Gravel: Coal Creek and Rock Creek  2025-07-29   \n",
       "3  15263842880                         Old Stage and gravel roads  2025-07-28   \n",
       "4  15255996830                             Gold Hill via Gold Run  2025-07-27   \n",
       "\n",
       "   suffer_score                start_date    Zone1  Zone2  Zone3  Zone4  \\\n",
       "0          69.0 2025-08-01 13:35:02+00:00  8.3e+01   64.5   26.4   24.0   \n",
       "1           9.0 2025-07-30 13:38:47+00:00  1.7e-02   26.7    0.2    7.1   \n",
       "2          47.0 2025-07-29 14:18:57+00:00  1.3e+02  100.9    8.7    0.0   \n",
       "3          33.0 2025-07-28 12:30:16+00:00  1.6e+01   75.5   14.2    5.7   \n",
       "4          82.0 2025-07-27 13:40:08+00:00  4.9e+01   80.7   68.6   12.7   \n",
       "\n",
       "   Zone5  moderate  intense week_start  HR-value  weekly_intense  \\\n",
       "0    0.0     148.0     50.3 2025-07-28      82.6            86.1   \n",
       "1    0.0      26.7      7.3 2025-07-28      20.6            35.8   \n",
       "2    0.0     233.2      8.7 2025-07-28      59.1            28.5   \n",
       "3    0.0      91.7     19.8 2025-07-28      57.6            19.8   \n",
       "4    0.0     130.1     81.3 2025-07-21     121.7           292.4   \n",
       "\n",
       "   weekly_moderate  weekly_suffer_score  weekly_HR-value  \n",
       "0            499.6                158.0            219.9  \n",
       "1            351.6                 89.0            137.3  \n",
       "2            324.9                 80.0            116.7  \n",
       "3             91.7                 33.0             57.6  \n",
       "4            558.3                342.0            484.7  "
      ]
     },
     "execution_count": 19,
     "metadata": {},
     "output_type": "execute_result"
    }
   ],
   "source": [
    "strava_zone_df.head()"
   ]
  },
  {
   "cell_type": "markdown",
   "id": "7c61549e-bad2-4be0-89e5-b53008e1c122",
   "metadata": {},
   "source": [
    "### Plotting Section"
   ]
  },
  {
   "cell_type": "code",
   "execution_count": 20,
   "id": "eae5f217-48d8-40f5-b35d-6e09ed4a0a15",
   "metadata": {},
   "outputs": [
    {
     "data": {
      "text/html": [
       "<div>\n",
       "<style scoped>\n",
       "    .dataframe tbody tr th:only-of-type {\n",
       "        vertical-align: middle;\n",
       "    }\n",
       "\n",
       "    .dataframe tbody tr th {\n",
       "        vertical-align: top;\n",
       "    }\n",
       "\n",
       "    .dataframe thead th {\n",
       "        text-align: right;\n",
       "    }\n",
       "</style>\n",
       "<table border=\"1\" class=\"dataframe\">\n",
       "  <thead>\n",
       "    <tr style=\"text-align: right;\">\n",
       "      <th></th>\n",
       "      <th>week_start</th>\n",
       "      <th>weekly_intense</th>\n",
       "      <th>weekly_moderate</th>\n",
       "      <th>weekly_suffer_score</th>\n",
       "      <th>weekly_HR-value</th>\n",
       "      <th>week</th>\n",
       "    </tr>\n",
       "  </thead>\n",
       "  <tbody>\n",
       "    <tr>\n",
       "      <th>29</th>\n",
       "      <td>2025-07-28</td>\n",
       "      <td>86.1</td>\n",
       "      <td>499.6</td>\n",
       "      <td>158.0</td>\n",
       "      <td>219.9</td>\n",
       "      <td>Jul 28</td>\n",
       "    </tr>\n",
       "    <tr>\n",
       "      <th>28</th>\n",
       "      <td>2025-07-21</td>\n",
       "      <td>292.4</td>\n",
       "      <td>558.3</td>\n",
       "      <td>342.0</td>\n",
       "      <td>484.7</td>\n",
       "      <td>Jul 21</td>\n",
       "    </tr>\n",
       "    <tr>\n",
       "      <th>27</th>\n",
       "      <td>2025-07-14</td>\n",
       "      <td>122.0</td>\n",
       "      <td>704.2</td>\n",
       "      <td>538.0</td>\n",
       "      <td>461.5</td>\n",
       "      <td>Jul 14</td>\n",
       "    </tr>\n",
       "    <tr>\n",
       "      <th>26</th>\n",
       "      <td>2025-07-07</td>\n",
       "      <td>152.0</td>\n",
       "      <td>767.9</td>\n",
       "      <td>546.0</td>\n",
       "      <td>495.0</td>\n",
       "      <td>Jul 07</td>\n",
       "    </tr>\n",
       "    <tr>\n",
       "      <th>25</th>\n",
       "      <td>2025-06-30</td>\n",
       "      <td>143.9</td>\n",
       "      <td>794.7</td>\n",
       "      <td>597.0</td>\n",
       "      <td>515.3</td>\n",
       "      <td>Jun 30</td>\n",
       "    </tr>\n",
       "  </tbody>\n",
       "</table>\n",
       "</div>"
      ],
      "text/plain": [
       "   week_start  weekly_intense  weekly_moderate  weekly_suffer_score  \\\n",
       "29 2025-07-28            86.1            499.6                158.0   \n",
       "28 2025-07-21           292.4            558.3                342.0   \n",
       "27 2025-07-14           122.0            704.2                538.0   \n",
       "26 2025-07-07           152.0            767.9                546.0   \n",
       "25 2025-06-30           143.9            794.7                597.0   \n",
       "\n",
       "    weekly_HR-value    week  \n",
       "29            219.9  Jul 28  \n",
       "28            484.7  Jul 21  \n",
       "27            461.5  Jul 14  \n",
       "26            495.0  Jul 07  \n",
       "25            515.3  Jun 30  "
      ]
     },
     "execution_count": 20,
     "metadata": {},
     "output_type": "execute_result"
    }
   ],
   "source": [
    "# Reccomended weekly maximum of 540 minutes\n",
    "week_summary = build_week_summary(strava_zone_df)\n",
    "week_summary.sort_values('week_start',ascending=False).head()"
   ]
  },
  {
   "cell_type": "code",
   "execution_count": 21,
   "id": "0132558c-926a-4eda-983f-5040c7a93280",
   "metadata": {},
   "outputs": [
    {
     "data": {
      "image/png": "[encoded data removed]",
      "text/plain": [
       "<Figure size 1008x432 with 1 Axes>"
      ]
     },
     "metadata": {
      "needs_background": "light"
     },
     "output_type": "display_data"
    }
   ],
   "source": [
    "ax = week_summary.plot(\n",
    "    y=['weekly_moderate','weekly_intense'],\n",
    "    x='week',\n",
    "    kind='bar', \n",
    "    stacked=True, \n",
    "    figsize=(14, 6), \n",
    "    color=['#98FB98', '#F08080']\n",
    ")\n",
    "\n",
    "# Overlay line plot for 'weekly_suffer_score'\n",
    "line = ax.plot(\n",
    "    week_summary[\"week\"],\n",
    "    week_summary[\"weekly_HR-value\"],\n",
    "    color=\"black\",\n",
    "    marker=\"o\",\n",
    "    linewidth=2,\n",
    "    label=\"HR-value\"  \n",
    ")\n",
    "\n",
    "# Overlay line plot for 'weekly_suffer_score'\n",
    "line2 = ax.plot(\n",
    "    week_summary[\"week\"],\n",
    "    week_summary[\"weekly_suffer_score\"],\n",
    "    color=\"grey\",\n",
    "    marker=None,\n",
    "    linewidth=1,\n",
    "    label=\"Suffer_Score\"  \n",
    ")\n",
    "\n",
    "plt.axhline(y=540, color='red', linestyle='--', linewidth=1)\n",
    "\n",
    "plt.title(\"Time in Heart Rate Zones\");\n",
    "plt.xlabel(\"Activity ID\");\n",
    "plt.ylabel(\"Time (minutes)\");\n",
    "plt.legend(title=\"Zone\");\n",
    "plt.xticks(rotation=45, ha='right');\n",
    "plt.tight_layout();\n",
    "plt.show();"
   ]
  },
  {
   "cell_type": "markdown",
   "id": "6f617a86-5860-4fbc-9590-57af1a1640a8",
   "metadata": {},
   "source": [
    "### Drilling down a specific week"
   ]
  },
  {
   "cell_type": "raw",
   "id": "2448a5eb-dba3-45b8-b244-97240b9aa323",
   "metadata": {},
   "source": [
    "zone 1           <101\n",
    "zone 2 Moderate  101-118\n",
    "zone 3 Tempo     118 - 132\n",
    "zone 4 Threshold 132 - 147\n",
    "zone 5 Anaerobic > 147"
   ]
  },
  {
   "cell_type": "code",
   "execution_count": 22,
   "id": "b65baccb-f8e0-4fed-b822-cd0d421e0f6d",
   "metadata": {},
   "outputs": [],
   "source": [
    "# default start is current week\n",
    "start = week_summary.sort_values('week_start',ascending=False).iloc[0,0]\n",
    "#start = \"2025-06-02\" # <-- select custom week starting date"
   ]
  },
  {
   "cell_type": "code",
   "execution_count": 23,
   "id": "f54f7731-2e01-4b90-bd21-12db0b2fc511",
   "metadata": {},
   "outputs": [],
   "source": [
    "week_df, zone_week_df = display_detail_week(start, strava_df, strava_zone_df)"
   ]
  },
  {
   "cell_type": "code",
   "execution_count": 24,
   "id": "74075ed0-bac7-41c6-97d6-bad781d61939",
   "metadata": {},
   "outputs": [
    {
     "data": {
      "text/html": [
       "<div>\n",
       "<style scoped>\n",
       "    .dataframe tbody tr th:only-of-type {\n",
       "        vertical-align: middle;\n",
       "    }\n",
       "\n",
       "    .dataframe tbody tr th {\n",
       "        vertical-align: top;\n",
       "    }\n",
       "\n",
       "    .dataframe thead th {\n",
       "        text-align: right;\n",
       "    }\n",
       "</style>\n",
       "<table border=\"1\" class=\"dataframe\">\n",
       "  <thead>\n",
       "    <tr style=\"text-align: right;\">\n",
       "      <th></th>\n",
       "      <th>id</th>\n",
       "      <th>name</th>\n",
       "      <th>date</th>\n",
       "      <th>sport</th>\n",
       "      <th>distance</th>\n",
       "      <th>time</th>\n",
       "      <th>speed</th>\n",
       "      <th>elev_gain</th>\n",
       "      <th>avg_HR</th>\n",
       "      <th>max_HR</th>\n",
       "      <th>suffer_score</th>\n",
       "    </tr>\n",
       "  </thead>\n",
       "  <tbody>\n",
       "    <tr>\n",
       "      <th>0</th>\n",
       "      <td>15310444923</td>\n",
       "      <td>Logan Mill</td>\n",
       "      <td>2025-08-01</td>\n",
       "      <td>Ride</td>\n",
       "      <td>39.3</td>\n",
       "      <td>3:18</td>\n",
       "      <td>11.9</td>\n",
       "      <td>2872.0</td>\n",
       "      <td>108.5</td>\n",
       "      <td>148.0</td>\n",
       "      <td>69.0</td>\n",
       "    </tr>\n",
       "    <tr>\n",
       "      <th>0</th>\n",
       "      <td>15287217614</td>\n",
       "      <td>Walden Ponds - first time out since hamstring ...</td>\n",
       "      <td>2025-07-30</td>\n",
       "      <td>Run</td>\n",
       "      <td>3.2</td>\n",
       "      <td>0:34</td>\n",
       "      <td>10:39</td>\n",
       "      <td>28.2</td>\n",
       "      <td>152.8</td>\n",
       "      <td>183.0</td>\n",
       "      <td>9.0</td>\n",
       "    </tr>\n",
       "    <tr>\n",
       "      <th>0</th>\n",
       "      <td>15278734733</td>\n",
       "      <td>Gravel, Gravel, Gravel: Coal Creek and Rock Creek</td>\n",
       "      <td>2025-07-29</td>\n",
       "      <td>Ride</td>\n",
       "      <td>49.4</td>\n",
       "      <td>4:01</td>\n",
       "      <td>12.3</td>\n",
       "      <td>1820.9</td>\n",
       "      <td>100.9</td>\n",
       "      <td>129.0</td>\n",
       "      <td>47.0</td>\n",
       "    </tr>\n",
       "    <tr>\n",
       "      <th>1</th>\n",
       "      <td>15263842880</td>\n",
       "      <td>Old Stage and gravel roads</td>\n",
       "      <td>2025-07-28</td>\n",
       "      <td>Ride</td>\n",
       "      <td>24.1</td>\n",
       "      <td>1:51</td>\n",
       "      <td>13.0</td>\n",
       "      <td>1315.6</td>\n",
       "      <td>110.6</td>\n",
       "      <td>140.0</td>\n",
       "      <td>33.0</td>\n",
       "    </tr>\n",
       "  </tbody>\n",
       "</table>\n",
       "</div>"
      ],
      "text/plain": [
       "            id                                               name        date  \\\n",
       "0  15310444923                                         Logan Mill  2025-08-01   \n",
       "0  15287217614  Walden Ponds - first time out since hamstring ...  2025-07-30   \n",
       "0  15278734733  Gravel, Gravel, Gravel: Coal Creek and Rock Creek  2025-07-29   \n",
       "1  15263842880                         Old Stage and gravel roads  2025-07-28   \n",
       "\n",
       "  sport  distance  time  speed  elev_gain  avg_HR  max_HR  suffer_score  \n",
       "0  Ride      39.3  3:18   11.9     2872.0   108.5   148.0          69.0  \n",
       "0   Run       3.2  0:34  10:39       28.2   152.8   183.0           9.0  \n",
       "0  Ride      49.4  4:01   12.3     1820.9   100.9   129.0          47.0  \n",
       "1  Ride      24.1  1:51   13.0     1315.6   110.6   140.0          33.0  "
      ]
     },
     "execution_count": 24,
     "metadata": {},
     "output_type": "execute_result"
    },
    {
     "data": {
      "text/html": [
       "<div>\n",
       "<style scoped>\n",
       "    .dataframe tbody tr th:only-of-type {\n",
       "        vertical-align: middle;\n",
       "    }\n",
       "\n",
       "    .dataframe tbody tr th {\n",
       "        vertical-align: top;\n",
       "    }\n",
       "\n",
       "    .dataframe thead th {\n",
       "        text-align: right;\n",
       "    }\n",
       "</style>\n",
       "<table border=\"1\" class=\"dataframe\">\n",
       "  <thead>\n",
       "    <tr style=\"text-align: right;\">\n",
       "      <th></th>\n",
       "      <th>name</th>\n",
       "      <th>date</th>\n",
       "      <th>Zone1</th>\n",
       "      <th>Zone2</th>\n",
       "      <th>Zone3</th>\n",
       "      <th>Zone4</th>\n",
       "      <th>Zone5</th>\n",
       "      <th>moderate</th>\n",
       "      <th>intense</th>\n",
       "      <th>HR-value</th>\n",
       "      <th>suffer_score</th>\n",
       "      <th>week_start</th>\n",
       "      <th>weekly_moderate</th>\n",
       "      <th>weekly_intense</th>\n",
       "      <th>weekly_HR-value</th>\n",
       "    </tr>\n",
       "  </thead>\n",
       "  <tbody>\n",
       "    <tr>\n",
       "      <th>0</th>\n",
       "      <td>Logan Mill</td>\n",
       "      <td>2025-08-01</td>\n",
       "      <td>8.3e+01</td>\n",
       "      <td>64.5</td>\n",
       "      <td>26.4</td>\n",
       "      <td>24.0</td>\n",
       "      <td>0.0</td>\n",
       "      <td>148.0</td>\n",
       "      <td>50.3</td>\n",
       "      <td>82.6</td>\n",
       "      <td>69.0</td>\n",
       "      <td>2025-07-28</td>\n",
       "      <td>499.6</td>\n",
       "      <td>86.1</td>\n",
       "      <td>219.9</td>\n",
       "    </tr>\n",
       "    <tr>\n",
       "      <th>1</th>\n",
       "      <td>Walden Ponds - first time out since hamstring ...</td>\n",
       "      <td>2025-07-30</td>\n",
       "      <td>1.7e-02</td>\n",
       "      <td>26.7</td>\n",
       "      <td>0.2</td>\n",
       "      <td>7.1</td>\n",
       "      <td>0.0</td>\n",
       "      <td>26.7</td>\n",
       "      <td>7.3</td>\n",
       "      <td>20.6</td>\n",
       "      <td>9.0</td>\n",
       "      <td>2025-07-28</td>\n",
       "      <td>351.6</td>\n",
       "      <td>35.8</td>\n",
       "      <td>137.3</td>\n",
       "    </tr>\n",
       "    <tr>\n",
       "      <th>2</th>\n",
       "      <td>Gravel, Gravel, Gravel: Coal Creek and Rock Creek</td>\n",
       "      <td>2025-07-29</td>\n",
       "      <td>1.3e+02</td>\n",
       "      <td>100.9</td>\n",
       "      <td>8.7</td>\n",
       "      <td>0.0</td>\n",
       "      <td>0.0</td>\n",
       "      <td>233.2</td>\n",
       "      <td>8.7</td>\n",
       "      <td>59.1</td>\n",
       "      <td>47.0</td>\n",
       "      <td>2025-07-28</td>\n",
       "      <td>324.9</td>\n",
       "      <td>28.5</td>\n",
       "      <td>116.7</td>\n",
       "    </tr>\n",
       "    <tr>\n",
       "      <th>3</th>\n",
       "      <td>Old Stage and gravel roads</td>\n",
       "      <td>2025-07-28</td>\n",
       "      <td>1.6e+01</td>\n",
       "      <td>75.5</td>\n",
       "      <td>14.2</td>\n",
       "      <td>5.7</td>\n",
       "      <td>0.0</td>\n",
       "      <td>91.7</td>\n",
       "      <td>19.8</td>\n",
       "      <td>57.6</td>\n",
       "      <td>33.0</td>\n",
       "      <td>2025-07-28</td>\n",
       "      <td>91.7</td>\n",
       "      <td>19.8</td>\n",
       "      <td>57.6</td>\n",
       "    </tr>\n",
       "  </tbody>\n",
       "</table>\n",
       "</div>"
      ],
      "text/plain": [
       "                                                name        date    Zone1  \\\n",
       "0                                         Logan Mill  2025-08-01  8.3e+01   \n",
       "1  Walden Ponds - first time out since hamstring ...  2025-07-30  1.7e-02   \n",
       "2  Gravel, Gravel, Gravel: Coal Creek and Rock Creek  2025-07-29  1.3e+02   \n",
       "3                         Old Stage and gravel roads  2025-07-28  1.6e+01   \n",
       "\n",
       "   Zone2  Zone3  Zone4  Zone5  moderate  intense  HR-value  suffer_score  \\\n",
       "0   64.5   26.4   24.0    0.0     148.0     50.3      82.6          69.0   \n",
       "1   26.7    0.2    7.1    0.0      26.7      7.3      20.6           9.0   \n",
       "2  100.9    8.7    0.0    0.0     233.2      8.7      59.1          47.0   \n",
       "3   75.5   14.2    5.7    0.0      91.7     19.8      57.6          33.0   \n",
       "\n",
       "  week_start  weekly_moderate  weekly_intense  weekly_HR-value  \n",
       "0 2025-07-28            499.6            86.1            219.9  \n",
       "1 2025-07-28            351.6            35.8            137.3  \n",
       "2 2025-07-28            324.9            28.5            116.7  \n",
       "3 2025-07-28             91.7            19.8             57.6  "
      ]
     },
     "execution_count": 24,
     "metadata": {},
     "output_type": "execute_result"
    }
   ],
   "source": [
    "week_df.sort_values('start_date',ascending=False)[['id','name', 'date', 'sport', 'distance', 'time', 'speed', 'elev_gain',\n",
    "       'avg_HR', 'max_HR', 'suffer_score']]\n",
    "zone_week_df.sort_values('start_date',ascending=False)[['name','date','Zone1', 'Zone2',\n",
    "       'Zone3', 'Zone4', 'Zone5', 'moderate', 'intense','HR-value','suffer_score','week_start','weekly_moderate',\n",
    "       'weekly_intense','weekly_HR-value']]"
   ]
  },
  {
   "cell_type": "markdown",
   "id": "7201dc71-222d-43cd-ad88-84d63baeb2e7",
   "metadata": {},
   "source": [
    "### Saving data"
   ]
  },
  {
   "cell_type": "code",
   "execution_count": 25,
   "id": "71e356ba-ced8-4e7e-b5a8-f5748c9af7f0",
   "metadata": {},
   "outputs": [],
   "source": [
    "strava_df = strava_df.sort_values('id',ascending=False)\n",
    "strava_zone_df = strava_zone_df.sort_values('id',ascending=False)"
   ]
  },
  {
   "cell_type": "code",
   "execution_count": 26,
   "id": "4b34c832-3aef-4086-9d57-adcfee9329d1",
   "metadata": {},
   "outputs": [
    {
     "data": {
      "text/html": [
       "<div>\n",
       "<style scoped>\n",
       "    .dataframe tbody tr th:only-of-type {\n",
       "        vertical-align: middle;\n",
       "    }\n",
       "\n",
       "    .dataframe tbody tr th {\n",
       "        vertical-align: top;\n",
       "    }\n",
       "\n",
       "    .dataframe thead th {\n",
       "        text-align: right;\n",
       "    }\n",
       "</style>\n",
       "<table border=\"1\" class=\"dataframe\">\n",
       "  <thead>\n",
       "    <tr style=\"text-align: right;\">\n",
       "      <th></th>\n",
       "      <th>id</th>\n",
       "      <th>name</th>\n",
       "      <th>date</th>\n",
       "      <th>sport</th>\n",
       "      <th>distance</th>\n",
       "      <th>time</th>\n",
       "      <th>speed</th>\n",
       "      <th>elev_gain</th>\n",
       "      <th>avg_HR</th>\n",
       "      <th>max_HR</th>\n",
       "      <th>suffer_score</th>\n",
       "      <th>time-minutes</th>\n",
       "      <th>average_speed</th>\n",
       "      <th>start_date</th>\n",
       "    </tr>\n",
       "  </thead>\n",
       "  <tbody>\n",
       "    <tr>\n",
       "      <th>0</th>\n",
       "      <td>15310444923</td>\n",
       "      <td>Logan Mill</td>\n",
       "      <td>2025-08-01</td>\n",
       "      <td>Ride</td>\n",
       "      <td>39.3</td>\n",
       "      <td>3:18</td>\n",
       "      <td>11.9</td>\n",
       "      <td>2872.0</td>\n",
       "      <td>108.5</td>\n",
       "      <td>148.0</td>\n",
       "      <td>69.0</td>\n",
       "      <td>198.6</td>\n",
       "      <td>5.3</td>\n",
       "      <td>2025-08-01 13:35:02+00:00</td>\n",
       "    </tr>\n",
       "  </tbody>\n",
       "</table>\n",
       "</div>"
      ],
      "text/plain": [
       "            id        name        date sport  distance  time speed  elev_gain  \\\n",
       "0  15310444923  Logan Mill  2025-08-01  Ride      39.3  3:18  11.9     2872.0   \n",
       "\n",
       "   avg_HR  max_HR  suffer_score  time-minutes  average_speed  \\\n",
       "0   108.5   148.0          69.0         198.6            5.3   \n",
       "\n",
       "                 start_date  \n",
       "0 2025-08-01 13:35:02+00:00  "
      ]
     },
     "execution_count": 26,
     "metadata": {},
     "output_type": "execute_result"
    },
    {
     "data": {
      "text/html": [
       "<div>\n",
       "<style scoped>\n",
       "    .dataframe tbody tr th:only-of-type {\n",
       "        vertical-align: middle;\n",
       "    }\n",
       "\n",
       "    .dataframe tbody tr th {\n",
       "        vertical-align: top;\n",
       "    }\n",
       "\n",
       "    .dataframe thead th {\n",
       "        text-align: right;\n",
       "    }\n",
       "</style>\n",
       "<table border=\"1\" class=\"dataframe\">\n",
       "  <thead>\n",
       "    <tr style=\"text-align: right;\">\n",
       "      <th></th>\n",
       "      <th>id</th>\n",
       "      <th>name</th>\n",
       "      <th>date</th>\n",
       "      <th>suffer_score</th>\n",
       "      <th>start_date</th>\n",
       "      <th>Zone1</th>\n",
       "      <th>Zone2</th>\n",
       "      <th>Zone3</th>\n",
       "      <th>Zone4</th>\n",
       "      <th>Zone5</th>\n",
       "      <th>moderate</th>\n",
       "      <th>intense</th>\n",
       "      <th>week_start</th>\n",
       "      <th>HR-value</th>\n",
       "      <th>weekly_intense</th>\n",
       "      <th>weekly_moderate</th>\n",
       "      <th>weekly_suffer_score</th>\n",
       "      <th>weekly_HR-value</th>\n",
       "    </tr>\n",
       "  </thead>\n",
       "  <tbody>\n",
       "    <tr>\n",
       "      <th>0</th>\n",
       "      <td>15310444923</td>\n",
       "      <td>Logan Mill</td>\n",
       "      <td>2025-08-01</td>\n",
       "      <td>69.0</td>\n",
       "      <td>2025-08-01 13:35:02+00:00</td>\n",
       "      <td>83.5</td>\n",
       "      <td>64.5</td>\n",
       "      <td>26.4</td>\n",
       "      <td>24.0</td>\n",
       "      <td>0.0</td>\n",
       "      <td>148.0</td>\n",
       "      <td>50.3</td>\n",
       "      <td>2025-07-28</td>\n",
       "      <td>82.6</td>\n",
       "      <td>86.1</td>\n",
       "      <td>499.6</td>\n",
       "      <td>158.0</td>\n",
       "      <td>219.9</td>\n",
       "    </tr>\n",
       "  </tbody>\n",
       "</table>\n",
       "</div>"
      ],
      "text/plain": [
       "            id        name        date  suffer_score  \\\n",
       "0  15310444923  Logan Mill  2025-08-01          69.0   \n",
       "\n",
       "                 start_date  Zone1  Zone2  Zone3  Zone4  Zone5  moderate  \\\n",
       "0 2025-08-01 13:35:02+00:00   83.5   64.5   26.4   24.0    0.0     148.0   \n",
       "\n",
       "   intense week_start  HR-value  weekly_intense  weekly_moderate  \\\n",
       "0     50.3 2025-07-28      82.6            86.1            499.6   \n",
       "\n",
       "   weekly_suffer_score  weekly_HR-value  \n",
       "0                158.0            219.9  "
      ]
     },
     "execution_count": 26,
     "metadata": {},
     "output_type": "execute_result"
    },
    {
     "name": "stdout",
     "output_type": "stream",
     "text": [
      "134\n",
      "134\n"
     ]
    }
   ],
   "source": [
    "# verify before saving\n",
    "strava_df.head(1)\n",
    "strava_zone_df.head(1)\n",
    "print(len(strava_df))\n",
    "print(len(strava_zone_df))"
   ]
  },
  {
   "cell_type": "markdown",
   "id": "ecf05fde-9a35-45b7-b3c9-471d277228bf",
   "metadata": {},
   "source": [
    "### Use save_data, and year"
   ]
  },
  {
   "cell_type": "code",
   "execution_count": 27,
   "id": "6c1aca6a-1d5a-4771-a470-08421534a5c6",
   "metadata": {},
   "outputs": [
    {
     "name": "stdout",
     "output_type": "stream",
     "text": [
      "Data saved in folder: data/2025-08-01\n"
     ]
    }
   ],
   "source": [
    "# Select year for saving\n",
    "# Data will be saved to: data/{today}\n",
    "save_data(strava_df, strava_zone_df, 2025)"
   ]
  },
  {
   "cell_type": "markdown",
   "id": "c0f33549-f078-41de-a638-c541b846adfc",
   "metadata": {},
   "source": [
    "### Remove older backup files"
   ]
  },
  {
   "cell_type": "code",
   "execution_count": 31,
   "id": "fa4a2da5-d844-441a-a5dd-207516f43330",
   "metadata": {},
   "outputs": [
    {
     "name": "stdout",
     "output_type": "stream",
     "text": [
      "\u001b[01;34mdata\u001b[0m\n",
      "├── \u001b[01;34m2025-07-18\u001b[0m\n",
      "│   ├── \u001b[00mstrava_data_2024.pkl\u001b[0m\n",
      "│   └── \u001b[00mstrava_zone_data_2024.pkl\u001b[0m\n",
      "├── \u001b[01;34m2025-07-30\u001b[0m\n",
      "│   ├── \u001b[00mstrava_data_2025.pkl\u001b[0m\n",
      "│   └── \u001b[00mstrava_zone_data_2025.pkl\u001b[0m\n",
      "├── \u001b[01;34m2025-08-01\u001b[0m\n",
      "│   ├── \u001b[00mstrava_data_2025.pkl\u001b[0m\n",
      "│   └── \u001b[00mstrava_zone_data_2025.pkl\u001b[0m\n",
      "├── \u001b[00mstrava_data_2024.pkl\u001b[0m\n",
      "├── \u001b[00mstrava_data_2025.pkl\u001b[0m\n",
      "├── \u001b[00mstrava_data_empty.pkl\u001b[0m\n",
      "├── \u001b[00mstrava_zone_data_2024.pkl\u001b[0m\n",
      "├── \u001b[00mstrava_zone_data_2025.pkl\u001b[0m\n",
      "└── \u001b[00mstrava_zone_data_empty.pkl\u001b[0m\n",
      "\n",
      "4 directories, 12 files\n"
     ]
    }
   ],
   "source": [
    "!tree data"
   ]
  },
  {
   "cell_type": "code",
   "execution_count": 32,
   "id": "a6af9d1a-663a-4190-8912-cdffffc11ba0",
   "metadata": {},
   "outputs": [
    {
     "name": "stdout",
     "output_type": "stream",
     "text": [
      "Deleting: data/2025-07-30/strava_data_2025.pkl\n",
      "Deleting: data/2025-07-30/strava_zone_data_2025.pkl\n",
      "Removing empty directory: data/2025-07-30\n"
     ]
    }
   ],
   "source": [
    "# def remove_other_backups(base_dir=\"data\", keep_subdirs=None, verbose=True):\n",
    "remove_backups(base_dir=\"data\", keep_subdirs={today})"
   ]
  },
  {
   "cell_type": "code",
   "execution_count": null,
   "id": "4b96ddb0-088d-4428-bfed-3a6ff9fd148e",
   "metadata": {},
   "outputs": [],
   "source": []
  },
  {
   "cell_type": "code",
   "execution_count": null,
   "id": "269b6448-0459-4c2c-837d-acf315a97cf3",
   "metadata": {},
   "outputs": [],
   "source": []
  },
  {
   "cell_type": "code",
   "execution_count": null,
   "id": "3d023c03-1afe-4687-93c0-5941c985b4a6",
   "metadata": {},
   "outputs": [],
   "source": []
  },
  {
   "cell_type": "markdown",
   "id": "d660f839-b00b-4034-b187-f4c56ddbcccc",
   "metadata": {},
   "source": [
    "### Other info"
   ]
  },
  {
   "cell_type": "code",
   "execution_count": null,
   "id": "625deb40-1d9f-4cbd-987f-c4ad79b55651",
   "metadata": {},
   "outputs": [],
   "source": [
    "# Set number of rows to display\n",
    "pd.set_option('display.max_rows', 40)  # if set to None this will show all rows\n",
    "pd.set_option('display.min_rows', 40)  # adjust to help override auto-truncation\n",
    "\n",
    "strava_zone_df[['name','date','moderate','intense','HR-value','suffer_score']]\n",
    "pd.reset_option('display.max_rows')"
   ]
  },
  {
   "cell_type": "raw",
   "id": "dab082d3-f5cc-40e3-8c8e-540d9beb8380",
   "metadata": {},
   "source": [
    "OLDER ZONE INFO\n",
    "zone 1           <103\n",
    "zone 2 Moderate  103-123\n",
    "zone 3 Tempo     123 - 138\n",
    "zone 4 Threshold 138 - 153\n",
    "zone 5 Anaerobic > 153"
   ]
  },
  {
   "cell_type": "code",
   "execution_count": null,
   "id": "81e9739c-d037-4a8e-b562-19c74cc3dc48",
   "metadata": {},
   "outputs": [],
   "source": []
  }
 ],
 "metadata": {
  "kernelspec": {
   "display_name": "Python 3",
   "language": "python",
   "name": "python3"
  },
  "language_info": {
   "codemirror_mode": {
    "name": "ipython",
    "version": 3
   },
   "file_extension": ".py",
   "mimetype": "text/x-python",
   "name": "python",
   "nbconvert_exporter": "python",
   "pygments_lexer": "ipython3",
   "version": "3.8.8"
  }
 },
 "nbformat": 4,
 "nbformat_minor": 5
}
