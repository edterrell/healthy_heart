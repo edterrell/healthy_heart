{
 "cells": [
  {
   "cell_type": "code",
   "execution_count": 1,
   "id": "5d459dfb-74f9-41d9-8af4-c92e2c2b4a4c",
   "metadata": {},
   "outputs": [
    {
     "data": {
      "text/plain": [
       "'/Users/edwardterrell/Desktop/Training/kindle/strava'"
      ]
     },
     "execution_count": 1,
     "metadata": {},
     "output_type": "execute_result"
    }
   ],
   "source": [
    "pwd"
   ]
  },
  {
   "cell_type": "code",
   "execution_count": 2,
   "id": "f86e2403-fec5-475b-9ee0-efa17cf601f7",
   "metadata": {},
   "outputs": [],
   "source": [
    "%matplotlib inline\n",
    "from IPython.core.display import HTML\n",
    "css = open('css/style-table.css').read() + open('css/style-notebook.css').read()\n",
    "HTML('<style>{}</style>'.format(css))\n",
    "\n",
    "from IPython.core.interactiveshell import InteractiveShell\n",
    "InteractiveShell.ast_node_interactivity = \"all\""
   ]
  },
  {
   "cell_type": "code",
   "execution_count": 3,
   "id": "d6710164-d780-4a78-84ab-36ef6b5000f8",
   "metadata": {},
   "outputs": [
    {
     "data": {
      "text/plain": [
       "'/Users/edwardterrell/opt/anaconda3/envs/mlml/bin/python'"
      ]
     },
     "execution_count": 3,
     "metadata": {},
     "output_type": "execute_result"
    }
   ],
   "source": [
    "import requests\n",
    "import json\n",
    "import time\n",
    "import os\n",
    "from pprint import pprint\n",
    "import datetime\n",
    "from datetime import date,timedelta\n",
    "\n",
    "import pandas as pd\n",
    "pd.set_option('display.precision', 1)\n",
    "import warnings\n",
    "warnings.filterwarnings(\"ignore\", message=\".*will drop timezone.*\")\n",
    "\n",
    "%load_ext autoreload\n",
    "%autoreload 2\n",
    "from clean_convert import cleanup, convert_speed, order_columns, process_new_data, save_data\n",
    "from zones import get_zones_for_id, build_week_summary\n",
    "from plots_details import display_detail_week\n",
    "\n",
    "# import graphics programs\n",
    "import matplotlib.pyplot as plt\n",
    "import seaborn as sns\n",
    "sns.set(rc={'figure.figsize':(14,6)}) # for all future plots\n",
    "\n",
    "import sys\n",
    "sys.executable"
   ]
  },
  {
   "cell_type": "code",
   "execution_count": 8,
   "id": "fd305d4d-6e3c-4c4e-b37c-f24ca22263fb",
   "metadata": {},
   "outputs": [
    {
     "name": "stdout",
     "output_type": "stream",
     "text": [
      "2025-07-20 00:00:00\n"
     ]
    }
   ],
   "source": [
    "from datetime import datetime\n",
    "print(datetime.strptime(\"2025-07-20\", \"%Y-%m-%d\"))"
   ]
  },
  {
   "cell_type": "code",
   "execution_count": 4,
   "id": "61801378-e8bf-4f37-a6a4-ec37fa4d8ede",
   "metadata": {},
   "outputs": [
    {
     "name": "stdout",
     "output_type": "stream",
     "text": [
      "Using access token: 1d17bb6163c5a9d82330e98d351fa9d73ac892d3\n",
      "{'id': 723727, 'username': 'eterrell', 'resource_state': 2, 'firstname': 'Ed', 'lastname': 'Terrell', 'bio': '', 'city': 'Boulder', 'state': 'CO', 'country': 'United States', 'sex': 'M', 'premium': True, 'summit': True, 'created_at': '2012-07-05T00:04:09Z', 'updated_at': '2025-07-09T12:38:59Z', 'badge_type_id': 1, 'weight': 61.235, 'profile_medium': 'https://dgalywyr863hv.cloudfront.net/pictures/athletes/723727/20826329/1/medium.jpg', 'profile': 'https://dgalywyr863hv.cloudfront.net/pictures/athletes/723727/20826329/1/large.jpg', 'friend': None, 'follower': None}\n"
     ]
    }
   ],
   "source": [
    "from token_manager import get_valid_access_token\n",
    "import requests\n",
    "\n",
    "access_token = get_valid_access_token()\n",
    "print(\"Using access token:\", access_token)\n",
    "\n",
    "# Make an authenticated API call\n",
    "response = requests.get(\n",
    "    'https://www.strava.com/api/v3/athlete',\n",
    "    headers={'Authorization': f'Bearer {access_token}'}\n",
    ")\n",
    "print(response.json())"
   ]
  },
  {
   "cell_type": "raw",
   "id": "716337a9-1bb1-4c30-b842-f69032168997",
   "metadata": {},
   "source": [
    "# USED ONLY IF token_manager.py isn't generating correctly\n",
    "client_id = 167221\n",
    "client_secret = 'f4df8e0dec7d9d8e725707eaf05037fcc845989d'\n",
    "auth_code = 'd973f0f86d2e56c3e7ac369809ca6b14fc814a98' # stored from last time\n",
    "\n",
    "response = requests.post(\n",
    "    'https://www.strava.com/oauth/token',\n",
    "    data={\n",
    "        'client_id': client_id,\n",
    "        'client_secret': client_secret,\n",
    "        'code': auth_code,\n",
    "        'grant_type': 'authorization_code',\n",
    "    }\n",
    ")\n",
    "# Check and save response\n",
    "if response.status_code == 200:\n",
    "    tokens = response.json()\n",
    "    print(\"✅ Tokens received:\")\n",
    "    print(json.dumps(tokens, indent=2))\n",
    "\n",
    "    # Save to tokens.json for use in token_manager.py\n",
    "    with open(\"tokens.json\", \"w\") as f:\n",
    "        json.dump(tokens, f)\n",
    "else:\n",
    "    print(\"❌ Failed to get tokens:\", response.status_code)\n",
    "    print(response.text)"
   ]
  },
  {
   "cell_type": "markdown",
   "id": "3fa71d38-4c72-4052-a4dc-fd90e4d77432",
   "metadata": {},
   "source": [
    "### Load dataframes"
   ]
  },
  {
   "cell_type": "code",
   "execution_count": 5,
   "id": "695c3577-cfb5-45d2-a1be-f372d46a4698",
   "metadata": {},
   "outputs": [
    {
     "name": "stdout",
     "output_type": "stream",
     "text": [
      "\u001b[01;34mdata\u001b[0m\n",
      "├── \u001b[01;34m2025-07-17\u001b[0m\n",
      "│   ├── \u001b[00mstrava_data_2025.pkl\u001b[0m\n",
      "│   └── \u001b[00mstrava_zone_data_2025.pkl\u001b[0m\n",
      "├── \u001b[01;34m2025-07-18\u001b[0m\n",
      "│   ├── \u001b[00mstrava_data_2024.pkl\u001b[0m\n",
      "│   └── \u001b[00mstrava_zone_data_2024.pkl\u001b[0m\n",
      "├── \u001b[01;34m2025-07-19\u001b[0m\n",
      "│   ├── \u001b[00mstrava_data_2025.pkl\u001b[0m\n",
      "│   └── \u001b[00mstrava_zone_data_2025.pkl\u001b[0m\n",
      "├── \u001b[01;34m2025-07-20\u001b[0m\n",
      "│   ├── \u001b[00mstrava_data_2025.pkl\u001b[0m\n",
      "│   └── \u001b[00mstrava_zone_data_2025.pkl\u001b[0m\n",
      "├── \u001b[00mstrava_data_2024.pkl\u001b[0m\n",
      "├── \u001b[00mstrava_data_2025.pkl\u001b[0m\n",
      "├── \u001b[00mstrava_data_empty.pkl\u001b[0m\n",
      "├── \u001b[00mstrava_zone_data_2024.pkl\u001b[0m\n",
      "├── \u001b[00mstrava_zone_data_2025.pkl\u001b[0m\n",
      "└── \u001b[00mstrava_zone_data_empty.pkl\u001b[0m\n",
      "\n",
      "5 directories, 14 files\n"
     ]
    }
   ],
   "source": [
    "!tree data"
   ]
  },
  {
   "cell_type": "markdown",
   "id": "216a56ff-d00f-4a73-8743-981037047842",
   "metadata": {},
   "source": [
    "### Select date range - default is yesterday to tomorrow"
   ]
  },
  {
   "cell_type": "code",
   "execution_count": 22,
   "id": "dffcdbbd-36d0-4ae4-bccf-a57c9f8860ce",
   "metadata": {},
   "outputs": [],
   "source": [
    "# Default values\n",
    "today = date.today().strftime('%Y-%m-%d')\n",
    "yesterday = (date.today() - timedelta(days=1)).strftime('%Y-%m-%d')\n",
    "tomorrow = (date.today() + timedelta(days=1)).strftime('%Y-%m-%d')"
   ]
  },
  {
   "cell_type": "code",
   "execution_count": 13,
   "id": "4eece22c-63a3-4e0a-8d4e-211496866d0e",
   "metadata": {},
   "outputs": [
    {
     "name": "stdout",
     "output_type": "stream",
     "text": [
      "125\n",
      "125\n"
     ]
    }
   ],
   "source": [
    "# select folder-year of pickle file e.g. (\"data/2025-07-18/strava_data_2025.pkl\")\n",
    "# select 'empty' to start new dfs from scratch\n",
    "\n",
    "# Default is yesterday for file location\n",
    "my_folder = today\n",
    "# my_folder = '2025-07-18'\n",
    "\n",
    "year = 2025\n",
    "\n",
    "# Reload dfs and confirm lengths\n",
    "strava_df = pd.read_pickle(f\"data/{my_folder}/strava_data_{year}.pkl\")\n",
    "strava_zone_df = pd.read_pickle(f\"data/{my_folder}/strava_zone_data_{year}.pkl\")\n",
    "\n",
    "print(len(strava_df))\n",
    "print(len(strava_zone_df))"
   ]
  },
  {
   "cell_type": "code",
   "execution_count": 14,
   "id": "adcc79f8-da82-4f11-ba95-e88758d401f3",
   "metadata": {},
   "outputs": [
    {
     "data": {
      "text/html": [
       "<div>\n",
       "<style scoped>\n",
       "    .dataframe tbody tr th:only-of-type {\n",
       "        vertical-align: middle;\n",
       "    }\n",
       "\n",
       "    .dataframe tbody tr th {\n",
       "        vertical-align: top;\n",
       "    }\n",
       "\n",
       "    .dataframe thead th {\n",
       "        text-align: right;\n",
       "    }\n",
       "</style>\n",
       "<table border=\"1\" class=\"dataframe\">\n",
       "  <thead>\n",
       "    <tr style=\"text-align: right;\">\n",
       "      <th></th>\n",
       "      <th>id</th>\n",
       "      <th>name</th>\n",
       "      <th>date</th>\n",
       "      <th>sport</th>\n",
       "      <th>distance</th>\n",
       "      <th>time</th>\n",
       "      <th>speed</th>\n",
       "      <th>elev_gain</th>\n",
       "      <th>avg_HR</th>\n",
       "      <th>max_HR</th>\n",
       "      <th>suffer_score</th>\n",
       "      <th>time-minutes</th>\n",
       "      <th>average_speed</th>\n",
       "      <th>start_date</th>\n",
       "    </tr>\n",
       "  </thead>\n",
       "  <tbody>\n",
       "    <tr>\n",
       "      <th>0</th>\n",
       "      <td>15178346085</td>\n",
       "      <td>Sandstone Ranch - recovery ride</td>\n",
       "      <td>2025-07-20</td>\n",
       "      <td>Ride</td>\n",
       "      <td>30.5</td>\n",
       "      <td>2:04</td>\n",
       "      <td>14.7</td>\n",
       "      <td>584.0</td>\n",
       "      <td>103.0</td>\n",
       "      <td>167.0</td>\n",
       "      <td>33.0</td>\n",
       "      <td>124.5</td>\n",
       "      <td>6.6</td>\n",
       "      <td>2025-07-20 13:46:19+00:00</td>\n",
       "    </tr>\n",
       "  </tbody>\n",
       "</table>\n",
       "</div>"
      ],
      "text/plain": [
       "            id                             name        date sport  distance  \\\n",
       "0  15178346085  Sandstone Ranch - recovery ride  2025-07-20  Ride      30.5   \n",
       "\n",
       "   time speed  elev_gain  avg_HR  max_HR  suffer_score  time-minutes  \\\n",
       "0  2:04  14.7      584.0   103.0   167.0          33.0         124.5   \n",
       "\n",
       "   average_speed                start_date  \n",
       "0            6.6 2025-07-20 13:46:19+00:00  "
      ]
     },
     "execution_count": 14,
     "metadata": {},
     "output_type": "execute_result"
    }
   ],
   "source": [
    "strava_df.head(1)"
   ]
  },
  {
   "cell_type": "code",
   "execution_count": 15,
   "id": "8f18dcf4-c2b5-4f07-b77f-2e46cb9e96e2",
   "metadata": {},
   "outputs": [
    {
     "data": {
      "text/html": [
       "<div>\n",
       "<style scoped>\n",
       "    .dataframe tbody tr th:only-of-type {\n",
       "        vertical-align: middle;\n",
       "    }\n",
       "\n",
       "    .dataframe tbody tr th {\n",
       "        vertical-align: top;\n",
       "    }\n",
       "\n",
       "    .dataframe thead th {\n",
       "        text-align: right;\n",
       "    }\n",
       "</style>\n",
       "<table border=\"1\" class=\"dataframe\">\n",
       "  <thead>\n",
       "    <tr style=\"text-align: right;\">\n",
       "      <th></th>\n",
       "      <th>id</th>\n",
       "      <th>name</th>\n",
       "      <th>date</th>\n",
       "      <th>suffer_score</th>\n",
       "      <th>start_date</th>\n",
       "      <th>Zone1</th>\n",
       "      <th>Zone2</th>\n",
       "      <th>Zone3</th>\n",
       "      <th>Zone4</th>\n",
       "      <th>Zone5</th>\n",
       "      <th>moderate</th>\n",
       "      <th>intense</th>\n",
       "      <th>week_start</th>\n",
       "      <th>weekly_intense</th>\n",
       "      <th>weekly_moderate</th>\n",
       "      <th>weekly_suffer_score</th>\n",
       "    </tr>\n",
       "  </thead>\n",
       "  <tbody>\n",
       "    <tr>\n",
       "      <th>0</th>\n",
       "      <td>15178346085</td>\n",
       "      <td>Sandstone Ranch - recovery ride</td>\n",
       "      <td>2025-07-20</td>\n",
       "      <td>33.0</td>\n",
       "      <td>2025-07-20 13:46:19+00:00</td>\n",
       "      <td>1.8</td>\n",
       "      <td>122.2</td>\n",
       "      <td>0.3</td>\n",
       "      <td>5.0e-02</td>\n",
       "      <td>8.3e-02</td>\n",
       "      <td>124.1</td>\n",
       "      <td>0.5</td>\n",
       "      <td>2025-07-14</td>\n",
       "      <td>122.1</td>\n",
       "      <td>704.2</td>\n",
       "      <td>538.0</td>\n",
       "    </tr>\n",
       "  </tbody>\n",
       "</table>\n",
       "</div>"
      ],
      "text/plain": [
       "            id                             name        date  suffer_score  \\\n",
       "0  15178346085  Sandstone Ranch - recovery ride  2025-07-20          33.0   \n",
       "\n",
       "                 start_date  Zone1  Zone2  Zone3    Zone4    Zone5  moderate  \\\n",
       "0 2025-07-20 13:46:19+00:00    1.8  122.2    0.3  5.0e-02  8.3e-02     124.1   \n",
       "\n",
       "   intense week_start  weekly_intense  weekly_moderate  weekly_suffer_score  \n",
       "0      0.5 2025-07-14           122.1            704.2                538.0  "
      ]
     },
     "execution_count": 15,
     "metadata": {},
     "output_type": "execute_result"
    }
   ],
   "source": [
    "# last entry date\n",
    "strava_zone_df.head(1)"
   ]
  },
  {
   "cell_type": "markdown",
   "id": "cd731c6a-f11c-4769-8dee-24243277a6af",
   "metadata": {},
   "source": [
    "### Update a specific activity"
   ]
  },
  {
   "cell_type": "raw",
   "id": "9b110de5-c82d-4be5-b77b-b6639f02491c",
   "metadata": {},
   "source": [
    "# to update a specific id with new info:\n",
    "# change this cell to code from raw\n",
    "# delete that id row from strava_df and strava_zone_df\n",
    "strava_df = strava_df[strava_df['id'] != 13504452781]\n",
    "strava_zone_df = strava_zone_df[strava_zone_df['id'] != 13504452781]\n",
    "print(len(strava_df))\n",
    "print(len(strava_zone_df))\n",
    "\n",
    "#Then select a start time to encompass that activity date"
   ]
  },
  {
   "cell_type": "markdown",
   "id": "861b5af7-0aca-4777-8170-7feb41a74200",
   "metadata": {},
   "source": [
    "### Recent activities only!"
   ]
  },
  {
   "cell_type": "code",
   "execution_count": 18,
   "id": "e3b5dfbb-e60a-44bc-ad68-2f8661827f48",
   "metadata": {},
   "outputs": [
    {
     "name": "stdin",
     "output_type": "stream",
     "text": [
      "Enter START date [2025-07-19]:  \n",
      "Enter END date [2025-07-21]:  \n"
     ]
    },
    {
     "name": "stdout",
     "output_type": "stream",
     "text": [
      "\n",
      "✅ Date range selected:\n",
      "Start: 2025-07-19\n",
      "End:   2025-07-21\n"
     ]
    }
   ],
   "source": [
    "def get_date(prompt, default=None):\n",
    "    while True:\n",
    "        user_input = input(f\"{prompt} [{default}]: \").strip()\n",
    "        if user_input == \"\":\n",
    "            return default\n",
    "        try:\n",
    "            parsed_date = datetime.strptime(user_input, '%Y-%m-%d')\n",
    "            return parsed_date.strftime('%Y-%m-%d')\n",
    "        except ValueError:\n",
    "            print(\"❌ Invalid date format. Use YYYY-MM-DD.\")\n",
    "\n",
    "# Get start and end dates from user\n",
    "start_date_str = get_date(\"Enter START date\", default=yesterday)\n",
    "end_date_str = get_date(\"Enter END date\", default=tomorrow)\n",
    "\n",
    "print(f\"\\n✅ Date range selected:\\nStart: {start_date_str}\\nEnd:   {end_date_str}\")\n"
   ]
  },
  {
   "cell_type": "code",
   "execution_count": 19,
   "id": "d996046f-d2c9-4230-a2c5-bdae52b38e9d",
   "metadata": {},
   "outputs": [
    {
     "name": "stdout",
     "output_type": "stream",
     "text": [
      "\n",
      "ID: 15178346085, Name: Sandstone Ranch - recovery ride, Date: 2025-07-20T13:46:19Z\n",
      "ID: 15169016891, Name: Raymond to Ward - that was brutal, Date: 2025-07-19T13:23:35Z\n"
     ]
    }
   ],
   "source": [
    "# Desired number of activities for upload\n",
    "num_of_activities_for_upload = 50\n",
    "\n",
    "# change date to unix integer format with mktime\n",
    "start_date = int(time.mktime(time.strptime(start_date_str, '%Y-%m-%d')))\n",
    "end_date = int(time.mktime(time.strptime(end_date_str, '%Y-%m-%d')))\n",
    "print()\n",
    "\n",
    "# strava url\n",
    "url = \"https://www.strava.com/api/v3/athlete/activities\"\n",
    "headers = {\"Authorization\": f\"Bearer {access_token}\"}\n",
    "params = {\n",
    "    \"before\": end_date,\n",
    "    \"after\": start_date,\n",
    "    \"per_page\": 200,  # max per request\n",
    "    \"page\": 1\n",
    "}\n",
    "activities = []\n",
    "\n",
    "stop_fetching = False\n",
    "while True:\n",
    "    response = requests.get(url, headers=headers, params=params)\n",
    "    data = response.json()\n",
    "    if not data or stop_fetching:\n",
    "        # breaks out of while loop\n",
    "        break\n",
    "        \n",
    "    for activity in data:\n",
    "        # change date to unix integer format\n",
    "        activity_date = int(datetime.datetime.strptime(activity['start_date'], \"%Y-%m-%dT%H:%M:%SZ\").timestamp())\n",
    "        print(f\"ID: {activity['id']}, Name: {activity['name']}, Date: {activity['start_date']}\")\n",
    "        # set number of activites (strava maximum is 100/15 minutes)\n",
    "        if len(activities) >= num_of_activities_for_upload:\n",
    "            stop_fetching = True\n",
    "            # breaks out of for loop only\n",
    "            break\n",
    "        activities.append(activity)\n",
    "    params[\"page\"] += 1"
   ]
  },
  {
   "cell_type": "code",
   "execution_count": 20,
   "id": "aafab648-08de-42f1-9832-fc892ea5843f",
   "metadata": {},
   "outputs": [
    {
     "name": "stdout",
     "output_type": "stream",
     "text": [
      "\n"
     ]
    },
    {
     "data": {
      "text/plain": [
       "0"
      ]
     },
     "execution_count": 20,
     "metadata": {},
     "output_type": "execute_result"
    }
   ],
   "source": [
    "# Build out strava_df with only the necessary columns\n",
    "recent_df = pd.DataFrame(activities)\n",
    "cols_needed = ['id','name', 'distance', 'moving_time','total_elevation_gain', 'sport_type',\n",
    "          'average_speed', 'average_heartrate','max_heartrate', 'suffer_score','start_date']\n",
    "recent_df = recent_df.loc[:,cols_needed]\n",
    "recent_df = recent_df.sort_values('start_date',ascending=False) \n",
    "\n",
    "# This step does the comparison between recent_df and strava_df\n",
    "# strava_df holds previously saved data\n",
    "\n",
    "if strava_df.empty:\n",
    "    new_activities_df = recent_df.copy()\n",
    "else:\n",
    "    new_activities_df = recent_df[~recent_df.id.isin(strava_df.id)].copy()\n",
    "    \n",
    "# display df of new activities\n",
    "print()\n",
    "len(new_activities_df)"
   ]
  },
  {
   "cell_type": "code",
   "execution_count": 21,
   "id": "bfb9d6c8-d0d2-49d9-a548-3e39e19abb99",
   "metadata": {},
   "outputs": [
    {
     "name": "stdout",
     "output_type": "stream",
     "text": [
      "No new activities to process.\n"
     ]
    },
    {
     "data": {
      "text/plain": [
       "125"
      ]
     },
     "execution_count": 21,
     "metadata": {},
     "output_type": "execute_result"
    }
   ],
   "source": [
    "strava_df = process_new_data(new_activities_df, strava_df)\n",
    "len(strava_df)"
   ]
  },
  {
   "cell_type": "markdown",
   "id": "bfb517e1-0043-4303-9d16-a8e64be891b3",
   "metadata": {},
   "source": [
    "### Get Zone data"
   ]
  },
  {
   "cell_type": "raw",
   "id": "4540d492-8e72-4698-9bae-10b7bb7ddca7",
   "metadata": {},
   "source": [
    "zone 1           <93\n",
    "zone 2 Moderate  93-123\n",
    "zone 3 Tempo     123 - 138\n",
    "zone 4 Threshold 138 - 153\n",
    "zone 5 Anaerobic > 153"
   ]
  },
  {
   "cell_type": "code",
   "execution_count": null,
   "id": "29d31c0b-ac72-4eea-9435-895aab13f5e8",
   "metadata": {},
   "outputs": [],
   "source": [
    "# Recent zone data\n",
    "# Create a new_zone dataframe for recent activities\n",
    "cols = ['id', 'name', 'date', 'suffer_score','start_date']\n",
    "new_data = strava_df.loc[:,cols]\n",
    "new_zone_df = pd.DataFrame(new_data, columns=cols)\n",
    "\n",
    "mask = new_zone_df['id'].isin(new_activities_df['id'])\n",
    "new_zone_df = new_zone_df[mask]\n",
    "len(new_zone_df)"
   ]
  },
  {
   "cell_type": "code",
   "execution_count": null,
   "id": "174dedd1-5ae2-4c65-aacd-72809a8f8a31",
   "metadata": {},
   "outputs": [],
   "source": [
    "# Note that get_zones_for_id is a function in zones.py\n",
    "# There is a max limit of 100 calls per 15 minutes set by Strava for this function\n",
    "if len(new_zone_df) < 100:\n",
    "    # Apply function to fetch zone data per activity ID\n",
    "    zone = new_zone_df['id'].apply(lambda current_id: get_zones_for_id(current_id, access_token))\n",
    "    zone.index = new_zone_df['id']\n",
    "\n",
    "    # Add in summary zones: moderate and intense\n",
    "    zone['moderate'] = zone[['Zone1', 'Zone2']].sum(axis=1)\n",
    "    zone['intense'] = zone[['Zone3', 'Zone4', 'Zone5']].sum(axis=1)\n",
    "\n",
    "    # display new zone info\n",
    "    print()\n",
    "    zone\n",
    "else:\n",
    "     print(\"❌ Number of calls will exceed Strava's 15-minute limit (max 100)\")\n",
    "     print (\"Try limiting the number of calls before proceeding\")"
   ]
  },
  {
   "cell_type": "code",
   "execution_count": null,
   "id": "36df9731-0a19-4646-b442-97c493ae300b",
   "metadata": {},
   "outputs": [],
   "source": [
    "new_zone_df = pd.merge(new_zone_df, zone, left_on='id',right_index=True)"
   ]
  },
  {
   "cell_type": "code",
   "execution_count": null,
   "id": "cb35c99a-95b7-4dc6-8a14-2d599a9f6d8a",
   "metadata": {},
   "outputs": [],
   "source": [
    "# Get the Sunday start of the week for each date (time set to Sunday at midnight)\n",
    "new_zone_df['week_start'] = new_zone_df['start_date'].dt.to_period('W-SUN').dt.start_time\n",
    "\n",
    "#new_zone_df.columns are now matched with strava_zone_df\n",
    "new_zone_df = pd.concat ([new_zone_df, strava_zone_df], axis=0)\n",
    "\n",
    "new_zone_df.head(1)"
   ]
  },
  {
   "cell_type": "code",
   "execution_count": null,
   "id": "8582490c-f873-4477-8247-f92369e8b976",
   "metadata": {},
   "outputs": [],
   "source": [
    "len(strava_zone_df)\n",
    "len(new_zone_df)"
   ]
  },
  {
   "cell_type": "code",
   "execution_count": null,
   "id": "81cd3ed7-1fbd-4dcf-96b5-7a07b7f87353",
   "metadata": {},
   "outputs": [],
   "source": [
    "# This drops all weekly_ cols since they are all recalculated later\n",
    "only_cols = ['id', 'name', 'date', 'suffer_score', 'start_date', 'Zone1', 'Zone2',\n",
    "       'Zone3', 'Zone4', 'Zone5', 'moderate', 'intense', 'week_start']\n",
    "new_zone_df = new_zone_df[only_cols]\n",
    "#new_zone_df.head()\n",
    "\n",
    "# Temporarily sort ascending by week_start and date to compute cumulative sum correctly\n",
    "temp = new_zone_df.sort_values(['week_start', 'start_date'])"
   ]
  },
  {
   "cell_type": "code",
   "execution_count": null,
   "id": "e2754bcc-1329-4db8-923d-92a59915ecce",
   "metadata": {},
   "outputs": [],
   "source": [
    "# Calculate cumulative sum within each week for weekly_ cols\n",
    "cumulative_cols = ['intense', 'moderate', 'suffer_score']\n",
    "cumulative_sums = (\n",
    "temp\n",
    "    .groupby('week_start')[cumulative_cols]\n",
    "    .cumsum()\n",
    "    .add_prefix('weekly_')  # rename columns if needed\n",
    ")\n",
    "# Add start_date column for reference\n",
    "cumulative_sums['start_date'] = temp['start_date']\n",
    "cumulative_sums = cumulative_sums.sort_values('start_date', ascending = False)\n",
    "cumulative_sums.head(3)\n",
    "strava_zone_df = pd.merge(new_zone_df,cumulative_sums, left_on ='start_date', right_on='start_date')"
   ]
  },
  {
   "cell_type": "markdown",
   "id": "7c61549e-bad2-4be0-89e5-b53008e1c122",
   "metadata": {},
   "source": [
    "### Plotting Section"
   ]
  },
  {
   "cell_type": "code",
   "execution_count": null,
   "id": "bf31949e-1632-4a80-a664-dbaf306827f3",
   "metadata": {},
   "outputs": [],
   "source": [
    "len(cumulative_sums)\n",
    "len(strava_zone_df)"
   ]
  },
  {
   "cell_type": "code",
   "execution_count": null,
   "id": "eae5f217-48d8-40f5-b35d-6e09ed4a0a15",
   "metadata": {},
   "outputs": [],
   "source": [
    "week_summary = build_week_summary(strava_zone_df)\n",
    "week_summary.sort_values('week_start',ascending=False).head()"
   ]
  },
  {
   "cell_type": "code",
   "execution_count": null,
   "id": "aa60c814-62ab-4aa8-b6f1-842e7d0bc7a1",
   "metadata": {},
   "outputs": [],
   "source": [
    "import matplotlib.pyplot as plt\n",
    "\n",
    "ax = week_summary.plot(\n",
    "    y=['weekly_moderate','weekly_intense'],\n",
    "    x='week',\n",
    "    kind='bar', \n",
    "    stacked=True, \n",
    "    figsize=(14, 6), \n",
    "    color=['#98FB98', '#F08080']\n",
    ")\n",
    "\n",
    "# Overlay line plot for 'weekly_suffer_score'\n",
    "line = ax.plot(\n",
    "    week_summary[\"week\"],\n",
    "    week_summary[\"weekly_suffer_score\"],\n",
    "    color=\"black\",\n",
    "    marker=\"o\",\n",
    "    linewidth=2,\n",
    "    label=\"Suffer_Score\"  \n",
    ")\n",
    "\n",
    "plt.title(\"Time in Heart Rate Zones\");\n",
    "plt.xlabel(\"Activity ID\");\n",
    "plt.ylabel(\"Time (minutes)\");\n",
    "plt.legend(title=\"Zone\");\n",
    "plt.xticks(rotation=45, ha='right');\n",
    "plt.tight_layout();\n",
    "plt.show();"
   ]
  },
  {
   "cell_type": "markdown",
   "id": "6f617a86-5860-4fbc-9590-57af1a1640a8",
   "metadata": {},
   "source": [
    "### Drilling down a specific week"
   ]
  },
  {
   "cell_type": "code",
   "execution_count": null,
   "id": "ef119cd2-4df4-48f6-82de-069d8d8b284f",
   "metadata": {},
   "outputs": [],
   "source": [
    "week_df"
   ]
  },
  {
   "cell_type": "code",
   "execution_count": null,
   "id": "98cfda0d-3ea1-430d-b342-032524efa786",
   "metadata": {},
   "outputs": [],
   "source": [
    "# default start is current week\n",
    "start = week_summary.sort_values('week_start',ascending=False).iloc[0,0]\n",
    "#start = \"2025-01-27\" # <-- select custom week starting datea\n",
    "\n",
    "week_df, zone_week_df = display_detail_week(start, strava_df, strava_zone_df)\n",
    "week_df.sort_values('start_date',ascending=False)[['id','name', 'date', 'sport', 'distance', 'time', 'speed', 'elev_gain',\n",
    "       'avg_HR', 'max_HR', 'suffer_score']]\n",
    "zone_week_df.sort_values('start_date',ascending=False)[['name','date','Zone1', 'Zone2',\n",
    "       'Zone3', 'Zone4', 'Zone5', 'moderate', 'intense', 'week_start',\n",
    "       'weekly_intense']]"
   ]
  },
  {
   "cell_type": "raw",
   "id": "0e55e53a-8e77-4fad-a191-49d25615bf97",
   "metadata": {},
   "source": [
    "# Set number of rows to display\n",
    "pd.set_option('display.max_rows', 20) #if set to None this will show all\n",
    "pd.set_option('display.min_rows', 20)  # adjust to help override auto-truncation\n",
    "\n",
    "strava_zone_df[['name','date','intense']]\n",
    "pd.reset_option('display.max_rows')"
   ]
  },
  {
   "cell_type": "markdown",
   "id": "7201dc71-222d-43cd-ad88-84d63baeb2e7",
   "metadata": {},
   "source": [
    "### Saving data"
   ]
  },
  {
   "cell_type": "code",
   "execution_count": null,
   "id": "71e356ba-ced8-4e7e-b5a8-f5748c9af7f0",
   "metadata": {},
   "outputs": [],
   "source": [
    "strava_df = strava_df.sort_values('id',ascending=False)\n",
    "strava_zone_df = strava_zone_df.sort_values('id',ascending=False)"
   ]
  },
  {
   "cell_type": "code",
   "execution_count": null,
   "id": "4b34c832-3aef-4086-9d57-adcfee9329d1",
   "metadata": {},
   "outputs": [],
   "source": [
    "# verify before saving\n",
    "strava_df.head(1)\n",
    "strava_zone_df.head(1)\n",
    "print(len(strava_df))\n",
    "print(len(strava_zone_df))"
   ]
  },
  {
   "cell_type": "markdown",
   "id": "ecf05fde-9a35-45b7-b3c9-471d277228bf",
   "metadata": {},
   "source": [
    "### Use save_data, and year"
   ]
  },
  {
   "cell_type": "code",
   "execution_count": null,
   "id": "6c1aca6a-1d5a-4771-a470-08421534a5c6",
   "metadata": {},
   "outputs": [],
   "source": [
    "# Select year for saving\n",
    "# Data will be saved to: data/{today}\n",
    "save_data(strava_df, strava_zone_df, 2025)"
   ]
  },
  {
   "cell_type": "code",
   "execution_count": null,
   "id": "07d1d2e0-241b-4c2e-8405-c6a2c7fa1071",
   "metadata": {},
   "outputs": [],
   "source": []
  },
  {
   "cell_type": "code",
   "execution_count": null,
   "id": "0132558c-926a-4eda-983f-5040c7a93280",
   "metadata": {},
   "outputs": [],
   "source": []
  }
 ],
 "metadata": {
  "kernelspec": {
   "display_name": "Python 3",
   "language": "python",
   "name": "python3"
  },
  "language_info": {
   "codemirror_mode": {
    "name": "ipython",
    "version": 3
   },
   "file_extension": ".py",
   "mimetype": "text/x-python",
   "name": "python",
   "nbconvert_exporter": "python",
   "pygments_lexer": "ipython3",
   "version": "3.8.8"
  }
 },
 "nbformat": 4,
 "nbformat_minor": 5
}
