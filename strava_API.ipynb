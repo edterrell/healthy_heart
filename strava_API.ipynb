{
 "cells": [
  {
   "cell_type": "code",
   "execution_count": 1,
   "id": "5d459dfb-74f9-41d9-8af4-c92e2c2b4a4c",
   "metadata": {},
   "outputs": [
    {
     "data": {
      "text/plain": [
       "'/Users/edwardterrell/Desktop/Training/kindle/strava'"
      ]
     },
     "execution_count": 1,
     "metadata": {},
     "output_type": "execute_result"
    }
   ],
   "source": [
    "pwd"
   ]
  },
  {
   "cell_type": "code",
   "execution_count": 30,
   "id": "f86e2403-fec5-475b-9ee0-efa17cf601f7",
   "metadata": {},
   "outputs": [
    {
     "data": {
      "text/html": [
       "<style>body {\n",
       "    margin: 0;\n",
       "    font-family: Helvetica;\n",
       "}\n",
       "\n",
       "table.dataframe {\n",
       "    border-collapse: collapse;\n",
       "    border: none;\n",
       "}\n",
       "\n",
       "table.dataframe tr {\n",
       "    border: none;\n",
       "}\n",
       "\n",
       "table.dataframe td, table.dataframe th {\n",
       "    margin: 0;\n",
       "    border: 1px solid white;\n",
       "    padding-left: 0.25em;\n",
       "    padding-right: 0.25em;\n",
       "}\n",
       "\n",
       "table.dataframe th:not(:empty) {\n",
       "    background-color: #fec;\n",
       "    text-align: left;\n",
       "    font-weight: normal;\n",
       "}\n",
       "\n",
       "table.dataframe tr:nth-child(2) th:empty {\n",
       "    border-left: none;\n",
       "    border-right: 1px dashed #888;\n",
       "    background-color: #f4f4ff;\n",
       "}\n",
       "\n",
       "table.dataframe td {\n",
       "    border: 2px solid #ccf;\n",
       "    background-color: #f4f4ff;\n",
       "}\n",
       "\n",
       "/* Add a smooth transition effect for the background color change */\n",
       "table.dataframe tr {\n",
       "   border: none;\n",
       "   transition: background-color 0.3s; \n",
       "} \n",
       "\n",
       "table.dataframe tr:hover {\n",
       "    background-color: #ffccd8;\n",
       "}\n",
       "\n",
       "/* Override the cell background color within the hovered row */\n",
       "table.dataframe tr:hover td {\n",
       "    background-color: #ffccd8; /* Use the same color as the row hover effect */\n",
       "}\n",
       "h3 {\n",
       "    color: white;\n",
       "    background-color: black;\n",
       "    padding: 0.5em;\n",
       "}\n",
       "</style>"
      ],
      "text/plain": [
       "<IPython.core.display.HTML object>"
      ]
     },
     "execution_count": 30,
     "metadata": {},
     "output_type": "execute_result"
    }
   ],
   "source": [
    "%matplotlib inline\n",
    "from IPython.core.display import HTML\n",
    "css = open('css/style-table.css').read() + open('css/style-notebook.css').read()\n",
    "HTML('<style>{}</style>'.format(css))"
   ]
  },
  {
   "cell_type": "code",
   "execution_count": 10,
   "id": "d6710164-d780-4a78-84ab-36ef6b5000f8",
   "metadata": {},
   "outputs": [
    {
     "name": "stdout",
     "output_type": "stream",
     "text": [
      "The autoreload extension is already loaded. To reload it, use:\n",
      "  %reload_ext autoreload\n"
     ]
    },
    {
     "data": {
      "text/plain": [
       "'/Users/edwardterrell/opt/anaconda3/envs/mlml/bin/python'"
      ]
     },
     "execution_count": 10,
     "metadata": {},
     "output_type": "execute_result"
    }
   ],
   "source": [
    "import requests\n",
    "import json\n",
    "import time\n",
    "import os\n",
    "from pprint import pprint\n",
    "import datetime\n",
    "\n",
    "import pandas as pd\n",
    "pd.set_option('display.precision', 1)\n",
    "import warnings\n",
    "warnings.filterwarnings(\"ignore\", message=\".*will drop timezone.*\")\n",
    "\n",
    "%load_ext autoreload\n",
    "%autoreload 2\n",
    "from clean_convert import cleanup, convert_speed, order_columns, process_new_data\n",
    "from zones import get_zones_for_id, build_week_summary\n",
    "\n",
    "# import graphics programs\n",
    "import matplotlib.pyplot as plt\n",
    "import seaborn as sns\n",
    "sns.set(rc={'figure.figsize':(14,6)}) # for all future plots\n",
    "\n",
    "import sys\n",
    "sys.executable"
   ]
  },
  {
   "cell_type": "code",
   "execution_count": 4,
   "id": "61801378-e8bf-4f37-a6a4-ec37fa4d8ede",
   "metadata": {},
   "outputs": [
    {
     "name": "stdout",
     "output_type": "stream",
     "text": [
      "Access token expired. Refreshing...\n",
      "Using access token: 980f79f6b681506ceb99e4b45543a1b6f3663590\n",
      "{'id': 723727, 'username': 'eterrell', 'resource_state': 2, 'firstname': 'Ed', 'lastname': 'Terrell', 'bio': '', 'city': 'Boulder', 'state': 'CO', 'country': 'United States', 'sex': 'M', 'premium': True, 'summit': True, 'created_at': '2012-07-05T00:04:09Z', 'updated_at': '2025-07-09T12:38:59Z', 'badge_type_id': 1, 'weight': 61.235, 'profile_medium': 'https://dgalywyr863hv.cloudfront.net/pictures/athletes/723727/20826329/1/medium.jpg', 'profile': 'https://dgalywyr863hv.cloudfront.net/pictures/athletes/723727/20826329/1/large.jpg', 'friend': None, 'follower': None}\n"
     ]
    }
   ],
   "source": [
    "from token_manager import get_valid_access_token\n",
    "import requests\n",
    "\n",
    "access_token = get_valid_access_token()\n",
    "print(\"Using access token:\", access_token)\n",
    "\n",
    "# Make an authenticated API call\n",
    "response = requests.get(\n",
    "    'https://www.strava.com/api/v3/athlete',\n",
    "    headers={'Authorization': f'Bearer {access_token}'}\n",
    ")\n",
    "print(response.json())"
   ]
  },
  {
   "cell_type": "raw",
   "id": "716337a9-1bb1-4c30-b842-f69032168997",
   "metadata": {},
   "source": [
    "# USED ONLY IF token_manager.py isn't generating correctly\n",
    "client_id = 167221\n",
    "client_secret = 'f4df8e0dec7d9d8e725707eaf05037fcc845989d'\n",
    "auth_code = 'd973f0f86d2e56c3e7ac369809ca6b14fc814a98' # stored from last time\n",
    "\n",
    "response = requests.post(\n",
    "    'https://www.strava.com/oauth/token',\n",
    "    data={\n",
    "        'client_id': client_id,\n",
    "        'client_secret': client_secret,\n",
    "        'code': auth_code,\n",
    "        'grant_type': 'authorization_code',\n",
    "    }\n",
    ")\n",
    "# Check and save response\n",
    "if response.status_code == 200:\n",
    "    tokens = response.json()\n",
    "    print(\"✅ Tokens received:\")\n",
    "    print(json.dumps(tokens, indent=2))\n",
    "\n",
    "    # Save to tokens.json for use in token_manager.py\n",
    "    with open(\"tokens.json\", \"w\") as f:\n",
    "        json.dump(tokens, f)\n",
    "else:\n",
    "    print(\"❌ Failed to get tokens:\", response.status_code)\n",
    "    print(response.text)"
   ]
  },
  {
   "cell_type": "code",
   "execution_count": 5,
   "id": "4483d37e-59e8-4d82-9ec6-35c12623af04",
   "metadata": {},
   "outputs": [],
   "source": [
    "# establish an empty strava_df and strava_zone_df for building-up from scratch \n",
    "# used when no previous data is do be loaded e.g. different user, different year\n",
    "columns =['id', 'name', 'date', 'sport', 'distance', 'time', 'speed', 'elev_gain',\n",
    "       'avg_HR', 'max_HR', 'suffer_score', 'time-minutes', 'average_speed',\n",
    "       'start_date']\n",
    "strava_df = pd.DataFrame(columns=columns)\n",
    "\n",
    "columns = ['id', 'name', 'date', 'suffer_score', 'start_date', 'Zone1', 'Zone2',\n",
    "       'Zone3', 'Zone4', 'Zone5', 'moderate', 'intense', 'week_start',\n",
    "       'weekly_intense', 'weekly_moderate', 'weekly_suffer_score']\n",
    "strava_zone_df = pd.DataFrame(columns=columns)"
   ]
  },
  {
   "cell_type": "code",
   "execution_count": 6,
   "id": "4eece22c-63a3-4e0a-8d4e-211496866d0e",
   "metadata": {},
   "outputs": [
    {
     "name": "stdout",
     "output_type": "stream",
     "text": [
      "121\n",
      "121\n"
     ]
    }
   ],
   "source": [
    "# select year for pickle file \n",
    "# Reload dfs and confirm lengths\n",
    "strava_df = pd.read_pickle(\"data/strava_data_2025.pkl\")\n",
    "strava_zone_df = pd.read_pickle(\"data/strava_zone_data_2025.pkl\")\n",
    "\n",
    "print(len(strava_df))\n",
    "print(len(strava_zone_df))"
   ]
  },
  {
   "cell_type": "code",
   "execution_count": 7,
   "id": "8f18dcf4-c2b5-4f07-b77f-2e46cb9e96e2",
   "metadata": {},
   "outputs": [
    {
     "data": {
      "text/html": [
       "<div>\n",
       "<style scoped>\n",
       "    .dataframe tbody tr th:only-of-type {\n",
       "        vertical-align: middle;\n",
       "    }\n",
       "\n",
       "    .dataframe tbody tr th {\n",
       "        vertical-align: top;\n",
       "    }\n",
       "\n",
       "    .dataframe thead th {\n",
       "        text-align: right;\n",
       "    }\n",
       "</style>\n",
       "<table border=\"1\" class=\"dataframe\">\n",
       "  <thead>\n",
       "    <tr style=\"text-align: right;\">\n",
       "      <th></th>\n",
       "      <th>id</th>\n",
       "      <th>name</th>\n",
       "      <th>date</th>\n",
       "      <th>suffer_score</th>\n",
       "      <th>start_date</th>\n",
       "      <th>Zone1</th>\n",
       "      <th>Zone2</th>\n",
       "      <th>Zone3</th>\n",
       "      <th>Zone4</th>\n",
       "      <th>Zone5</th>\n",
       "      <th>moderate</th>\n",
       "      <th>intense</th>\n",
       "      <th>week_start</th>\n",
       "      <th>weekly_intense</th>\n",
       "      <th>weekly_moderate</th>\n",
       "      <th>weekly_suffer_score</th>\n",
       "    </tr>\n",
       "  </thead>\n",
       "  <tbody>\n",
       "    <tr>\n",
       "      <th>0</th>\n",
       "      <td>15102156207</td>\n",
       "      <td>Recovery gravel in the early morning</td>\n",
       "      <td>2025-07-13</td>\n",
       "      <td>52.0</td>\n",
       "      <td>2025-07-13 13:09:14+00:00</td>\n",
       "      <td>3.8</td>\n",
       "      <td>117.1</td>\n",
       "      <td>0.1</td>\n",
       "      <td>0.5</td>\n",
       "      <td>3.5</td>\n",
       "      <td>120.9</td>\n",
       "      <td>4.1</td>\n",
       "      <td>2025-07-07</td>\n",
       "      <td>155.5</td>\n",
       "      <td>767.9</td>\n",
       "      <td>546.0</td>\n",
       "    </tr>\n",
       "  </tbody>\n",
       "</table>\n",
       "</div>"
      ],
      "text/plain": [
       "            id                                  name        date  \\\n",
       "0  15102156207  Recovery gravel in the early morning  2025-07-13   \n",
       "\n",
       "   suffer_score                start_date  Zone1  Zone2  Zone3  Zone4  Zone5  \\\n",
       "0          52.0 2025-07-13 13:09:14+00:00    3.8  117.1    0.1    0.5    3.5   \n",
       "\n",
       "   moderate  intense week_start  weekly_intense  weekly_moderate  \\\n",
       "0     120.9      4.1 2025-07-07           155.5            767.9   \n",
       "\n",
       "   weekly_suffer_score  \n",
       "0                546.0  "
      ]
     },
     "execution_count": 7,
     "metadata": {},
     "output_type": "execute_result"
    }
   ],
   "source": [
    "# last entry date\n",
    "strava_zone_df.head(1)"
   ]
  },
  {
   "cell_type": "markdown",
   "id": "861b5af7-0aca-4777-8170-7feb41a74200",
   "metadata": {},
   "source": [
    "### Recent activities only!"
   ]
  },
  {
   "cell_type": "code",
   "execution_count": 9,
   "id": "f5a886dc-4231-4883-a5e9-b0a00d15445c",
   "metadata": {},
   "outputs": [
    {
     "name": "stdout",
     "output_type": "stream",
     "text": [
      "1751399910\n",
      "1751658397\n",
      "1751745337\n",
      "1751832882\n",
      "1751913518\n",
      "1752007442\n",
      "1752092248\n",
      "1752349547\n",
      "1752433754\n",
      "1752608348\n"
     ]
    },
    {
     "data": {
      "text/html": [
       "<div>\n",
       "<style scoped>\n",
       "    .dataframe tbody tr th:only-of-type {\n",
       "        vertical-align: middle;\n",
       "    }\n",
       "\n",
       "    .dataframe tbody tr th {\n",
       "        vertical-align: top;\n",
       "    }\n",
       "\n",
       "    .dataframe thead th {\n",
       "        text-align: right;\n",
       "    }\n",
       "</style>\n",
       "<table border=\"1\" class=\"dataframe\">\n",
       "  <thead>\n",
       "    <tr style=\"text-align: right;\">\n",
       "      <th></th>\n",
       "      <th>id</th>\n",
       "      <th>name</th>\n",
       "      <th>distance</th>\n",
       "      <th>moving_time</th>\n",
       "      <th>total_elevation_gain</th>\n",
       "      <th>sport_type</th>\n",
       "      <th>average_speed</th>\n",
       "      <th>average_heartrate</th>\n",
       "      <th>max_heartrate</th>\n",
       "      <th>suffer_score</th>\n",
       "      <th>start_date</th>\n",
       "    </tr>\n",
       "  </thead>\n",
       "  <tbody>\n",
       "    <tr>\n",
       "      <th>9</th>\n",
       "      <td>15123570047</td>\n",
       "      <td>North Sky and Skyline Ranch</td>\n",
       "      <td>47705.6</td>\n",
       "      <td>9659</td>\n",
       "      <td>429.9</td>\n",
       "      <td>Ride</td>\n",
       "      <td>4.9</td>\n",
       "      <td>109.3</td>\n",
       "      <td>138.0</td>\n",
       "      <td>77.0</td>\n",
       "      <td>2025-07-15T13:39:08Z</td>\n",
       "    </tr>\n",
       "  </tbody>\n",
       "</table>\n",
       "</div>"
      ],
      "text/plain": [
       "            id                         name  distance  moving_time  \\\n",
       "9  15123570047  North Sky and Skyline Ranch   47705.6         9659   \n",
       "\n",
       "   total_elevation_gain sport_type  average_speed  average_heartrate  \\\n",
       "9                 429.9       Ride            4.9              109.3   \n",
       "\n",
       "   max_heartrate  suffer_score            start_date  \n",
       "9          138.0          77.0  2025-07-15T13:39:08Z  "
      ]
     },
     "execution_count": 9,
     "metadata": {},
     "output_type": "execute_result"
    }
   ],
   "source": [
    "# select date to start new activities data collection\n",
    "startdate_string = '2025-07-01'\n",
    "enddate_string = '2026-02-10'\n",
    "\n",
    "# change date to unix integer format\n",
    "start_date = int(time.mktime(time.strptime(startdate_string, '%Y-%m-%d')))\n",
    "end_date = int(time.mktime(time.strptime(enddate_string, '%Y-%m-%d')))\n",
    "\n",
    "# strava url\n",
    "url = \"https://www.strava.com/api/v3/athlete/activities\"\n",
    "headers = {\"Authorization\": f\"Bearer {access_token}\"}\n",
    "params = {\n",
    "    \"after\": start_date,\n",
    "    \"per_page\": 200,  # max per request\n",
    "    \"page\": 1\n",
    "}\n",
    "activities = []\n",
    "\n",
    "stop_fetching = False\n",
    "while True:\n",
    "    response = requests.get(url, headers=headers, params=params)\n",
    "    data = response.json()\n",
    "    if not data or stop_fetching:\n",
    "        # breaks out of while loop\n",
    "        break\n",
    "        \n",
    "    for activity in data:\n",
    "        # change date to unix integer format\n",
    "        activity_date = int(datetime.datetime.strptime(activity['start_date'], \"%Y-%m-%dT%H:%M:%SZ\").timestamp())\n",
    "\n",
    "        # print(activity['start_date'])\n",
    "        print(activity_date)\n",
    "        if activity_date >= end_date:\n",
    "            stop_fetching = True\n",
    "            # breaks out of for loop only\n",
    "            break \n",
    "        # set number of activites (strava maximum is 100/15 minutes)\n",
    "        if len(activities) >= 30:\n",
    "            stop_fetching = True\n",
    "            # breaks out of for loop only\n",
    "            break\n",
    "        activities.append(activity)\n",
    "    params[\"page\"] += 1\n",
    "\n",
    "\n",
    "# Build out strava_df with only the necessary columns\n",
    "recent_df = pd.DataFrame(activities)\n",
    "cols_needed = ['id','name', 'distance', 'moving_time','total_elevation_gain', 'sport_type',\n",
    "          'average_speed', 'average_heartrate','max_heartrate', 'suffer_score','start_date']\n",
    "recent_df = recent_df.loc[:,cols_needed]\n",
    "recent_df = recent_df.sort_values('start_date',ascending=False) \n",
    "\n",
    "# This step does the comparison between recent_df and strava_df\n",
    "# strava_df holds previously saved data\n",
    "\n",
    "if strava_df.empty:\n",
    "    new_activities_df = recent_df.copy()\n",
    "else:\n",
    "    new_activities_df = recent_df[~recent_df.id.isin(strava_df.id)].copy()\n",
    "new_activities_df"
   ]
  },
  {
   "cell_type": "code",
   "execution_count": 11,
   "id": "76054c51-6148-4b4f-b4f7-b457cdfe5e0d",
   "metadata": {},
   "outputs": [],
   "source": [
    "strava_df = process_new_data(new_activities_df, strava_df)"
   ]
  },
  {
   "cell_type": "code",
   "execution_count": 12,
   "id": "03e2feae-7c1e-4c63-b2e4-b897e9296445",
   "metadata": {},
   "outputs": [
    {
     "data": {
      "text/html": [
       "<div>\n",
       "<style scoped>\n",
       "    .dataframe tbody tr th:only-of-type {\n",
       "        vertical-align: middle;\n",
       "    }\n",
       "\n",
       "    .dataframe tbody tr th {\n",
       "        vertical-align: top;\n",
       "    }\n",
       "\n",
       "    .dataframe thead th {\n",
       "        text-align: right;\n",
       "    }\n",
       "</style>\n",
       "<table border=\"1\" class=\"dataframe\">\n",
       "  <thead>\n",
       "    <tr style=\"text-align: right;\">\n",
       "      <th></th>\n",
       "      <th>id</th>\n",
       "      <th>name</th>\n",
       "      <th>date</th>\n",
       "      <th>sport</th>\n",
       "      <th>distance</th>\n",
       "      <th>time</th>\n",
       "      <th>speed</th>\n",
       "      <th>elev_gain</th>\n",
       "      <th>avg_HR</th>\n",
       "      <th>max_HR</th>\n",
       "      <th>suffer_score</th>\n",
       "      <th>time-minutes</th>\n",
       "      <th>average_speed</th>\n",
       "      <th>start_date</th>\n",
       "    </tr>\n",
       "  </thead>\n",
       "  <tbody>\n",
       "    <tr>\n",
       "      <th>9</th>\n",
       "      <td>15123570047</td>\n",
       "      <td>North Sky and Skyline Ranch</td>\n",
       "      <td>2025-07-15</td>\n",
       "      <td>Ride</td>\n",
       "      <td>29.6</td>\n",
       "      <td>2:40</td>\n",
       "      <td>11.0</td>\n",
       "      <td>1410.4</td>\n",
       "      <td>109.3</td>\n",
       "      <td>138.0</td>\n",
       "      <td>77.0</td>\n",
       "      <td>161.0</td>\n",
       "      <td>4.9</td>\n",
       "      <td>2025-07-15 13:39:08+00:00</td>\n",
       "    </tr>\n",
       "  </tbody>\n",
       "</table>\n",
       "</div>"
      ],
      "text/plain": [
       "            id                         name        date sport  distance  time  \\\n",
       "9  15123570047  North Sky and Skyline Ranch  2025-07-15  Ride      29.6  2:40   \n",
       "\n",
       "  speed  elev_gain  avg_HR  max_HR  suffer_score  time-minutes  average_speed  \\\n",
       "9  11.0     1410.4   109.3   138.0          77.0         161.0            4.9   \n",
       "\n",
       "                 start_date  \n",
       "9 2025-07-15 13:39:08+00:00  "
      ]
     },
     "execution_count": 12,
     "metadata": {},
     "output_type": "execute_result"
    }
   ],
   "source": [
    "strava_df.head(1)"
   ]
  },
  {
   "cell_type": "code",
   "execution_count": 13,
   "id": "3f4c559d-605f-4b80-83a6-91d01245512b",
   "metadata": {},
   "outputs": [
    {
     "data": {
      "text/plain": [
       "9    15123570047\n",
       "Name: id, dtype: int64"
      ]
     },
     "execution_count": 13,
     "metadata": {},
     "output_type": "execute_result"
    }
   ],
   "source": [
    "new_activities_df.id"
   ]
  },
  {
   "cell_type": "code",
   "execution_count": 14,
   "id": "7c817ed3-afd0-4681-b1a1-7321c0ea269d",
   "metadata": {},
   "outputs": [],
   "source": [
    "# Recent zone data\n",
    "# Create a new_zone dataframe for recent activities\n",
    "cols = ['id', 'name', 'date', 'suffer_score','start_date']\n",
    "new_data = strava_df.loc[:,cols]\n",
    "new_zone_df = pd.DataFrame(new_data, columns=cols)\n",
    "\n",
    "mask = new_zone_df['id'].isin(new_activities_df['id'])\n",
    "new_zone_df = new_zone_df[mask]"
   ]
  },
  {
   "cell_type": "code",
   "execution_count": 15,
   "id": "174dedd1-5ae2-4c65-aacd-72809a8f8a31",
   "metadata": {},
   "outputs": [
    {
     "name": "stdout",
     "output_type": "stream",
     "text": [
      "Fetching zones for activity: 15123570047\n"
     ]
    },
    {
     "data": {
      "text/html": [
       "<div>\n",
       "<style scoped>\n",
       "    .dataframe tbody tr th:only-of-type {\n",
       "        vertical-align: middle;\n",
       "    }\n",
       "\n",
       "    .dataframe tbody tr th {\n",
       "        vertical-align: top;\n",
       "    }\n",
       "\n",
       "    .dataframe thead th {\n",
       "        text-align: right;\n",
       "    }\n",
       "</style>\n",
       "<table border=\"1\" class=\"dataframe\">\n",
       "  <thead>\n",
       "    <tr style=\"text-align: right;\">\n",
       "      <th></th>\n",
       "      <th>Zone1</th>\n",
       "      <th>Zone2</th>\n",
       "      <th>Zone3</th>\n",
       "      <th>Zone4</th>\n",
       "      <th>Zone5</th>\n",
       "      <th>moderate</th>\n",
       "      <th>intense</th>\n",
       "    </tr>\n",
       "    <tr>\n",
       "      <th>id</th>\n",
       "      <th></th>\n",
       "      <th></th>\n",
       "      <th></th>\n",
       "      <th></th>\n",
       "      <th></th>\n",
       "      <th></th>\n",
       "      <th></th>\n",
       "    </tr>\n",
       "  </thead>\n",
       "  <tbody>\n",
       "    <tr>\n",
       "      <th>15123570047</th>\n",
       "      <td>8.3</td>\n",
       "      <td>139.5</td>\n",
       "      <td>13.1</td>\n",
       "      <td>0.0</td>\n",
       "      <td>0.0</td>\n",
       "      <td>147.9</td>\n",
       "      <td>13.1</td>\n",
       "    </tr>\n",
       "  </tbody>\n",
       "</table>\n",
       "</div>"
      ],
      "text/plain": [
       "             Zone1  Zone2  Zone3  Zone4  Zone5  moderate  intense\n",
       "id                                                               \n",
       "15123570047    8.3  139.5   13.1    0.0    0.0     147.9     13.1"
      ]
     },
     "execution_count": 15,
     "metadata": {},
     "output_type": "execute_result"
    }
   ],
   "source": [
    "zone = new_zone_df['id'].apply(lambda current_id: get_zones_for_id(current_id, access_token))\n",
    "zone.index = new_zone_df['id']\n",
    "\n",
    "# Add in summary zones: moderate and intense\n",
    "zone['moderate'] = zone[['Zone1', 'Zone2']].sum(axis=1)\n",
    "zone['intense'] = zone[['Zone3', 'Zone4', 'Zone5']].sum(axis=1)\n",
    "zone"
   ]
  },
  {
   "cell_type": "code",
   "execution_count": 16,
   "id": "36df9731-0a19-4646-b442-97c493ae300b",
   "metadata": {},
   "outputs": [],
   "source": [
    "new_zone_df = pd.merge(new_zone_df, zone, left_on='id',right_index=True)"
   ]
  },
  {
   "cell_type": "code",
   "execution_count": 17,
   "id": "8786b557-c433-4b2b-a174-b8a41974e643",
   "metadata": {},
   "outputs": [],
   "source": [
    "# Get the Sunday start of the week for each date (time set to midnight)\n",
    "new_zone_df['week_start'] = new_zone_df['start_date'].dt.to_period('W-SUN').dt.start_time\n",
    "\n",
    "#new_zone_df.columns are now matched with strava_zone_df\n",
    "new_zone_df = pd.concat ([new_zone_df, strava_zone_df], axis=0)"
   ]
  },
  {
   "cell_type": "code",
   "execution_count": 18,
   "id": "67484abd-988b-418e-b1a6-2b9d0e535bed",
   "metadata": {},
   "outputs": [
    {
     "data": {
      "text/html": [
       "<div>\n",
       "<style scoped>\n",
       "    .dataframe tbody tr th:only-of-type {\n",
       "        vertical-align: middle;\n",
       "    }\n",
       "\n",
       "    .dataframe tbody tr th {\n",
       "        vertical-align: top;\n",
       "    }\n",
       "\n",
       "    .dataframe thead th {\n",
       "        text-align: right;\n",
       "    }\n",
       "</style>\n",
       "<table border=\"1\" class=\"dataframe\">\n",
       "  <thead>\n",
       "    <tr style=\"text-align: right;\">\n",
       "      <th></th>\n",
       "      <th>id</th>\n",
       "      <th>name</th>\n",
       "      <th>date</th>\n",
       "      <th>suffer_score</th>\n",
       "      <th>start_date</th>\n",
       "      <th>Zone1</th>\n",
       "      <th>Zone2</th>\n",
       "      <th>Zone3</th>\n",
       "      <th>Zone4</th>\n",
       "      <th>Zone5</th>\n",
       "      <th>moderate</th>\n",
       "      <th>intense</th>\n",
       "      <th>week_start</th>\n",
       "      <th>weekly_intense</th>\n",
       "      <th>weekly_moderate</th>\n",
       "      <th>weekly_suffer_score</th>\n",
       "    </tr>\n",
       "  </thead>\n",
       "  <tbody>\n",
       "    <tr>\n",
       "      <th>9</th>\n",
       "      <td>15123570047</td>\n",
       "      <td>North Sky and Skyline Ranch</td>\n",
       "      <td>2025-07-15</td>\n",
       "      <td>77.0</td>\n",
       "      <td>2025-07-15 13:39:08+00:00</td>\n",
       "      <td>8.3</td>\n",
       "      <td>139.5</td>\n",
       "      <td>13.1</td>\n",
       "      <td>0.0</td>\n",
       "      <td>0.0</td>\n",
       "      <td>147.9</td>\n",
       "      <td>13.1</td>\n",
       "      <td>2025-07-14</td>\n",
       "      <td>NaN</td>\n",
       "      <td>NaN</td>\n",
       "      <td>NaN</td>\n",
       "    </tr>\n",
       "  </tbody>\n",
       "</table>\n",
       "</div>"
      ],
      "text/plain": [
       "            id                         name        date  suffer_score  \\\n",
       "9  15123570047  North Sky and Skyline Ranch  2025-07-15          77.0   \n",
       "\n",
       "                 start_date  Zone1  Zone2  Zone3  Zone4  Zone5  moderate  \\\n",
       "9 2025-07-15 13:39:08+00:00    8.3  139.5   13.1    0.0    0.0     147.9   \n",
       "\n",
       "   intense week_start  weekly_intense  weekly_moderate  weekly_suffer_score  \n",
       "9     13.1 2025-07-14             NaN              NaN                  NaN  "
      ]
     },
     "execution_count": 18,
     "metadata": {},
     "output_type": "execute_result"
    }
   ],
   "source": [
    "new_zone_df.head(1)"
   ]
  },
  {
   "cell_type": "code",
   "execution_count": 19,
   "id": "81cd3ed7-1fbd-4dcf-96b5-7a07b7f87353",
   "metadata": {},
   "outputs": [],
   "source": [
    "# This drops all weekly_ cols since they are all recalculated later\n",
    "only_cols = ['id', 'name', 'date', 'suffer_score', 'start_date', 'Zone1', 'Zone2',\n",
    "       'Zone3', 'Zone4', 'Zone5', 'moderate', 'intense', 'week_start']\n",
    "new_zone_df = new_zone_df[only_cols]\n",
    "#new_zone_df.head()\n",
    "\n",
    "# Temporarily sort ascending by week_start and date to compute cumulative sum correctly\n",
    "temp = new_zone_df.sort_values(['week_start', 'start_date'])"
   ]
  },
  {
   "cell_type": "code",
   "execution_count": 20,
   "id": "e2754bcc-1329-4db8-923d-92a59915ecce",
   "metadata": {},
   "outputs": [],
   "source": [
    "# Calculate cumulative sum within each week for weekly_ cols\n",
    "cumulative_cols = ['intense', 'moderate', 'suffer_score']\n",
    "cumulative_sums = (\n",
    "temp\n",
    "    .groupby('week_start')[cumulative_cols]\n",
    "    .cumsum()\n",
    "    .add_prefix('weekly_')  # rename columns if needed\n",
    ")\n",
    "# Add start_date column for reference\n",
    "cumulative_sums['start_date'] = temp['start_date']\n",
    "cumulative_sums = cumulative_sums.sort_values('start_date', ascending = False)\n",
    "cumulative_sums.head(3)\n",
    "strava_zone_df = pd.merge(new_zone_df,cumulative_sums, left_on ='start_date', right_on='start_date')"
   ]
  },
  {
   "cell_type": "markdown",
   "id": "7c61549e-bad2-4be0-89e5-b53008e1c122",
   "metadata": {},
   "source": [
    "### Plotting Section"
   ]
  },
  {
   "cell_type": "code",
   "execution_count": 21,
   "id": "db37dcdd-5b3b-47a0-808c-a461927392b0",
   "metadata": {},
   "outputs": [
    {
     "data": {
      "text/html": [
       "<div>\n",
       "<style scoped>\n",
       "    .dataframe tbody tr th:only-of-type {\n",
       "        vertical-align: middle;\n",
       "    }\n",
       "\n",
       "    .dataframe tbody tr th {\n",
       "        vertical-align: top;\n",
       "    }\n",
       "\n",
       "    .dataframe thead th {\n",
       "        text-align: right;\n",
       "    }\n",
       "</style>\n",
       "<table border=\"1\" class=\"dataframe\">\n",
       "  <thead>\n",
       "    <tr style=\"text-align: right;\">\n",
       "      <th></th>\n",
       "      <th>id</th>\n",
       "      <th>name</th>\n",
       "      <th>date</th>\n",
       "      <th>suffer_score</th>\n",
       "      <th>start_date</th>\n",
       "      <th>Zone1</th>\n",
       "      <th>Zone2</th>\n",
       "      <th>Zone3</th>\n",
       "      <th>Zone4</th>\n",
       "      <th>Zone5</th>\n",
       "      <th>moderate</th>\n",
       "      <th>intense</th>\n",
       "      <th>week_start</th>\n",
       "      <th>weekly_intense</th>\n",
       "      <th>weekly_moderate</th>\n",
       "      <th>weekly_suffer_score</th>\n",
       "    </tr>\n",
       "  </thead>\n",
       "  <tbody>\n",
       "    <tr>\n",
       "      <th>0</th>\n",
       "      <td>15123570047</td>\n",
       "      <td>North Sky and Skyline Ranch</td>\n",
       "      <td>2025-07-15</td>\n",
       "      <td>77.0</td>\n",
       "      <td>2025-07-15 13:39:08+00:00</td>\n",
       "      <td>8.3</td>\n",
       "      <td>139.5</td>\n",
       "      <td>13.1</td>\n",
       "      <td>0.0</td>\n",
       "      <td>0.0</td>\n",
       "      <td>147.9</td>\n",
       "      <td>13.1</td>\n",
       "      <td>2025-07-14</td>\n",
       "      <td>13.1</td>\n",
       "      <td>147.9</td>\n",
       "      <td>77.0</td>\n",
       "    </tr>\n",
       "    <tr>\n",
       "      <th>1</th>\n",
       "      <td>15102156207</td>\n",
       "      <td>Recovery gravel in the early morning</td>\n",
       "      <td>2025-07-13</td>\n",
       "      <td>52.0</td>\n",
       "      <td>2025-07-13 13:09:14+00:00</td>\n",
       "      <td>3.8</td>\n",
       "      <td>117.1</td>\n",
       "      <td>0.1</td>\n",
       "      <td>0.5</td>\n",
       "      <td>3.5</td>\n",
       "      <td>120.9</td>\n",
       "      <td>4.1</td>\n",
       "      <td>2025-07-07</td>\n",
       "      <td>155.5</td>\n",
       "      <td>767.9</td>\n",
       "      <td>546.0</td>\n",
       "    </tr>\n",
       "    <tr>\n",
       "      <th>2</th>\n",
       "      <td>15093410751</td>\n",
       "      <td>Gross Reservoir Loop Hwy72 - CR97 and Magnolia</td>\n",
       "      <td>2025-07-12</td>\n",
       "      <td>233.0</td>\n",
       "      <td>2025-07-12 13:45:47+00:00</td>\n",
       "      <td>22.3</td>\n",
       "      <td>222.0</td>\n",
       "      <td>82.0</td>\n",
       "      <td>1.6</td>\n",
       "      <td>0.0</td>\n",
       "      <td>244.3</td>\n",
       "      <td>83.6</td>\n",
       "      <td>2025-07-07</td>\n",
       "      <td>151.4</td>\n",
       "      <td>647.0</td>\n",
       "      <td>494.0</td>\n",
       "    </tr>\n",
       "    <tr>\n",
       "      <th>3</th>\n",
       "      <td>15061307314</td>\n",
       "      <td>Nederland exploration and exploitation</td>\n",
       "      <td>2025-07-09</td>\n",
       "      <td>106.0</td>\n",
       "      <td>2025-07-09 14:17:28+00:00</td>\n",
       "      <td>31.9</td>\n",
       "      <td>132.7</td>\n",
       "      <td>29.4</td>\n",
       "      <td>0.0</td>\n",
       "      <td>0.0</td>\n",
       "      <td>164.6</td>\n",
       "      <td>29.4</td>\n",
       "      <td>2025-07-07</td>\n",
       "      <td>67.8</td>\n",
       "      <td>402.8</td>\n",
       "      <td>261.0</td>\n",
       "    </tr>\n",
       "    <tr>\n",
       "      <th>4</th>\n",
       "      <td>15048399185</td>\n",
       "      <td>Jamestown and eats at Lucky's Bakery</td>\n",
       "      <td>2025-07-08</td>\n",
       "      <td>101.0</td>\n",
       "      <td>2025-07-08 14:44:02+00:00</td>\n",
       "      <td>21.4</td>\n",
       "      <td>109.4</td>\n",
       "      <td>26.1</td>\n",
       "      <td>0.8</td>\n",
       "      <td>0.0</td>\n",
       "      <td>130.8</td>\n",
       "      <td>26.9</td>\n",
       "      <td>2025-07-07</td>\n",
       "      <td>38.4</td>\n",
       "      <td>238.2</td>\n",
       "      <td>155.0</td>\n",
       "    </tr>\n",
       "  </tbody>\n",
       "</table>\n",
       "</div>"
      ],
      "text/plain": [
       "            id                                            name        date  \\\n",
       "0  15123570047                     North Sky and Skyline Ranch  2025-07-15   \n",
       "1  15102156207            Recovery gravel in the early morning  2025-07-13   \n",
       "2  15093410751  Gross Reservoir Loop Hwy72 - CR97 and Magnolia  2025-07-12   \n",
       "3  15061307314          Nederland exploration and exploitation  2025-07-09   \n",
       "4  15048399185            Jamestown and eats at Lucky's Bakery  2025-07-08   \n",
       "\n",
       "   suffer_score                start_date  Zone1  Zone2  Zone3  Zone4  Zone5  \\\n",
       "0          77.0 2025-07-15 13:39:08+00:00    8.3  139.5   13.1    0.0    0.0   \n",
       "1          52.0 2025-07-13 13:09:14+00:00    3.8  117.1    0.1    0.5    3.5   \n",
       "2         233.0 2025-07-12 13:45:47+00:00   22.3  222.0   82.0    1.6    0.0   \n",
       "3         106.0 2025-07-09 14:17:28+00:00   31.9  132.7   29.4    0.0    0.0   \n",
       "4         101.0 2025-07-08 14:44:02+00:00   21.4  109.4   26.1    0.8    0.0   \n",
       "\n",
       "   moderate  intense week_start  weekly_intense  weekly_moderate  \\\n",
       "0     147.9     13.1 2025-07-14            13.1            147.9   \n",
       "1     120.9      4.1 2025-07-07           155.5            767.9   \n",
       "2     244.3     83.6 2025-07-07           151.4            647.0   \n",
       "3     164.6     29.4 2025-07-07            67.8            402.8   \n",
       "4     130.8     26.9 2025-07-07            38.4            238.2   \n",
       "\n",
       "   weekly_suffer_score  \n",
       "0                 77.0  \n",
       "1                546.0  \n",
       "2                494.0  \n",
       "3                261.0  \n",
       "4                155.0  "
      ]
     },
     "execution_count": 21,
     "metadata": {},
     "output_type": "execute_result"
    }
   ],
   "source": [
    "strava_zone_df.head()"
   ]
  },
  {
   "cell_type": "code",
   "execution_count": 22,
   "id": "eae5f217-48d8-40f5-b35d-6e09ed4a0a15",
   "metadata": {},
   "outputs": [
    {
     "data": {
      "text/html": [
       "<div>\n",
       "<style scoped>\n",
       "    .dataframe tbody tr th:only-of-type {\n",
       "        vertical-align: middle;\n",
       "    }\n",
       "\n",
       "    .dataframe tbody tr th {\n",
       "        vertical-align: top;\n",
       "    }\n",
       "\n",
       "    .dataframe thead th {\n",
       "        text-align: right;\n",
       "    }\n",
       "</style>\n",
       "<table border=\"1\" class=\"dataframe\">\n",
       "  <thead>\n",
       "    <tr style=\"text-align: right;\">\n",
       "      <th></th>\n",
       "      <th>week_start</th>\n",
       "      <th>weekly_intense</th>\n",
       "      <th>weekly_moderate</th>\n",
       "      <th>weekly_suffer_score</th>\n",
       "      <th>week</th>\n",
       "    </tr>\n",
       "  </thead>\n",
       "  <tbody>\n",
       "    <tr>\n",
       "      <th>27</th>\n",
       "      <td>2025-07-14</td>\n",
       "      <td>13.1</td>\n",
       "      <td>147.9</td>\n",
       "      <td>77.0</td>\n",
       "      <td>Jul 14</td>\n",
       "    </tr>\n",
       "    <tr>\n",
       "      <th>26</th>\n",
       "      <td>2025-07-07</td>\n",
       "      <td>155.5</td>\n",
       "      <td>767.9</td>\n",
       "      <td>546.0</td>\n",
       "      <td>Jul 07</td>\n",
       "    </tr>\n",
       "    <tr>\n",
       "      <th>25</th>\n",
       "      <td>2025-06-30</td>\n",
       "      <td>143.9</td>\n",
       "      <td>794.7</td>\n",
       "      <td>597.0</td>\n",
       "      <td>Jun 30</td>\n",
       "    </tr>\n",
       "    <tr>\n",
       "      <th>24</th>\n",
       "      <td>2025-06-23</td>\n",
       "      <td>259.7</td>\n",
       "      <td>479.1</td>\n",
       "      <td>662.0</td>\n",
       "      <td>Jun 23</td>\n",
       "    </tr>\n",
       "    <tr>\n",
       "      <th>23</th>\n",
       "      <td>2025-06-16</td>\n",
       "      <td>240.2</td>\n",
       "      <td>554.1</td>\n",
       "      <td>668.0</td>\n",
       "      <td>Jun 16</td>\n",
       "    </tr>\n",
       "  </tbody>\n",
       "</table>\n",
       "</div>"
      ],
      "text/plain": [
       "   week_start  weekly_intense  weekly_moderate  weekly_suffer_score    week\n",
       "27 2025-07-14            13.1            147.9                 77.0  Jul 14\n",
       "26 2025-07-07           155.5            767.9                546.0  Jul 07\n",
       "25 2025-06-30           143.9            794.7                597.0  Jun 30\n",
       "24 2025-06-23           259.7            479.1                662.0  Jun 23\n",
       "23 2025-06-16           240.2            554.1                668.0  Jun 16"
      ]
     },
     "execution_count": 22,
     "metadata": {},
     "output_type": "execute_result"
    }
   ],
   "source": [
    "week_summary = build_week_summary(strava_zone_df)\n",
    "week_summary.sort_values('week_start',ascending=False).head()"
   ]
  },
  {
   "cell_type": "code",
   "execution_count": 23,
   "id": "aa60c814-62ab-4aa8-b6f1-842e7d0bc7a1",
   "metadata": {},
   "outputs": [
    {
     "data": {
      "image/png": "[encoded data removed]",
      "text/plain": [
       "<Figure size 1008x432 with 1 Axes>"
      ]
     },
     "metadata": {},
     "output_type": "display_data"
    }
   ],
   "source": [
    "import matplotlib.pyplot as plt\n",
    "\n",
    "ax = week_summary.plot(\n",
    "    y=['weekly_moderate','weekly_intense'],\n",
    "    x='week',\n",
    "    kind='bar', \n",
    "    stacked=True, \n",
    "    figsize=(14, 6), \n",
    "    color=['#98FB98', '#F08080']\n",
    ")\n",
    "\n",
    "# Overlay line plot for 'weekly_suffer_score'\n",
    "line = ax.plot(\n",
    "    week_summary[\"week\"],\n",
    "    week_summary[\"weekly_suffer_score\"],\n",
    "    color=\"black\",\n",
    "    marker=\"o\",\n",
    "    linewidth=2,\n",
    "    label=\"Suffer_Score\"  \n",
    ")\n",
    "\n",
    "plt.title(\"Time in Heart Rate Zones\")\n",
    "plt.xlabel(\"Activity ID\")\n",
    "plt.ylabel(\"Time (minutes)\")\n",
    "plt.legend(title=\"Zone\")\n",
    "plt.xticks(rotation=45, ha='right')\n",
    "plt.tight_layout()\n",
    "plt.show()"
   ]
  },
  {
   "cell_type": "code",
   "execution_count": 24,
   "id": "337fee14-0fe7-4746-b962-8e8f6473df46",
   "metadata": {},
   "outputs": [],
   "source": [
    "# Melt the DataFrame to long format and plot\n",
    "long_df = pd.melt(\n",
    "    week_summary,\n",
    "    id_vars=\"week\",\n",
    "    value_vars=[\"weekly_intense\", \"weekly_moderate\"],\n",
    "    var_name=\"zone\",\n",
    "    value_name=\"minutes\"\n",
    ")"
   ]
  },
  {
   "cell_type": "code",
   "execution_count": 25,
   "id": "46124f58-1a0c-46f7-aa62-4c90a57a142d",
   "metadata": {},
   "outputs": [
    {
     "data": {
      "image/png": "[encoded data removed]",
      "text/plain": [
       "<Figure size 1008x432 with 1 Axes>"
      ]
     },
     "metadata": {},
     "output_type": "display_data"
    }
   ],
   "source": [
    "# Add a line plot on top \n",
    "plt.figure(figsize=(14, 6))\n",
    "# Add line plot with a label\n",
    "ax = sns.barplot(\n",
    "    data=long_df,\n",
    "    x=\"week\",\n",
    "    y=\"minutes\",\n",
    "    hue=\"zone\",\n",
    "    palette={\"weekly_intense\": \"salmon\", \"weekly_moderate\": \"palegreen\"}\n",
    ")\n",
    "line = ax.plot(\n",
    "    week_summary[\"week\"],\n",
    "    week_summary[\"weekly_suffer_score\"],\n",
    "    color=\"black\",\n",
    "    marker=\"o\",\n",
    "    linewidth=2,\n",
    "    label=\"suffer_score\"  \n",
    ")\n",
    "# Create the legend manually from all handles\n",
    "handles, labels = ax.get_legend_handles_labels()\n",
    "ax.legend(handles=handles, labels=labels)\n",
    "\n",
    "# Optional: improve layout\n",
    "plt.xticks(rotation=45, ha='right')\n",
    "plt.tight_layout()\n",
    "#plt.legend()\n",
    "plt.show()"
   ]
  },
  {
   "cell_type": "code",
   "execution_count": 26,
   "id": "9fdcd425-d0ef-40c8-bff4-c707c7d35bad",
   "metadata": {},
   "outputs": [
    {
     "data": {
      "text/html": [
       "<div>\n",
       "<style scoped>\n",
       "    .dataframe tbody tr th:only-of-type {\n",
       "        vertical-align: middle;\n",
       "    }\n",
       "\n",
       "    .dataframe tbody tr th {\n",
       "        vertical-align: top;\n",
       "    }\n",
       "\n",
       "    .dataframe thead th {\n",
       "        text-align: right;\n",
       "    }\n",
       "</style>\n",
       "<table border=\"1\" class=\"dataframe\">\n",
       "  <thead>\n",
       "    <tr style=\"text-align: right;\">\n",
       "      <th></th>\n",
       "      <th>id</th>\n",
       "      <th>name</th>\n",
       "      <th>date</th>\n",
       "      <th>sport</th>\n",
       "      <th>distance</th>\n",
       "      <th>time</th>\n",
       "      <th>speed</th>\n",
       "      <th>elev_gain</th>\n",
       "      <th>avg_HR</th>\n",
       "      <th>max_HR</th>\n",
       "      <th>suffer_score</th>\n",
       "      <th>time-minutes</th>\n",
       "      <th>average_speed</th>\n",
       "      <th>start_date</th>\n",
       "    </tr>\n",
       "  </thead>\n",
       "  <tbody>\n",
       "    <tr>\n",
       "      <th>9</th>\n",
       "      <td>15123570047</td>\n",
       "      <td>North Sky and Skyline Ranch</td>\n",
       "      <td>2025-07-15</td>\n",
       "      <td>Ride</td>\n",
       "      <td>29.6</td>\n",
       "      <td>2:40</td>\n",
       "      <td>11.0</td>\n",
       "      <td>1410.4</td>\n",
       "      <td>109.3</td>\n",
       "      <td>138.0</td>\n",
       "      <td>77.0</td>\n",
       "      <td>161.0</td>\n",
       "      <td>4.9</td>\n",
       "      <td>2025-07-15 13:39:08+00:00</td>\n",
       "    </tr>\n",
       "  </tbody>\n",
       "</table>\n",
       "</div>"
      ],
      "text/plain": [
       "            id                         name        date sport  distance  time  \\\n",
       "9  15123570047  North Sky and Skyline Ranch  2025-07-15  Ride      29.6  2:40   \n",
       "\n",
       "  speed  elev_gain  avg_HR  max_HR  suffer_score  time-minutes  average_speed  \\\n",
       "9  11.0     1410.4   109.3   138.0          77.0         161.0            4.9   \n",
       "\n",
       "                 start_date  \n",
       "9 2025-07-15 13:39:08+00:00  "
      ]
     },
     "execution_count": 26,
     "metadata": {},
     "output_type": "execute_result"
    }
   ],
   "source": [
    "strava_df.head(1)"
   ]
  },
  {
   "cell_type": "code",
   "execution_count": 27,
   "id": "ba9d8596-447d-4f82-a9ea-d356465332ab",
   "metadata": {},
   "outputs": [
    {
     "data": {
      "text/html": [
       "<div>\n",
       "<style scoped>\n",
       "    .dataframe tbody tr th:only-of-type {\n",
       "        vertical-align: middle;\n",
       "    }\n",
       "\n",
       "    .dataframe tbody tr th {\n",
       "        vertical-align: top;\n",
       "    }\n",
       "\n",
       "    .dataframe thead th {\n",
       "        text-align: right;\n",
       "    }\n",
       "</style>\n",
       "<table border=\"1\" class=\"dataframe\">\n",
       "  <thead>\n",
       "    <tr style=\"text-align: right;\">\n",
       "      <th></th>\n",
       "      <th>id</th>\n",
       "      <th>name</th>\n",
       "      <th>date</th>\n",
       "      <th>suffer_score</th>\n",
       "      <th>start_date</th>\n",
       "      <th>Zone1</th>\n",
       "      <th>Zone2</th>\n",
       "      <th>Zone3</th>\n",
       "      <th>Zone4</th>\n",
       "      <th>Zone5</th>\n",
       "      <th>moderate</th>\n",
       "      <th>intense</th>\n",
       "      <th>week_start</th>\n",
       "      <th>weekly_intense</th>\n",
       "      <th>weekly_moderate</th>\n",
       "      <th>weekly_suffer_score</th>\n",
       "    </tr>\n",
       "  </thead>\n",
       "  <tbody>\n",
       "    <tr>\n",
       "      <th>0</th>\n",
       "      <td>15123570047</td>\n",
       "      <td>North Sky and Skyline Ranch</td>\n",
       "      <td>2025-07-15</td>\n",
       "      <td>77.0</td>\n",
       "      <td>2025-07-15 13:39:08+00:00</td>\n",
       "      <td>8.3</td>\n",
       "      <td>139.5</td>\n",
       "      <td>13.1</td>\n",
       "      <td>0.0</td>\n",
       "      <td>0.0</td>\n",
       "      <td>147.9</td>\n",
       "      <td>13.1</td>\n",
       "      <td>2025-07-14</td>\n",
       "      <td>13.1</td>\n",
       "      <td>147.9</td>\n",
       "      <td>77.0</td>\n",
       "    </tr>\n",
       "  </tbody>\n",
       "</table>\n",
       "</div>"
      ],
      "text/plain": [
       "            id                         name        date  suffer_score  \\\n",
       "0  15123570047  North Sky and Skyline Ranch  2025-07-15          77.0   \n",
       "\n",
       "                 start_date  Zone1  Zone2  Zone3  Zone4  Zone5  moderate  \\\n",
       "0 2025-07-15 13:39:08+00:00    8.3  139.5   13.1    0.0    0.0     147.9   \n",
       "\n",
       "   intense week_start  weekly_intense  weekly_moderate  weekly_suffer_score  \n",
       "0     13.1 2025-07-14            13.1            147.9                 77.0  "
      ]
     },
     "execution_count": 27,
     "metadata": {},
     "output_type": "execute_result"
    }
   ],
   "source": [
    "strava_zone_df.head(1)"
   ]
  },
  {
   "cell_type": "code",
   "execution_count": 28,
   "id": "8c9b6aea-aaf8-4048-b536-4664742f1dc9",
   "metadata": {},
   "outputs": [
    {
     "name": "stdout",
     "output_type": "stream",
     "text": [
      "122\n",
      "122\n"
     ]
    }
   ],
   "source": [
    "print(len(strava_df))\n",
    "print(len(strava_zone_df))"
   ]
  },
  {
   "cell_type": "code",
   "execution_count": 29,
   "id": "5b0ea957-8959-4a5e-8d81-60afad227e6f",
   "metadata": {},
   "outputs": [
    {
     "name": "stdout",
     "output_type": "stream",
     "text": [
      "All data saved.\n"
     ]
    }
   ],
   "source": [
    "# Save both\n",
    "strava_df.to_pickle(\"data/strava_data_2025.pkl\")\n",
    "strava_zone_df.to_pickle(\"data/strava_zone_data_2025.pkl\")\n",
    "\n",
    "print(\"All data saved.\")"
   ]
  },
  {
   "cell_type": "code",
   "execution_count": null,
   "id": "02a5ce75-2859-4d48-a9ea-a103f1576bd9",
   "metadata": {},
   "outputs": [],
   "source": []
  }
 ],
 "metadata": {
  "kernelspec": {
   "display_name": "Python 3",
   "language": "python",
   "name": "python3"
  },
  "language_info": {
   "codemirror_mode": {
    "name": "ipython",
    "version": 3
   },
   "file_extension": ".py",
   "mimetype": "text/x-python",
   "name": "python",
   "nbconvert_exporter": "python",
   "pygments_lexer": "ipython3",
   "version": "3.8.8"
  }
 },
 "nbformat": 4,
 "nbformat_minor": 5
}
