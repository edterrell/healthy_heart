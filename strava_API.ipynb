{
 "cells": [
  {
   "cell_type": "code",
   "execution_count": 1,
   "id": "5d459dfb-74f9-41d9-8af4-c92e2c2b4a4c",
   "metadata": {},
   "outputs": [
    {
     "data": {
      "text/plain": [
       "'/Users/edwardterrell/Desktop/Training/kindle/strava'"
      ]
     },
     "execution_count": 1,
     "metadata": {},
     "output_type": "execute_result"
    }
   ],
   "source": [
    "pwd"
   ]
  },
  {
   "cell_type": "code",
   "execution_count": 11,
   "id": "f86e2403-fec5-475b-9ee0-efa17cf601f7",
   "metadata": {},
   "outputs": [
    {
     "data": {
      "text/html": [
       "<style>body {\n",
       "    margin: 0;\n",
       "    font-family: Helvetica;\n",
       "}\n",
       "\n",
       "table.dataframe {\n",
       "    border-collapse: collapse;\n",
       "    border: none;\n",
       "}\n",
       "\n",
       "table.dataframe tr {\n",
       "    border: none;\n",
       "}\n",
       "\n",
       "table.dataframe td, table.dataframe th {\n",
       "    margin: 0;\n",
       "    border: 1px solid white;\n",
       "    padding-left: 0.25em;\n",
       "    padding-right: 0.25em;\n",
       "}\n",
       "\n",
       "table.dataframe th:not(:empty) {\n",
       "    background-color: #fec;\n",
       "    text-align: left;\n",
       "    font-weight: normal;\n",
       "}\n",
       "\n",
       "table.dataframe tr:nth-child(2) th:empty {\n",
       "    border-left: none;\n",
       "    border-right: 1px dashed #888;\n",
       "    background-color: #f4f4ff;\n",
       "}\n",
       "\n",
       "table.dataframe td {\n",
       "    border: 2px solid #ccf;\n",
       "    background-color: #f4f4ff;\n",
       "}\n",
       "\n",
       "/* Add a smooth transition effect for the background color change */\n",
       "table.dataframe tr {\n",
       "   border: none;\n",
       "   transition: background-color 0.3s; \n",
       "} \n",
       "\n",
       "table.dataframe tr:hover {\n",
       "    background-color: #ffccd8;\n",
       "}\n",
       "\n",
       "/* Override the cell background color within the hovered row */\n",
       "table.dataframe tr:hover td {\n",
       "    background-color: #ffccd8; /* Use the same color as the row hover effect */\n",
       "}\n",
       "h3 {\n",
       "    color: white;\n",
       "    background-color: black;\n",
       "    padding: 0.5em;\n",
       "}\n",
       "</style>"
      ],
      "text/plain": [
       "<IPython.core.display.HTML object>"
      ]
     },
     "execution_count": 11,
     "metadata": {},
     "output_type": "execute_result"
    }
   ],
   "source": [
    "%matplotlib inline\n",
    "from IPython.core.display import HTML\n",
    "css = open('css/style-table.css').read() + open('css/style-notebook.css').read()\n",
    "HTML('<style>{}</style>'.format(css))\n",
    "\n",
    "from IPython.core.interactiveshell import InteractiveShell\n",
    "InteractiveShell.ast_node_interactivity = \"all\""
   ]
  },
  {
   "cell_type": "code",
   "execution_count": 3,
   "id": "d6710164-d780-4a78-84ab-36ef6b5000f8",
   "metadata": {},
   "outputs": [
    {
     "data": {
      "text/plain": [
       "'/Users/edwardterrell/opt/anaconda3/envs/mlml/bin/python'"
      ]
     },
     "execution_count": 3,
     "metadata": {},
     "output_type": "execute_result"
    }
   ],
   "source": [
    "import requests\n",
    "import json\n",
    "import time\n",
    "import os\n",
    "from pprint import pprint\n",
    "from datetime import date,timedelta,datetime\n",
    "\n",
    "import pandas as pd\n",
    "pd.set_option('display.precision', 1)\n",
    "import warnings\n",
    "warnings.filterwarnings(\"ignore\", message=\".*will drop timezone.*\")\n",
    "\n",
    "%load_ext autoreload\n",
    "%autoreload 2\n",
    "from clean_convert import cleanup, convert_speed, order_columns, process_new_data, save_data, get_date, get_year\n",
    "from zones import get_zones_for_id, build_week_summary\n",
    "from plots_details import display_detail_week\n",
    "\n",
    "# import graphics programs\n",
    "import matplotlib.pyplot as plt\n",
    "import seaborn as sns\n",
    "sns.set(rc={'figure.figsize':(14,6)}) # for all future plots\n",
    "\n",
    "import sys\n",
    "sys.executable"
   ]
  },
  {
   "cell_type": "code",
   "execution_count": 5,
   "id": "61801378-e8bf-4f37-a6a4-ec37fa4d8ede",
   "metadata": {},
   "outputs": [
    {
     "name": "stdout",
     "output_type": "stream",
     "text": [
      "Using access token: 2f4583937f72c96d429ac973f91066df027109e8\n",
      "{'id': 723727, 'username': 'eterrell', 'resource_state': 2, 'firstname': 'Ed', 'lastname': 'Terrell', 'bio': '', 'city': 'Boulder', 'state': 'CO', 'country': 'United States', 'sex': 'M', 'premium': True, 'summit': True, 'created_at': '2012-07-05T00:04:09Z', 'updated_at': '2025-07-09T12:38:59Z', 'badge_type_id': 1, 'weight': 61.235, 'profile_medium': 'https://dgalywyr863hv.cloudfront.net/pictures/athletes/723727/20826329/1/medium.jpg', 'profile': 'https://dgalywyr863hv.cloudfront.net/pictures/athletes/723727/20826329/1/large.jpg', 'friend': None, 'follower': None}\n"
     ]
    }
   ],
   "source": [
    "from token_manager import get_valid_access_token\n",
    "import requests\n",
    "\n",
    "access_token = get_valid_access_token()\n",
    "print(\"Using access token:\", access_token)\n",
    "\n",
    "# Make an authenticated API call\n",
    "response = requests.get(\n",
    "    'https://www.strava.com/api/v3/athlete',\n",
    "    headers={'Authorization': f'Bearer {access_token}'}\n",
    ")\n",
    "print(response.json())"
   ]
  },
  {
   "cell_type": "raw",
   "id": "716337a9-1bb1-4c30-b842-f69032168997",
   "metadata": {},
   "source": [
    "# USED ONLY IF token_manager.py isn't generating correctly\n",
    "client_id = 167221\n",
    "client_secret = 'f4df8e0dec7d9d8e725707eaf05037fcc845989d'\n",
    "auth_code = 'd973f0f86d2e56c3e7ac369809ca6b14fc814a98' # stored from last time\n",
    "\n",
    "response = requests.post(\n",
    "    'https://www.strava.com/oauth/token',\n",
    "    data={\n",
    "        'client_id': client_id,\n",
    "        'client_secret': client_secret,\n",
    "        'code': auth_code,\n",
    "        'grant_type': 'authorization_code',\n",
    "    }\n",
    ")\n",
    "# Check and save response\n",
    "if response.status_code == 200:\n",
    "    tokens = response.json()\n",
    "    print(\"✅ Tokens received:\")\n",
    "    print(json.dumps(tokens, indent=2))\n",
    "\n",
    "    # Save to tokens.json for use in token_manager.py\n",
    "    with open(\"tokens.json\", \"w\") as f:\n",
    "        json.dump(tokens, f)\n",
    "else:\n",
    "    print(\"❌ Failed to get tokens:\", response.status_code)\n",
    "    print(response.text)"
   ]
  },
  {
   "cell_type": "markdown",
   "id": "3fa71d38-4c72-4052-a4dc-fd90e4d77432",
   "metadata": {},
   "source": [
    "### Load dataframes"
   ]
  },
  {
   "cell_type": "code",
   "execution_count": 6,
   "id": "695c3577-cfb5-45d2-a1be-f372d46a4698",
   "metadata": {},
   "outputs": [
    {
     "name": "stdout",
     "output_type": "stream",
     "text": [
      "\u001b[01;34mdata\u001b[0m\n",
      "├── \u001b[01;34m2025-07-17\u001b[0m\n",
      "│   ├── \u001b[00mstrava_data_2025.pkl\u001b[0m\n",
      "│   └── \u001b[00mstrava_zone_data_2025.pkl\u001b[0m\n",
      "├── \u001b[01;34m2025-07-18\u001b[0m\n",
      "│   ├── \u001b[00mstrava_data_2024.pkl\u001b[0m\n",
      "│   └── \u001b[00mstrava_zone_data_2024.pkl\u001b[0m\n",
      "├── \u001b[01;34m2025-07-19\u001b[0m\n",
      "│   ├── \u001b[00mstrava_data_2025.pkl\u001b[0m\n",
      "│   └── \u001b[00mstrava_zone_data_2025.pkl\u001b[0m\n",
      "├── \u001b[01;34m2025-07-20\u001b[0m\n",
      "│   ├── \u001b[00mstrava_data_2025.pkl\u001b[0m\n",
      "│   └── \u001b[00mstrava_zone_data_2025.pkl\u001b[0m\n",
      "├── \u001b[01;34m2025-07-22\u001b[0m\n",
      "│   ├── \u001b[00mstrava_data_2025.pkl\u001b[0m\n",
      "│   └── \u001b[00mstrava_zone_data_2025.pkl\u001b[0m\n",
      "├── \u001b[00mstrava_data_2024.pkl\u001b[0m\n",
      "├── \u001b[00mstrava_data_2025.pkl\u001b[0m\n",
      "├── \u001b[00mstrava_data_empty.pkl\u001b[0m\n",
      "├── \u001b[00mstrava_zone_data_2024.pkl\u001b[0m\n",
      "├── \u001b[00mstrava_zone_data_2025.pkl\u001b[0m\n",
      "└── \u001b[00mstrava_zone_data_empty.pkl\u001b[0m\n",
      "\n",
      "6 directories, 16 files\n"
     ]
    }
   ],
   "source": [
    "# Loading empty dfs for user to start from scratch\n",
    "strava_df = pd.read_pickle(f\"data/strava_data_empty.pkl\")\n",
    "strava_zone_df = pd.read_pickle(f\"data/strava_zone_data_empty.pkl\")\n",
    "!tree data"
   ]
  },
  {
   "cell_type": "markdown",
   "id": "216a56ff-d00f-4a73-8743-981037047842",
   "metadata": {},
   "source": [
    "### Select date range and year"
   ]
  },
  {
   "cell_type": "code",
   "execution_count": 8,
   "id": "9370421f-3af8-45c4-8914-1a080f16f511",
   "metadata": {},
   "outputs": [
    {
     "name": "stdin",
     "output_type": "stream",
     "text": [
      "Enter folder date [2025-07-22]:  \n"
     ]
    },
    {
     "name": "stdout",
     "output_type": "stream",
     "text": [
      "✅ Folder selected: 2025-07-22\n"
     ]
    },
    {
     "name": "stdin",
     "output_type": "stream",
     "text": [
      "Enter year [2025]:  \n"
     ]
    },
    {
     "name": "stdout",
     "output_type": "stream",
     "text": [
      "✅ Year selected: 2025\n"
     ]
    }
   ],
   "source": [
    "# select 'empty' to start new dfs from scratch\n",
    "# Default values\n",
    "today = date.today().strftime('%Y-%m-%d')\n",
    "yesterday = (date.today() - timedelta(days=1)).strftime('%Y-%m-%d')\n",
    "tomorrow = (date.today() + timedelta(days=1)).strftime('%Y-%m-%d')\n",
    "\n",
    "# Get folder name and year from user\n",
    "my_folder = get_date(\"Enter folder date\", default=yesterday)\n",
    "print(f\"✅ Folder selected: {my_folder}\")\n",
    "if my_folder is None:\n",
    "    print(\"📭 Empty data mode selected. Skipping further input.\")\n",
    "else:\n",
    "    # Get year from user\n",
    "    year = get_year(\"Enter year\", default='2025')\n",
    "    print(f\"✅ Year selected: {year}\")\n",
    "    # Reload dfs and confirm lengths\n",
    "    strava_df = pd.read_pickle(f\"data/{my_folder}/strava_data_{year}.pkl\")\n",
    "    strava_zone_df = pd.read_pickle(f\"data/{my_folder}/strava_zone_data_{year}.pkl\")"
   ]
  },
  {
   "cell_type": "code",
   "execution_count": 9,
   "id": "4eece22c-63a3-4e0a-8d4e-211496866d0e",
   "metadata": {},
   "outputs": [
    {
     "name": "stdout",
     "output_type": "stream",
     "text": [
      "126\n",
      "126\n"
     ]
    }
   ],
   "source": [
    "# confirm lengths\n",
    "print(len(strava_df))\n",
    "print(len(strava_zone_df))"
   ]
  },
  {
   "cell_type": "code",
   "execution_count": 10,
   "id": "faabedc0-335a-4fc3-862b-6ee2213b57a2",
   "metadata": {},
   "outputs": [
    {
     "data": {
      "text/html": [
       "<div>\n",
       "<style scoped>\n",
       "    .dataframe tbody tr th:only-of-type {\n",
       "        vertical-align: middle;\n",
       "    }\n",
       "\n",
       "    .dataframe tbody tr th {\n",
       "        vertical-align: top;\n",
       "    }\n",
       "\n",
       "    .dataframe thead th {\n",
       "        text-align: right;\n",
       "    }\n",
       "</style>\n",
       "<table border=\"1\" class=\"dataframe\">\n",
       "  <thead>\n",
       "    <tr style=\"text-align: right;\">\n",
       "      <th></th>\n",
       "      <th>id</th>\n",
       "      <th>name</th>\n",
       "      <th>date</th>\n",
       "      <th>sport</th>\n",
       "      <th>distance</th>\n",
       "      <th>time</th>\n",
       "      <th>speed</th>\n",
       "      <th>elev_gain</th>\n",
       "      <th>avg_HR</th>\n",
       "      <th>max_HR</th>\n",
       "      <th>suffer_score</th>\n",
       "      <th>time-minutes</th>\n",
       "      <th>average_speed</th>\n",
       "      <th>start_date</th>\n",
       "    </tr>\n",
       "  </thead>\n",
       "  <tbody>\n",
       "    <tr>\n",
       "      <th>0</th>\n",
       "      <td>15189628842</td>\n",
       "      <td>Poorman and Chapman</td>\n",
       "      <td>2025-07-21</td>\n",
       "      <td>Ride</td>\n",
       "      <td>35.5</td>\n",
       "      <td>3:14</td>\n",
       "      <td>11.0</td>\n",
       "      <td>2814.6</td>\n",
       "      <td>117.3</td>\n",
       "      <td>144.0</td>\n",
       "      <td>68.0</td>\n",
       "      <td>194.1</td>\n",
       "      <td>4.9</td>\n",
       "      <td>2025-07-21 15:04:13+00:00</td>\n",
       "    </tr>\n",
       "  </tbody>\n",
       "</table>\n",
       "</div>"
      ],
      "text/plain": [
       "            id                 name        date sport  distance  time speed  \\\n",
       "0  15189628842  Poorman and Chapman  2025-07-21  Ride      35.5  3:14  11.0   \n",
       "\n",
       "   elev_gain  avg_HR  max_HR  suffer_score  time-minutes  average_speed  \\\n",
       "0     2814.6   117.3   144.0          68.0         194.1            4.9   \n",
       "\n",
       "                 start_date  \n",
       "0 2025-07-21 15:04:13+00:00  "
      ]
     },
     "execution_count": 10,
     "metadata": {},
     "output_type": "execute_result"
    },
    {
     "data": {
      "text/html": [
       "<div>\n",
       "<style scoped>\n",
       "    .dataframe tbody tr th:only-of-type {\n",
       "        vertical-align: middle;\n",
       "    }\n",
       "\n",
       "    .dataframe tbody tr th {\n",
       "        vertical-align: top;\n",
       "    }\n",
       "\n",
       "    .dataframe thead th {\n",
       "        text-align: right;\n",
       "    }\n",
       "</style>\n",
       "<table border=\"1\" class=\"dataframe\">\n",
       "  <thead>\n",
       "    <tr style=\"text-align: right;\">\n",
       "      <th></th>\n",
       "      <th>id</th>\n",
       "      <th>name</th>\n",
       "      <th>date</th>\n",
       "      <th>suffer_score</th>\n",
       "      <th>start_date</th>\n",
       "      <th>Zone1</th>\n",
       "      <th>Zone2</th>\n",
       "      <th>Zone3</th>\n",
       "      <th>Zone4</th>\n",
       "      <th>Zone5</th>\n",
       "      <th>moderate</th>\n",
       "      <th>intense</th>\n",
       "      <th>week_start</th>\n",
       "      <th>weekly_intense</th>\n",
       "      <th>weekly_moderate</th>\n",
       "      <th>weekly_suffer_score</th>\n",
       "    </tr>\n",
       "  </thead>\n",
       "  <tbody>\n",
       "    <tr>\n",
       "      <th>0</th>\n",
       "      <td>15189628842</td>\n",
       "      <td>Poorman and Chapman</td>\n",
       "      <td>2025-07-21</td>\n",
       "      <td>68.0</td>\n",
       "      <td>2025-07-21 15:04:13+00:00</td>\n",
       "      <td>29.1</td>\n",
       "      <td>110.0</td>\n",
       "      <td>35.3</td>\n",
       "      <td>19.8</td>\n",
       "      <td>0.0</td>\n",
       "      <td>139.0</td>\n",
       "      <td>55.1</td>\n",
       "      <td>2025-07-21</td>\n",
       "      <td>55.1</td>\n",
       "      <td>139.0</td>\n",
       "      <td>68.0</td>\n",
       "    </tr>\n",
       "  </tbody>\n",
       "</table>\n",
       "</div>"
      ],
      "text/plain": [
       "            id                 name        date  suffer_score  \\\n",
       "0  15189628842  Poorman and Chapman  2025-07-21          68.0   \n",
       "\n",
       "                 start_date  Zone1  Zone2  Zone3  Zone4  Zone5  moderate  \\\n",
       "0 2025-07-21 15:04:13+00:00   29.1  110.0   35.3   19.8    0.0     139.0   \n",
       "\n",
       "   intense week_start  weekly_intense  weekly_moderate  weekly_suffer_score  \n",
       "0     55.1 2025-07-21            55.1            139.0                 68.0  "
      ]
     },
     "execution_count": 10,
     "metadata": {},
     "output_type": "execute_result"
    }
   ],
   "source": [
    "strava_df.head(1)\n",
    "strava_zone_df.head(1)"
   ]
  },
  {
   "cell_type": "markdown",
   "id": "cd731c6a-f11c-4769-8dee-24243277a6af",
   "metadata": {},
   "source": [
    "### Update a specific activity"
   ]
  },
  {
   "cell_type": "raw",
   "id": "9b110de5-c82d-4be5-b77b-b6639f02491c",
   "metadata": {},
   "source": [
    "# to update a specific id with new info:\n",
    "# change this cell to code from raw\n",
    "# Using id select the activity to be delted in both: strava_df, strava_zone_df\n",
    "strava_df = strava_df[strava_df['id'] != 13504452781]\n",
    "strava_zone_df = strava_zone_df[strava_zone_df['id'] != 13504452781]\n",
    "print(len(strava_df))\n",
    "print(len(strava_zone_df))\n",
    "\n",
    "#Then select a start time to encompass that activity date"
   ]
  },
  {
   "cell_type": "markdown",
   "id": "861b5af7-0aca-4777-8170-7feb41a74200",
   "metadata": {},
   "source": [
    "### Recent activities only!"
   ]
  },
  {
   "cell_type": "code",
   "execution_count": 12,
   "id": "e3b5dfbb-e60a-44bc-ad68-2f8661827f48",
   "metadata": {},
   "outputs": [
    {
     "name": "stdin",
     "output_type": "stream",
     "text": [
      "Enter START date [2025-07-22]:  \n",
      "Enter END date [2025-07-24]:  \n"
     ]
    },
    {
     "name": "stdout",
     "output_type": "stream",
     "text": [
      "\n",
      "✅ Date range selected:\n",
      "Start: 2025-07-22\n",
      "End:   2025-07-24\n"
     ]
    }
   ],
   "source": [
    "# Get start and end dates from user\n",
    "start_date_str = get_date(\"Enter START date\", default=yesterday)\n",
    "end_date_str = get_date(\"Enter END date\", default=tomorrow)\n",
    "\n",
    "print(f\"\\n✅ Date range selected:\\nStart: {start_date_str}\\nEnd:   {end_date_str}\")\n"
   ]
  },
  {
   "cell_type": "code",
   "execution_count": 13,
   "id": "d996046f-d2c9-4230-a2c5-bdae52b38e9d",
   "metadata": {},
   "outputs": [
    {
     "name": "stdout",
     "output_type": "stream",
     "text": [
      "\n",
      "ID: 15210498851, Name: Old Stage and gravel loop, Date: 2025-07-23T12:59:53Z\n"
     ]
    }
   ],
   "source": [
    "# Desired number of activities for upload\n",
    "num_of_activities_for_upload = 50 #select maximum desired\n",
    "\n",
    "# change date to unix integer format with mktime\n",
    "start_date = int(time.mktime(time.strptime(start_date_str, '%Y-%m-%d')))\n",
    "end_date = int(time.mktime(time.strptime(end_date_str, '%Y-%m-%d')))\n",
    "print()\n",
    "\n",
    "# strava url\n",
    "url = \"https://www.strava.com/api/v3/athlete/activities\"\n",
    "headers = {\"Authorization\": f\"Bearer {access_token}\"}\n",
    "params = {\n",
    "    \"before\": end_date,\n",
    "    \"after\": start_date,\n",
    "    \"per_page\": 200,  # max per request\n",
    "    \"page\": 1\n",
    "}\n",
    "activities = []\n",
    "\n",
    "stop_fetching = False\n",
    "while True:\n",
    "    response = requests.get(url, headers=headers, params=params)\n",
    "    data = response.json()\n",
    "    if not data or stop_fetching:\n",
    "        # breaks out of while loop\n",
    "        break\n",
    "        \n",
    "    for activity in data:\n",
    "        # change date to unix integer format\n",
    "        activity_date = int(datetime.strptime(activity['start_date'], \"%Y-%m-%dT%H:%M:%SZ\").timestamp())\n",
    "        print(f\"ID: {activity['id']}, Name: {activity['name']}, Date: {activity['start_date']}\")\n",
    "        # set number of activites (strava maximum is 100/15 minutes)\n",
    "        if len(activities) >= num_of_activities_for_upload:\n",
    "            stop_fetching = True\n",
    "            # breaks out of for loop only\n",
    "            break\n",
    "        activities.append(activity)\n",
    "    params[\"page\"] += 1"
   ]
  },
  {
   "cell_type": "code",
   "execution_count": 14,
   "id": "aafab648-08de-42f1-9832-fc892ea5843f",
   "metadata": {},
   "outputs": [
    {
     "name": "stdout",
     "output_type": "stream",
     "text": [
      "\n"
     ]
    },
    {
     "data": {
      "text/plain": [
       "1"
      ]
     },
     "execution_count": 14,
     "metadata": {},
     "output_type": "execute_result"
    }
   ],
   "source": [
    "# Build out strava_df with only the necessary columns\n",
    "recent_df = pd.DataFrame(activities)\n",
    "cols_needed = ['id','name', 'distance', 'moving_time','total_elevation_gain', 'sport_type',\n",
    "          'average_speed', 'average_heartrate','max_heartrate', 'suffer_score','start_date']\n",
    "recent_df = recent_df.loc[:,cols_needed]\n",
    "recent_df = recent_df.sort_values('start_date',ascending=False) \n",
    "\n",
    "# This step does the comparison between recent_df and strava_df\n",
    "# strava_df holds previously saved data\n",
    "\n",
    "if strava_df.empty:\n",
    "    new_activities_df = recent_df.copy()\n",
    "else:\n",
    "    new_activities_df = recent_df[~recent_df.id.isin(strava_df.id)].copy()\n",
    "    \n",
    "# display df of new activities\n",
    "print()\n",
    "len(new_activities_df)"
   ]
  },
  {
   "cell_type": "code",
   "execution_count": 15,
   "id": "bfb9d6c8-d0d2-49d9-a548-3e39e19abb99",
   "metadata": {},
   "outputs": [
    {
     "data": {
      "text/plain": [
       "127"
      ]
     },
     "execution_count": 15,
     "metadata": {},
     "output_type": "execute_result"
    }
   ],
   "source": [
    "strava_df = process_new_data(new_activities_df, strava_df)\n",
    "len(strava_df)"
   ]
  },
  {
   "cell_type": "markdown",
   "id": "bfb517e1-0043-4303-9d16-a8e64be891b3",
   "metadata": {},
   "source": [
    "### Get Zone data"
   ]
  },
  {
   "cell_type": "raw",
   "id": "4540d492-8e72-4698-9bae-10b7bb7ddca7",
   "metadata": {},
   "source": [
    "zone 1           <103\n",
    "zone 2 Moderate  103-123\n",
    "zone 3 Tempo     123 - 138\n",
    "zone 4 Threshold 138 - 153\n",
    "zone 5 Anaerobic > 153"
   ]
  },
  {
   "cell_type": "code",
   "execution_count": 20,
   "id": "29d31c0b-ac72-4eea-9435-895aab13f5e8",
   "metadata": {},
   "outputs": [
    {
     "data": {
      "text/plain": [
       "1"
      ]
     },
     "execution_count": 20,
     "metadata": {},
     "output_type": "execute_result"
    }
   ],
   "source": [
    "# Recent zone data\n",
    "# Create a new_zone dataframe for recent activities\n",
    "cols = ['id', 'name', 'date', 'suffer_score','start_date']\n",
    "new_data = strava_df.loc[:,cols]\n",
    "new_zone_df = pd.DataFrame(new_data, columns=cols)\n",
    "\n",
    "mask = new_zone_df['id'].isin(new_activities_df['id'])\n",
    "new_zone_df = new_zone_df[mask]\n",
    "len(new_zone_df)"
   ]
  },
  {
   "cell_type": "code",
   "execution_count": 21,
   "id": "ffb49dd9-cb18-4a2f-ac3e-0badfa6273dd",
   "metadata": {},
   "outputs": [
    {
     "data": {
      "text/html": [
       "<div>\n",
       "<style scoped>\n",
       "    .dataframe tbody tr th:only-of-type {\n",
       "        vertical-align: middle;\n",
       "    }\n",
       "\n",
       "    .dataframe tbody tr th {\n",
       "        vertical-align: top;\n",
       "    }\n",
       "\n",
       "    .dataframe thead th {\n",
       "        text-align: right;\n",
       "    }\n",
       "</style>\n",
       "<table border=\"1\" class=\"dataframe\">\n",
       "  <thead>\n",
       "    <tr style=\"text-align: right;\">\n",
       "      <th></th>\n",
       "      <th>id</th>\n",
       "      <th>name</th>\n",
       "      <th>date</th>\n",
       "      <th>suffer_score</th>\n",
       "      <th>start_date</th>\n",
       "    </tr>\n",
       "  </thead>\n",
       "  <tbody>\n",
       "    <tr>\n",
       "      <th>0</th>\n",
       "      <td>15210498851</td>\n",
       "      <td>Old Stage and gravel loop</td>\n",
       "      <td>2025-07-23</td>\n",
       "      <td>51.0</td>\n",
       "      <td>2025-07-23 12:59:53+00:00</td>\n",
       "    </tr>\n",
       "  </tbody>\n",
       "</table>\n",
       "</div>"
      ],
      "text/plain": [
       "            id                       name        date  suffer_score  \\\n",
       "0  15210498851  Old Stage and gravel loop  2025-07-23          51.0   \n",
       "\n",
       "                 start_date  \n",
       "0 2025-07-23 12:59:53+00:00  "
      ]
     },
     "execution_count": 21,
     "metadata": {},
     "output_type": "execute_result"
    }
   ],
   "source": [
    "new_zone_df"
   ]
  },
  {
   "cell_type": "code",
   "execution_count": 22,
   "id": "b6294a6f-c079-442f-a195-0e15bb1188c2",
   "metadata": {},
   "outputs": [
    {
     "name": "stdout",
     "output_type": "stream",
     "text": [
      "1\n",
      "Fetching zones for activity: 15210498851\n",
      "\n"
     ]
    },
    {
     "data": {
      "text/html": [
       "<div>\n",
       "<style scoped>\n",
       "    .dataframe tbody tr th:only-of-type {\n",
       "        vertical-align: middle;\n",
       "    }\n",
       "\n",
       "    .dataframe tbody tr th {\n",
       "        vertical-align: top;\n",
       "    }\n",
       "\n",
       "    .dataframe thead th {\n",
       "        text-align: right;\n",
       "    }\n",
       "</style>\n",
       "<table border=\"1\" class=\"dataframe\">\n",
       "  <thead>\n",
       "    <tr style=\"text-align: right;\">\n",
       "      <th></th>\n",
       "      <th>Zone1</th>\n",
       "      <th>Zone2</th>\n",
       "      <th>Zone3</th>\n",
       "      <th>Zone4</th>\n",
       "      <th>Zone5</th>\n",
       "    </tr>\n",
       "    <tr>\n",
       "      <th>id</th>\n",
       "      <th></th>\n",
       "      <th></th>\n",
       "      <th></th>\n",
       "      <th></th>\n",
       "      <th></th>\n",
       "    </tr>\n",
       "  </thead>\n",
       "  <tbody>\n",
       "    <tr>\n",
       "      <th>15210498851</th>\n",
       "      <td>4.8</td>\n",
       "      <td>62.1</td>\n",
       "      <td>17.3</td>\n",
       "      <td>1.6</td>\n",
       "      <td>17.5</td>\n",
       "    </tr>\n",
       "  </tbody>\n",
       "</table>\n",
       "</div>"
      ],
      "text/plain": [
       "             Zone1  Zone2  Zone3  Zone4  Zone5\n",
       "id                                            \n",
       "15210498851    4.8   62.1   17.3    1.6   17.5"
      ]
     },
     "execution_count": 22,
     "metadata": {},
     "output_type": "execute_result"
    }
   ],
   "source": [
    "# get_zones_for_id is a function in zones.py\n",
    "# There is a max limit of 100 calls per 15 minutes set by Strava for this function\n",
    "    \n",
    "if len(new_zone_df) > 0 and len(new_zone_df) < 100:\n",
    "    print (len(new_zone_df))\n",
    "    # Apply function to fetch zone data per activity ID\n",
    "    zone = new_zone_df['id'].apply(lambda current_id: get_zones_for_id(current_id, access_token))\n",
    "    zone.index = new_zone_df['id']\n",
    "\n",
    "    # display new zone info\n",
    "    print()\n",
    "    zone\n",
    "\n",
    "elif  len(new_zone_df)==0:\n",
    "    print (\"No new activites to process\")\n",
    "    \n",
    "elif len(new_zone_df) >= 100:\n",
    "     print(\"❌ Number of calls will exceed Strava's 15-minute limit (max 100)\")\n",
    "     print (\"Try limiting the number of calls before proceeding\")"
   ]
  },
  {
   "cell_type": "code",
   "execution_count": 23,
   "id": "a12347f9-564f-4571-96ed-114c26577b9c",
   "metadata": {},
   "outputs": [
    {
     "data": {
      "text/plain": [
       "126"
      ]
     },
     "execution_count": 23,
     "metadata": {},
     "output_type": "execute_result"
    },
    {
     "data": {
      "text/plain": [
       "127"
      ]
     },
     "execution_count": 23,
     "metadata": {},
     "output_type": "execute_result"
    },
    {
     "data": {
      "text/html": [
       "<div>\n",
       "<style scoped>\n",
       "    .dataframe tbody tr th:only-of-type {\n",
       "        vertical-align: middle;\n",
       "    }\n",
       "\n",
       "    .dataframe tbody tr th {\n",
       "        vertical-align: top;\n",
       "    }\n",
       "\n",
       "    .dataframe thead th {\n",
       "        text-align: right;\n",
       "    }\n",
       "</style>\n",
       "<table border=\"1\" class=\"dataframe\">\n",
       "  <thead>\n",
       "    <tr style=\"text-align: right;\">\n",
       "      <th></th>\n",
       "      <th>weekly_intense</th>\n",
       "      <th>weekly_moderate</th>\n",
       "      <th>weekly_suffer_score</th>\n",
       "      <th>start_date</th>\n",
       "    </tr>\n",
       "  </thead>\n",
       "  <tbody>\n",
       "    <tr>\n",
       "      <th>0</th>\n",
       "      <td>74.0</td>\n",
       "      <td>206.0</td>\n",
       "      <td>119.0</td>\n",
       "      <td>2025-07-23 12:59:53+00:00</td>\n",
       "    </tr>\n",
       "    <tr>\n",
       "      <th>0</th>\n",
       "      <td>55.1</td>\n",
       "      <td>139.0</td>\n",
       "      <td>68.0</td>\n",
       "      <td>2025-07-21 15:04:13+00:00</td>\n",
       "    </tr>\n",
       "    <tr>\n",
       "      <th>1</th>\n",
       "      <td>122.0</td>\n",
       "      <td>704.2</td>\n",
       "      <td>538.0</td>\n",
       "      <td>2025-07-20 13:46:19+00:00</td>\n",
       "    </tr>\n",
       "  </tbody>\n",
       "</table>\n",
       "</div>"
      ],
      "text/plain": [
       "   weekly_intense  weekly_moderate  weekly_suffer_score  \\\n",
       "0            74.0            206.0                119.0   \n",
       "0            55.1            139.0                 68.0   \n",
       "1           122.0            704.2                538.0   \n",
       "\n",
       "                 start_date  \n",
       "0 2025-07-23 12:59:53+00:00  \n",
       "0 2025-07-21 15:04:13+00:00  \n",
       "1 2025-07-20 13:46:19+00:00  "
      ]
     },
     "execution_count": 23,
     "metadata": {},
     "output_type": "execute_result"
    }
   ],
   "source": [
    "if len(new_zone_df) > 0 and len(new_zone_df) < 100:\n",
    "    new_zone_df = pd.merge(new_zone_df, zone, left_on='id',right_index=True)\n",
    "\n",
    "    # Get the Sunday start of the week for each date (time set to Sunday at midnight)\n",
    "    new_zone_df['week_start'] = new_zone_df['start_date'].dt.to_period('W-SUN').dt.start_time\n",
    "    \n",
    "    #new_zone_df.columns are now matched with strava_zone_df\n",
    "    new_zone_df = pd.concat ([new_zone_df, strava_zone_df], axis=0)\n",
    "    \n",
    "    len(strava_zone_df)\n",
    "    len(new_zone_df)\n",
    "    \n",
    "    # Correct instance of faulty heart rate data\n",
    "    new_zone_df.loc[new_zone_df.suffer_score < 100, 'Zone5'] = 0\n",
    "    \n",
    "    # Add in summary zones: moderate and intense\n",
    "    new_zone_df['moderate'] = new_zone_df[['Zone1', 'Zone2']].sum(axis=1)\n",
    "    new_zone_df['intense'] = new_zone_df[['Zone3', 'Zone4', 'Zone5']].sum(axis=1)\n",
    "\n",
    "    # This drops all weekly_ cols since they are all recalculated later\n",
    "    only_cols = ['id', 'name', 'date', 'suffer_score', 'start_date', 'Zone1', 'Zone2',\n",
    "           'Zone3', 'Zone4', 'Zone5', 'moderate', 'intense', 'week_start']\n",
    "    new_zone_df = new_zone_df[only_cols]\n",
    "    \n",
    "    # Temporarily sort ascending by week_start and date to compute cumulative sum correctly\n",
    "    temp = new_zone_df.sort_values(['week_start', 'start_date'])\n",
    "\n",
    "    # Calculate cumulative sum within each week for weekly_ cols\n",
    "    cumulative_cols = ['intense', 'moderate', 'suffer_score']\n",
    "    cumulative_sums = (\n",
    "    temp\n",
    "        .groupby('week_start')[cumulative_cols]\n",
    "        .cumsum()\n",
    "        .add_prefix('weekly_')  # rename columns if needed\n",
    "    )\n",
    "    # Add start_date column for reference\n",
    "    cumulative_sums['start_date'] = temp['start_date']\n",
    "    cumulative_sums = cumulative_sums.sort_values('start_date', ascending = False)\n",
    "    cumulative_sums.head(3)\n",
    "    strava_zone_df = pd.merge(new_zone_df,cumulative_sums, left_on ='start_date', right_on='start_date')"
   ]
  },
  {
   "cell_type": "markdown",
   "id": "7c61549e-bad2-4be0-89e5-b53008e1c122",
   "metadata": {},
   "source": [
    "### Plotting Section"
   ]
  },
  {
   "cell_type": "code",
   "execution_count": 26,
   "id": "eae5f217-48d8-40f5-b35d-6e09ed4a0a15",
   "metadata": {},
   "outputs": [
    {
     "data": {
      "text/html": [
       "<div>\n",
       "<style scoped>\n",
       "    .dataframe tbody tr th:only-of-type {\n",
       "        vertical-align: middle;\n",
       "    }\n",
       "\n",
       "    .dataframe tbody tr th {\n",
       "        vertical-align: top;\n",
       "    }\n",
       "\n",
       "    .dataframe thead th {\n",
       "        text-align: right;\n",
       "    }\n",
       "</style>\n",
       "<table border=\"1\" class=\"dataframe\">\n",
       "  <thead>\n",
       "    <tr style=\"text-align: right;\">\n",
       "      <th></th>\n",
       "      <th>week_start</th>\n",
       "      <th>weekly_intense</th>\n",
       "      <th>weekly_moderate</th>\n",
       "      <th>weekly_suffer_score</th>\n",
       "      <th>week</th>\n",
       "    </tr>\n",
       "  </thead>\n",
       "  <tbody>\n",
       "    <tr>\n",
       "      <th>28</th>\n",
       "      <td>2025-07-21</td>\n",
       "      <td>74.0</td>\n",
       "      <td>206.0</td>\n",
       "      <td>119.0</td>\n",
       "      <td>Jul 21</td>\n",
       "    </tr>\n",
       "    <tr>\n",
       "      <th>27</th>\n",
       "      <td>2025-07-14</td>\n",
       "      <td>122.0</td>\n",
       "      <td>704.2</td>\n",
       "      <td>538.0</td>\n",
       "      <td>Jul 14</td>\n",
       "    </tr>\n",
       "    <tr>\n",
       "      <th>26</th>\n",
       "      <td>2025-07-07</td>\n",
       "      <td>152.0</td>\n",
       "      <td>767.9</td>\n",
       "      <td>546.0</td>\n",
       "      <td>Jul 07</td>\n",
       "    </tr>\n",
       "    <tr>\n",
       "      <th>25</th>\n",
       "      <td>2025-06-30</td>\n",
       "      <td>143.9</td>\n",
       "      <td>794.7</td>\n",
       "      <td>597.0</td>\n",
       "      <td>Jun 30</td>\n",
       "    </tr>\n",
       "    <tr>\n",
       "      <th>24</th>\n",
       "      <td>2025-06-23</td>\n",
       "      <td>259.7</td>\n",
       "      <td>479.1</td>\n",
       "      <td>662.0</td>\n",
       "      <td>Jun 23</td>\n",
       "    </tr>\n",
       "  </tbody>\n",
       "</table>\n",
       "</div>"
      ],
      "text/plain": [
       "   week_start  weekly_intense  weekly_moderate  weekly_suffer_score    week\n",
       "28 2025-07-21            74.0            206.0                119.0  Jul 21\n",
       "27 2025-07-14           122.0            704.2                538.0  Jul 14\n",
       "26 2025-07-07           152.0            767.9                546.0  Jul 07\n",
       "25 2025-06-30           143.9            794.7                597.0  Jun 30\n",
       "24 2025-06-23           259.7            479.1                662.0  Jun 23"
      ]
     },
     "execution_count": 26,
     "metadata": {},
     "output_type": "execute_result"
    }
   ],
   "source": [
    "week_summary = build_week_summary(strava_zone_df)\n",
    "week_summary.sort_values('week_start',ascending=False).head()"
   ]
  },
  {
   "cell_type": "code",
   "execution_count": 27,
   "id": "aa60c814-62ab-4aa8-b6f1-842e7d0bc7a1",
   "metadata": {},
   "outputs": [
    {
     "data": {
      "image/png": "[encoded data removed]",
      "text/plain": [
       "<Figure size 1008x432 with 1 Axes>"
      ]
     },
     "metadata": {
      "needs_background": "light"
     },
     "output_type": "display_data"
    }
   ],
   "source": [
    "ax = week_summary.plot(\n",
    "    y=['weekly_moderate','weekly_intense'],\n",
    "    x='week',\n",
    "    kind='bar', \n",
    "    stacked=True, \n",
    "    figsize=(14, 6), \n",
    "    color=['#98FB98', '#F08080']\n",
    ")\n",
    "\n",
    "# Overlay line plot for 'weekly_suffer_score'\n",
    "line = ax.plot(\n",
    "    week_summary[\"week\"],\n",
    "    week_summary[\"weekly_suffer_score\"],\n",
    "    color=\"black\",\n",
    "    marker=\"o\",\n",
    "    linewidth=2,\n",
    "    label=\"Suffer_Score\"  \n",
    ")\n",
    "\n",
    "plt.title(\"Time in Heart Rate Zones\");\n",
    "plt.xlabel(\"Activity ID\");\n",
    "plt.ylabel(\"Time (minutes)\");\n",
    "plt.legend(title=\"Zone\");\n",
    "plt.xticks(rotation=45, ha='right');\n",
    "plt.tight_layout();\n",
    "plt.show();"
   ]
  },
  {
   "cell_type": "markdown",
   "id": "6f617a86-5860-4fbc-9590-57af1a1640a8",
   "metadata": {},
   "source": [
    "### Drilling down a specific week"
   ]
  },
  {
   "cell_type": "code",
   "execution_count": 28,
   "id": "b65baccb-f8e0-4fed-b822-cd0d421e0f6d",
   "metadata": {},
   "outputs": [],
   "source": [
    "# default start is current week\n",
    "start = week_summary.sort_values('week_start',ascending=False).iloc[0,0]\n",
    "#start = \"2025-01-27\" # <-- select custom week starting datea"
   ]
  },
  {
   "cell_type": "code",
   "execution_count": 29,
   "id": "f54f7731-2e01-4b90-bd21-12db0b2fc511",
   "metadata": {},
   "outputs": [],
   "source": [
    "week_df, zone_week_df = display_detail_week(start, strava_df, strava_zone_df)"
   ]
  },
  {
   "cell_type": "code",
   "execution_count": null,
   "id": "00745b20-834d-4f1d-959c-58bdc47856d2",
   "metadata": {},
   "outputs": [],
   "source": []
  },
  {
   "cell_type": "code",
   "execution_count": 30,
   "id": "74075ed0-bac7-41c6-97d6-bad781d61939",
   "metadata": {},
   "outputs": [
    {
     "data": {
      "text/html": [
       "<div>\n",
       "<style scoped>\n",
       "    .dataframe tbody tr th:only-of-type {\n",
       "        vertical-align: middle;\n",
       "    }\n",
       "\n",
       "    .dataframe tbody tr th {\n",
       "        vertical-align: top;\n",
       "    }\n",
       "\n",
       "    .dataframe thead th {\n",
       "        text-align: right;\n",
       "    }\n",
       "</style>\n",
       "<table border=\"1\" class=\"dataframe\">\n",
       "  <thead>\n",
       "    <tr style=\"text-align: right;\">\n",
       "      <th></th>\n",
       "      <th>id</th>\n",
       "      <th>name</th>\n",
       "      <th>date</th>\n",
       "      <th>sport</th>\n",
       "      <th>distance</th>\n",
       "      <th>time</th>\n",
       "      <th>speed</th>\n",
       "      <th>elev_gain</th>\n",
       "      <th>avg_HR</th>\n",
       "      <th>max_HR</th>\n",
       "      <th>suffer_score</th>\n",
       "    </tr>\n",
       "  </thead>\n",
       "  <tbody>\n",
       "    <tr>\n",
       "      <th>0</th>\n",
       "      <td>15210498851</td>\n",
       "      <td>Old Stage and gravel loop</td>\n",
       "      <td>2025-07-23</td>\n",
       "      <td>Ride</td>\n",
       "      <td>23.3</td>\n",
       "      <td>1:43</td>\n",
       "      <td>13.5</td>\n",
       "      <td>1389.4</td>\n",
       "      <td>130.9</td>\n",
       "      <td>202.0</td>\n",
       "      <td>51.0</td>\n",
       "    </tr>\n",
       "    <tr>\n",
       "      <th>0</th>\n",
       "      <td>15189628842</td>\n",
       "      <td>Poorman and Chapman</td>\n",
       "      <td>2025-07-21</td>\n",
       "      <td>Ride</td>\n",
       "      <td>35.5</td>\n",
       "      <td>3:14</td>\n",
       "      <td>11.0</td>\n",
       "      <td>2814.6</td>\n",
       "      <td>117.3</td>\n",
       "      <td>144.0</td>\n",
       "      <td>68.0</td>\n",
       "    </tr>\n",
       "  </tbody>\n",
       "</table>\n",
       "</div>"
      ],
      "text/plain": [
       "            id                       name        date sport  distance  time  \\\n",
       "0  15210498851  Old Stage and gravel loop  2025-07-23  Ride      23.3  1:43   \n",
       "0  15189628842        Poorman and Chapman  2025-07-21  Ride      35.5  3:14   \n",
       "\n",
       "  speed  elev_gain  avg_HR  max_HR  suffer_score  \n",
       "0  13.5     1389.4   130.9   202.0          51.0  \n",
       "0  11.0     2814.6   117.3   144.0          68.0  "
      ]
     },
     "execution_count": 30,
     "metadata": {},
     "output_type": "execute_result"
    },
    {
     "data": {
      "text/html": [
       "<div>\n",
       "<style scoped>\n",
       "    .dataframe tbody tr th:only-of-type {\n",
       "        vertical-align: middle;\n",
       "    }\n",
       "\n",
       "    .dataframe tbody tr th {\n",
       "        vertical-align: top;\n",
       "    }\n",
       "\n",
       "    .dataframe thead th {\n",
       "        text-align: right;\n",
       "    }\n",
       "</style>\n",
       "<table border=\"1\" class=\"dataframe\">\n",
       "  <thead>\n",
       "    <tr style=\"text-align: right;\">\n",
       "      <th></th>\n",
       "      <th>name</th>\n",
       "      <th>date</th>\n",
       "      <th>Zone1</th>\n",
       "      <th>Zone2</th>\n",
       "      <th>Zone3</th>\n",
       "      <th>Zone4</th>\n",
       "      <th>Zone5</th>\n",
       "      <th>moderate</th>\n",
       "      <th>intense</th>\n",
       "      <th>week_start</th>\n",
       "      <th>weekly_intense</th>\n",
       "    </tr>\n",
       "  </thead>\n",
       "  <tbody>\n",
       "    <tr>\n",
       "      <th>0</th>\n",
       "      <td>Old Stage and gravel loop</td>\n",
       "      <td>2025-07-23</td>\n",
       "      <td>4.8</td>\n",
       "      <td>62.1</td>\n",
       "      <td>17.3</td>\n",
       "      <td>1.6</td>\n",
       "      <td>0.0</td>\n",
       "      <td>67.0</td>\n",
       "      <td>18.9</td>\n",
       "      <td>2025-07-21</td>\n",
       "      <td>74.0</td>\n",
       "    </tr>\n",
       "    <tr>\n",
       "      <th>1</th>\n",
       "      <td>Poorman and Chapman</td>\n",
       "      <td>2025-07-21</td>\n",
       "      <td>29.1</td>\n",
       "      <td>110.0</td>\n",
       "      <td>35.3</td>\n",
       "      <td>19.8</td>\n",
       "      <td>0.0</td>\n",
       "      <td>139.0</td>\n",
       "      <td>55.1</td>\n",
       "      <td>2025-07-21</td>\n",
       "      <td>55.1</td>\n",
       "    </tr>\n",
       "  </tbody>\n",
       "</table>\n",
       "</div>"
      ],
      "text/plain": [
       "                        name        date  Zone1  Zone2  Zone3  Zone4  Zone5  \\\n",
       "0  Old Stage and gravel loop  2025-07-23    4.8   62.1   17.3    1.6    0.0   \n",
       "1        Poorman and Chapman  2025-07-21   29.1  110.0   35.3   19.8    0.0   \n",
       "\n",
       "   moderate  intense week_start  weekly_intense  \n",
       "0      67.0     18.9 2025-07-21            74.0  \n",
       "1     139.0     55.1 2025-07-21            55.1  "
      ]
     },
     "execution_count": 30,
     "metadata": {},
     "output_type": "execute_result"
    }
   ],
   "source": [
    "week_df.sort_values('start_date',ascending=False)[['id','name', 'date', 'sport', 'distance', 'time', 'speed', 'elev_gain',\n",
    "       'avg_HR', 'max_HR', 'suffer_score']]\n",
    "zone_week_df.sort_values('start_date',ascending=False)[['name','date','Zone1', 'Zone2',\n",
    "       'Zone3', 'Zone4', 'Zone5', 'moderate', 'intense', 'week_start',\n",
    "       'weekly_intense']]"
   ]
  },
  {
   "cell_type": "code",
   "execution_count": null,
   "id": "625deb40-1d9f-4cbd-987f-c4ad79b55651",
   "metadata": {},
   "outputs": [],
   "source": [
    "# Set number of rows to display\n",
    "pd.set_option('display.max_rows', 20) #if set to None this will show all\n",
    "pd.set_option('display.min_rows', 20)  # adjust to help override auto-truncation\n",
    "\n",
    "strava_zone_df[['name','date','intense']]\n",
    "pd.reset_option('display.max_rows')"
   ]
  },
  {
   "cell_type": "markdown",
   "id": "7201dc71-222d-43cd-ad88-84d63baeb2e7",
   "metadata": {},
   "source": [
    "### Saving data"
   ]
  },
  {
   "cell_type": "code",
   "execution_count": 31,
   "id": "71e356ba-ced8-4e7e-b5a8-f5748c9af7f0",
   "metadata": {},
   "outputs": [],
   "source": [
    "strava_df = strava_df.sort_values('id',ascending=False)\n",
    "strava_zone_df = strava_zone_df.sort_values('id',ascending=False)"
   ]
  },
  {
   "cell_type": "code",
   "execution_count": 32,
   "id": "4b34c832-3aef-4086-9d57-adcfee9329d1",
   "metadata": {},
   "outputs": [
    {
     "data": {
      "text/html": [
       "<div>\n",
       "<style scoped>\n",
       "    .dataframe tbody tr th:only-of-type {\n",
       "        vertical-align: middle;\n",
       "    }\n",
       "\n",
       "    .dataframe tbody tr th {\n",
       "        vertical-align: top;\n",
       "    }\n",
       "\n",
       "    .dataframe thead th {\n",
       "        text-align: right;\n",
       "    }\n",
       "</style>\n",
       "<table border=\"1\" class=\"dataframe\">\n",
       "  <thead>\n",
       "    <tr style=\"text-align: right;\">\n",
       "      <th></th>\n",
       "      <th>id</th>\n",
       "      <th>name</th>\n",
       "      <th>date</th>\n",
       "      <th>sport</th>\n",
       "      <th>distance</th>\n",
       "      <th>time</th>\n",
       "      <th>speed</th>\n",
       "      <th>elev_gain</th>\n",
       "      <th>avg_HR</th>\n",
       "      <th>max_HR</th>\n",
       "      <th>suffer_score</th>\n",
       "      <th>time-minutes</th>\n",
       "      <th>average_speed</th>\n",
       "      <th>start_date</th>\n",
       "    </tr>\n",
       "  </thead>\n",
       "  <tbody>\n",
       "    <tr>\n",
       "      <th>0</th>\n",
       "      <td>15210498851</td>\n",
       "      <td>Old Stage and gravel loop</td>\n",
       "      <td>2025-07-23</td>\n",
       "      <td>Ride</td>\n",
       "      <td>23.3</td>\n",
       "      <td>1:43</td>\n",
       "      <td>13.5</td>\n",
       "      <td>1389.4</td>\n",
       "      <td>130.9</td>\n",
       "      <td>202.0</td>\n",
       "      <td>51.0</td>\n",
       "      <td>103.4</td>\n",
       "      <td>6.0</td>\n",
       "      <td>2025-07-23 12:59:53+00:00</td>\n",
       "    </tr>\n",
       "  </tbody>\n",
       "</table>\n",
       "</div>"
      ],
      "text/plain": [
       "            id                       name        date sport  distance  time  \\\n",
       "0  15210498851  Old Stage and gravel loop  2025-07-23  Ride      23.3  1:43   \n",
       "\n",
       "  speed  elev_gain  avg_HR  max_HR  suffer_score  time-minutes  average_speed  \\\n",
       "0  13.5     1389.4   130.9   202.0          51.0         103.4            6.0   \n",
       "\n",
       "                 start_date  \n",
       "0 2025-07-23 12:59:53+00:00  "
      ]
     },
     "execution_count": 32,
     "metadata": {},
     "output_type": "execute_result"
    },
    {
     "data": {
      "text/html": [
       "<div>\n",
       "<style scoped>\n",
       "    .dataframe tbody tr th:only-of-type {\n",
       "        vertical-align: middle;\n",
       "    }\n",
       "\n",
       "    .dataframe tbody tr th {\n",
       "        vertical-align: top;\n",
       "    }\n",
       "\n",
       "    .dataframe thead th {\n",
       "        text-align: right;\n",
       "    }\n",
       "</style>\n",
       "<table border=\"1\" class=\"dataframe\">\n",
       "  <thead>\n",
       "    <tr style=\"text-align: right;\">\n",
       "      <th></th>\n",
       "      <th>id</th>\n",
       "      <th>name</th>\n",
       "      <th>date</th>\n",
       "      <th>suffer_score</th>\n",
       "      <th>start_date</th>\n",
       "      <th>Zone1</th>\n",
       "      <th>Zone2</th>\n",
       "      <th>Zone3</th>\n",
       "      <th>Zone4</th>\n",
       "      <th>Zone5</th>\n",
       "      <th>moderate</th>\n",
       "      <th>intense</th>\n",
       "      <th>week_start</th>\n",
       "      <th>weekly_intense</th>\n",
       "      <th>weekly_moderate</th>\n",
       "      <th>weekly_suffer_score</th>\n",
       "    </tr>\n",
       "  </thead>\n",
       "  <tbody>\n",
       "    <tr>\n",
       "      <th>0</th>\n",
       "      <td>15210498851</td>\n",
       "      <td>Old Stage and gravel loop</td>\n",
       "      <td>2025-07-23</td>\n",
       "      <td>51.0</td>\n",
       "      <td>2025-07-23 12:59:53+00:00</td>\n",
       "      <td>4.8</td>\n",
       "      <td>62.1</td>\n",
       "      <td>17.3</td>\n",
       "      <td>1.6</td>\n",
       "      <td>0.0</td>\n",
       "      <td>67.0</td>\n",
       "      <td>18.9</td>\n",
       "      <td>2025-07-21</td>\n",
       "      <td>74.0</td>\n",
       "      <td>206.0</td>\n",
       "      <td>119.0</td>\n",
       "    </tr>\n",
       "  </tbody>\n",
       "</table>\n",
       "</div>"
      ],
      "text/plain": [
       "            id                       name        date  suffer_score  \\\n",
       "0  15210498851  Old Stage and gravel loop  2025-07-23          51.0   \n",
       "\n",
       "                 start_date  Zone1  Zone2  Zone3  Zone4  Zone5  moderate  \\\n",
       "0 2025-07-23 12:59:53+00:00    4.8   62.1   17.3    1.6    0.0      67.0   \n",
       "\n",
       "   intense week_start  weekly_intense  weekly_moderate  weekly_suffer_score  \n",
       "0     18.9 2025-07-21            74.0            206.0                119.0  "
      ]
     },
     "execution_count": 32,
     "metadata": {},
     "output_type": "execute_result"
    },
    {
     "name": "stdout",
     "output_type": "stream",
     "text": [
      "127\n",
      "127\n"
     ]
    }
   ],
   "source": [
    "# verify before saving\n",
    "strava_df.head(1)\n",
    "strava_zone_df.head(1)\n",
    "print(len(strava_df))\n",
    "print(len(strava_zone_df))"
   ]
  },
  {
   "cell_type": "markdown",
   "id": "ecf05fde-9a35-45b7-b3c9-471d277228bf",
   "metadata": {},
   "source": [
    "### Use save_data, and year"
   ]
  },
  {
   "cell_type": "code",
   "execution_count": 33,
   "id": "6c1aca6a-1d5a-4771-a470-08421534a5c6",
   "metadata": {},
   "outputs": [
    {
     "name": "stdout",
     "output_type": "stream",
     "text": [
      "Data saved in folder: data/2025-07-23\n"
     ]
    }
   ],
   "source": [
    "# Select year for saving\n",
    "# Data will be saved to: data/{today}\n",
    "save_data(strava_df, strava_zone_df, 2025)"
   ]
  },
  {
   "cell_type": "code",
   "execution_count": null,
   "id": "07d1d2e0-241b-4c2e-8405-c6a2c7fa1071",
   "metadata": {},
   "outputs": [],
   "source": []
  },
  {
   "cell_type": "code",
   "execution_count": null,
   "id": "0132558c-926a-4eda-983f-5040c7a93280",
   "metadata": {},
   "outputs": [],
   "source": []
  }
 ],
 "metadata": {
  "kernelspec": {
   "display_name": "Python 3",
   "language": "python",
   "name": "python3"
  },
  "language_info": {
   "codemirror_mode": {
    "name": "ipython",
    "version": 3
   },
   "file_extension": ".py",
   "mimetype": "text/x-python",
   "name": "python",
   "nbconvert_exporter": "python",
   "pygments_lexer": "ipython3",
   "version": "3.8.8"
  }
 },
 "nbformat": 4,
 "nbformat_minor": 5
}
