{
 "cells": [
  {
   "cell_type": "code",
   "execution_count": 1,
   "id": "5d459dfb-74f9-41d9-8af4-c92e2c2b4a4c",
   "metadata": {},
   "outputs": [
    {
     "data": {
      "text/plain": [
       "'/Users/edwardterrell/Desktop/Training/kindle/strava'"
      ]
     },
     "execution_count": 1,
     "metadata": {},
     "output_type": "execute_result"
    }
   ],
   "source": [
    "pwd"
   ]
  },
  {
   "cell_type": "code",
   "execution_count": 2,
   "id": "d6710164-d780-4a78-84ab-36ef6b5000f8",
   "metadata": {},
   "outputs": [
    {
     "data": {
      "text/plain": [
       "'/Users/edwardterrell/opt/anaconda3/envs/mlml/bin/python'"
      ]
     },
     "execution_count": 2,
     "metadata": {},
     "output_type": "execute_result"
    }
   ],
   "source": [
    "import requests\n",
    "import json\n",
    "import time\n",
    "import os\n",
    "from pprint import pprint\n",
    "\n",
    "import pandas as pd\n",
    "pd.set_option('display.precision', 1)\n",
    "import warnings\n",
    "warnings.filterwarnings(\"ignore\", message=\".*will drop timezone.*\")\n",
    "\n",
    "%matplotlib inline\n",
    "from IPython.core.display import HTML\n",
    "css = open('style-table.css').read() + open('style-notebook.css').read()\n",
    "HTML('<style>{}</style>'.format(css))\n",
    "\n",
    "%load_ext autoreload\n",
    "%autoreload 2\n",
    "from clean_convert import cleanup, convert_speed, order_columns\n",
    "from zones import get_zones_for_id\n",
    "\n",
    "# import graphics programs\n",
    "import matplotlib.pyplot as plt\n",
    "import seaborn as sns\n",
    "sns.set(rc={'figure.figsize':(14,6)}) # for all future plots\n",
    "\n",
    "import sys\n",
    "sys.executable"
   ]
  },
  {
   "cell_type": "code",
   "execution_count": 3,
   "id": "61801378-e8bf-4f37-a6a4-ec37fa4d8ede",
   "metadata": {},
   "outputs": [
    {
     "name": "stdout",
     "output_type": "stream",
     "text": [
      "Access token expired. Refreshing...\n",
      "Using access token: b0e9954f4f5dd2f73ccd2d19626fbe82b6d069e6\n",
      "{'id': 723727, 'username': 'eterrell', 'resource_state': 2, 'firstname': 'Ed', 'lastname': 'Terrell', 'bio': '', 'city': 'Boulder', 'state': 'CO', 'country': 'United States', 'sex': 'M', 'premium': True, 'summit': True, 'created_at': '2012-07-05T00:04:09Z', 'updated_at': '2025-07-09T12:38:59Z', 'badge_type_id': 1, 'weight': 61.235, 'profile_medium': 'https://dgalywyr863hv.cloudfront.net/pictures/athletes/723727/20826329/1/medium.jpg', 'profile': 'https://dgalywyr863hv.cloudfront.net/pictures/athletes/723727/20826329/1/large.jpg', 'friend': None, 'follower': None}\n"
     ]
    }
   ],
   "source": [
    "from token_manager import get_valid_access_token\n",
    "import requests\n",
    "\n",
    "access_token = get_valid_access_token()\n",
    "print(\"Using access token:\", access_token)\n",
    "\n",
    "# Make an authenticated API call\n",
    "response = requests.get(\n",
    "    'https://www.strava.com/api/v3/athlete',\n",
    "    headers={'Authorization': f'Bearer {access_token}'}\n",
    ")\n",
    "print(response.json())"
   ]
  },
  {
   "cell_type": "raw",
   "id": "716337a9-1bb1-4c30-b842-f69032168997",
   "metadata": {},
   "source": [
    "# USED ONLY IF token_manager.py isn't generating correctly\n",
    "client_id = 167221\n",
    "client_secret = 'f4df8e0dec7d9d8e725707eaf05037fcc845989d'\n",
    "auth_code = 'd973f0f86d2e56c3e7ac369809ca6b14fc814a98' # stored from last time\n",
    "\n",
    "response = requests.post(\n",
    "    'https://www.strava.com/oauth/token',\n",
    "    data={\n",
    "        'client_id': client_id,\n",
    "        'client_secret': client_secret,\n",
    "        'code': auth_code,\n",
    "        'grant_type': 'authorization_code',\n",
    "    }\n",
    ")\n",
    "# Check and save response\n",
    "if response.status_code == 200:\n",
    "    tokens = response.json()\n",
    "    print(\"✅ Tokens received:\")\n",
    "    print(json.dumps(tokens, indent=2))\n",
    "\n",
    "    # Save to tokens.json for use in token_manager.py\n",
    "    with open(\"tokens.json\", \"w\") as f:\n",
    "        json.dump(tokens, f)\n",
    "else:\n",
    "    print(\"❌ Failed to get tokens:\", response.status_code)\n",
    "    print(response.text)"
   ]
  },
  {
   "cell_type": "code",
   "execution_count": 4,
   "id": "e75163f5-88d3-4b8a-99d6-d6248803139c",
   "metadata": {},
   "outputs": [],
   "source": [
    "strava_df = pd.read_pickle(\"strava_data.pkl\")\n",
    "strava_zone_df = pd.read_pickle(\"strava_zone_data.pkl\")"
   ]
  },
  {
   "cell_type": "markdown",
   "id": "b7d7032a-eb68-4e8b-b42e-c21c7591dafb",
   "metadata": {},
   "source": [
    "### Historical strava data"
   ]
  },
  {
   "cell_type": "code",
   "execution_count": 5,
   "id": "89e6a56b-9469-4891-ad1d-eb126b20b11a",
   "metadata": {},
   "outputs": [
    {
     "data": {
      "text/html": [
       "<div>\n",
       "<style scoped>\n",
       "    .dataframe tbody tr th:only-of-type {\n",
       "        vertical-align: middle;\n",
       "    }\n",
       "\n",
       "    .dataframe tbody tr th {\n",
       "        vertical-align: top;\n",
       "    }\n",
       "\n",
       "    .dataframe thead th {\n",
       "        text-align: right;\n",
       "    }\n",
       "</style>\n",
       "<table border=\"1\" class=\"dataframe\">\n",
       "  <thead>\n",
       "    <tr style=\"text-align: right;\">\n",
       "      <th></th>\n",
       "      <th>id</th>\n",
       "      <th>name</th>\n",
       "      <th>distance</th>\n",
       "      <th>moving_time</th>\n",
       "      <th>total_elevation_gain</th>\n",
       "      <th>sport_type</th>\n",
       "      <th>average_speed</th>\n",
       "      <th>average_heartrate</th>\n",
       "      <th>max_heartrate</th>\n",
       "      <th>suffer_score</th>\n",
       "      <th>start_date</th>\n",
       "    </tr>\n",
       "  </thead>\n",
       "  <tbody>\n",
       "    <tr>\n",
       "      <th>127</th>\n",
       "      <td>15093410751</td>\n",
       "      <td>Gross Reservoir Loop Hwy72 - CR97 and Magnolia</td>\n",
       "      <td>90130.9</td>\n",
       "      <td>19673</td>\n",
       "      <td>1917.2</td>\n",
       "      <td>Ride</td>\n",
       "      <td>4.6</td>\n",
       "      <td>113.3</td>\n",
       "      <td>141.0</td>\n",
       "      <td>233.0</td>\n",
       "      <td>2025-07-12T13:45:47Z</td>\n",
       "    </tr>\n",
       "    <tr>\n",
       "      <th>126</th>\n",
       "      <td>15061307314</td>\n",
       "      <td>Nederland exploration and exploitation</td>\n",
       "      <td>54140.4</td>\n",
       "      <td>11638</td>\n",
       "      <td>993.7</td>\n",
       "      <td>Ride</td>\n",
       "      <td>4.7</td>\n",
       "      <td>109.1</td>\n",
       "      <td>131.0</td>\n",
       "      <td>106.0</td>\n",
       "      <td>2025-07-09T14:17:28Z</td>\n",
       "    </tr>\n",
       "    <tr>\n",
       "      <th>125</th>\n",
       "      <td>15048399185</td>\n",
       "      <td>Jamestown and eats at Lucky's Bakery</td>\n",
       "      <td>60380.4</td>\n",
       "      <td>9467</td>\n",
       "      <td>757.0</td>\n",
       "      <td>Ride</td>\n",
       "      <td>6.4</td>\n",
       "      <td>110.9</td>\n",
       "      <td>140.0</td>\n",
       "      <td>101.0</td>\n",
       "      <td>2025-07-08T14:44:02Z</td>\n",
       "    </tr>\n",
       "    <tr>\n",
       "      <th>124</th>\n",
       "      <td>15037283785</td>\n",
       "      <td>Old Stage</td>\n",
       "      <td>44640.8</td>\n",
       "      <td>7128</td>\n",
       "      <td>430.0</td>\n",
       "      <td>Ride</td>\n",
       "      <td>6.3</td>\n",
       "      <td>109.6</td>\n",
       "      <td>134.0</td>\n",
       "      <td>54.0</td>\n",
       "      <td>2025-07-07T12:38:38Z</td>\n",
       "    </tr>\n",
       "    <tr>\n",
       "      <th>123</th>\n",
       "      <td>15027982989</td>\n",
       "      <td>North dirt roads to Longmont bike paths and Ba...</td>\n",
       "      <td>59511.9</td>\n",
       "      <td>10021</td>\n",
       "      <td>361.6</td>\n",
       "      <td>Ride</td>\n",
       "      <td>5.9</td>\n",
       "      <td>102.5</td>\n",
       "      <td>129.0</td>\n",
       "      <td>47.0</td>\n",
       "      <td>2025-07-06T14:14:42Z</td>\n",
       "    </tr>\n",
       "  </tbody>\n",
       "</table>\n",
       "</div>"
      ],
      "text/plain": [
       "              id                                               name  distance  \\\n",
       "127  15093410751     Gross Reservoir Loop Hwy72 - CR97 and Magnolia   90130.9   \n",
       "126  15061307314             Nederland exploration and exploitation   54140.4   \n",
       "125  15048399185               Jamestown and eats at Lucky's Bakery   60380.4   \n",
       "124  15037283785                                          Old Stage   44640.8   \n",
       "123  15027982989  North dirt roads to Longmont bike paths and Ba...   59511.9   \n",
       "\n",
       "     moving_time  total_elevation_gain sport_type  average_speed  \\\n",
       "127        19673                1917.2       Ride            4.6   \n",
       "126        11638                 993.7       Ride            4.7   \n",
       "125         9467                 757.0       Ride            6.4   \n",
       "124         7128                 430.0       Ride            6.3   \n",
       "123        10021                 361.6       Ride            5.9   \n",
       "\n",
       "     average_heartrate  max_heartrate  suffer_score            start_date  \n",
       "127              113.3          141.0         233.0  2025-07-12T13:45:47Z  \n",
       "126              109.1          131.0         106.0  2025-07-09T14:17:28Z  \n",
       "125              110.9          140.0         101.0  2025-07-08T14:44:02Z  \n",
       "124              109.6          134.0          54.0  2025-07-07T12:38:38Z  \n",
       "123              102.5          129.0          47.0  2025-07-06T14:14:42Z  "
      ]
     },
     "execution_count": 5,
     "metadata": {},
     "output_type": "execute_result"
    }
   ],
   "source": [
    "# Get activities from Jan 1, 2025 onward\n",
    "start_date = int(time.mktime(time.strptime('2025-01-01', '%Y-%m-%d')))\n",
    "\n",
    "url = \"https://www.strava.com/api/v3/athlete/activities\"\n",
    "headers = {\"Authorization\": f\"Bearer {access_token}\"}\n",
    "params = {\n",
    "    \"after\": start_date,\n",
    "    \"per_page\": 200,  # max per request\n",
    "    \"page\": 1\n",
    "}\n",
    "activities = []\n",
    "while True:\n",
    "    response = requests.get(url, headers=headers, params=params)\n",
    "    data = response.json()\n",
    "    if not data:\n",
    "        break\n",
    "    activities.extend(data)\n",
    "    params[\"page\"] += 1\n",
    "\n",
    "\n",
    "# Build out strava_df with only the necessary columns\n",
    "strava_df = pd.DataFrame(activities)\n",
    "cols_needed = ['id','name', 'distance', 'moving_time','total_elevation_gain', 'sport_type',\n",
    "          'average_speed', 'average_heartrate','max_heartrate', 'suffer_score','start_date']\n",
    "strava_df = strava_df.loc[:,cols_needed]\n",
    "strava_df = strava_df.sort_values('start_date',ascending=False) \n",
    "strava_df.head()"
   ]
  },
  {
   "cell_type": "markdown",
   "id": "861b5af7-0aca-4777-8170-7feb41a74200",
   "metadata": {},
   "source": [
    "### Recent activities only!"
   ]
  },
  {
   "cell_type": "code",
   "execution_count": 74,
   "id": "f5a886dc-4231-4883-a5e9-b0a00d15445c",
   "metadata": {},
   "outputs": [],
   "source": [
    "# Get activities from month start\n",
    "start_date = int(time.mktime(time.strptime('2025-07-01', '%Y-%m-%d')))\n",
    "\n",
    "url = \"https://www.strava.com/api/v3/athlete/activities\"\n",
    "headers = {\"Authorization\": f\"Bearer {access_token}\"}\n",
    "params = {\n",
    "    \"after\": start_date,\n",
    "    \"per_page\": 200,  # max per request\n",
    "    \"page\": 1\n",
    "}\n",
    "activities = []\n",
    "while True:\n",
    "    response = requests.get(url, headers=headers, params=params)\n",
    "    data = response.json()\n",
    "    if not data:\n",
    "        break\n",
    "    activities.extend(data)\n",
    "    params[\"page\"] += 1\n",
    "\n",
    "# Build out strava_df with only the necessary columns\n",
    "recent_df = pd.DataFrame(activities)\n",
    "cols_needed = ['id','name', 'distance', 'moving_time','total_elevation_gain', 'sport_type',\n",
    "          'average_speed', 'average_heartrate','max_heartrate', 'suffer_score','start_date']\n",
    "recent_df = recent_df.loc[:,cols_needed]\n",
    "recent_df = recent_df.sort_values('start_date',ascending=False) \n",
    "\n",
    "new_activities_df = recent_df[~recent_df.id.isin(strava_df.id)].copy()\n",
    "new_activities_df"
   ]
  },
  {
   "cell_type": "code",
   "execution_count": 76,
   "id": "8cda6423-3fce-4cfc-bcf8-f46ac6b751c9",
   "metadata": {},
   "outputs": [
    {
     "data": {
      "text/html": [
       "<div>\n",
       "<style scoped>\n",
       "    .dataframe tbody tr th:only-of-type {\n",
       "        vertical-align: middle;\n",
       "    }\n",
       "\n",
       "    .dataframe tbody tr th {\n",
       "        vertical-align: top;\n",
       "    }\n",
       "\n",
       "    .dataframe thead th {\n",
       "        text-align: right;\n",
       "    }\n",
       "</style>\n",
       "<table border=\"1\" class=\"dataframe\">\n",
       "  <thead>\n",
       "    <tr style=\"text-align: right;\">\n",
       "      <th></th>\n",
       "      <th>id</th>\n",
       "      <th>name</th>\n",
       "      <th>date</th>\n",
       "      <th>sport</th>\n",
       "      <th>distance</th>\n",
       "      <th>time</th>\n",
       "      <th>speed</th>\n",
       "      <th>elev_gain</th>\n",
       "      <th>avg_HR</th>\n",
       "      <th>max_HR</th>\n",
       "      <th>suffer_score</th>\n",
       "      <th>time-minutes</th>\n",
       "      <th>average_speed</th>\n",
       "      <th>start_date</th>\n",
       "    </tr>\n",
       "  </thead>\n",
       "  <tbody>\n",
       "    <tr>\n",
       "      <th>8</th>\n",
       "      <td>15102156207</td>\n",
       "      <td>Recovery gravel in the early morning</td>\n",
       "      <td>2025-07-13</td>\n",
       "      <td>Ride</td>\n",
       "      <td>26.7</td>\n",
       "      <td>2:04</td>\n",
       "      <td>12.8</td>\n",
       "      <td>1043.0</td>\n",
       "      <td>108.3</td>\n",
       "      <td>154.0</td>\n",
       "      <td>52.0</td>\n",
       "      <td>125.0</td>\n",
       "      <td>5.7</td>\n",
       "      <td>2025-07-13 13:09:14+00:00</td>\n",
       "    </tr>\n",
       "  </tbody>\n",
       "</table>\n",
       "</div>"
      ],
      "text/plain": [
       "            id                                  name        date sport  \\\n",
       "8  15102156207  Recovery gravel in the early morning  2025-07-13  Ride   \n",
       "\n",
       "   distance  time  speed  elev_gain  avg_HR  max_HR  suffer_score  \\\n",
       "8      26.7  2:04   12.8     1043.0   108.3   154.0          52.0   \n",
       "\n",
       "   time-minutes  average_speed                start_date  \n",
       "8         125.0            5.7 2025-07-13 13:09:14+00:00  "
      ]
     },
     "execution_count": 76,
     "metadata": {},
     "output_type": "execute_result"
    }
   ],
   "source": [
    "new_activities_df = cleanup (new_activities_df)\n",
    "new_activities_df['converted_speed'] = new_activities_df.apply(convert_speed, axis=1)\n",
    "new_activities_df = order_columns(new_activities_df)\n",
    "new_activities_df"
   ]
  },
  {
   "cell_type": "markdown",
   "id": "0af04998-0c88-47fc-bb28-7116b599a8e3",
   "metadata": {},
   "source": [
    "### Recent zone data"
   ]
  },
  {
   "cell_type": "code",
   "execution_count": 162,
   "id": "28ad15dd-3bee-4f5c-bb4b-54dae5746294",
   "metadata": {},
   "outputs": [
    {
     "data": {
      "text/html": [
       "<div>\n",
       "<style scoped>\n",
       "    .dataframe tbody tr th:only-of-type {\n",
       "        vertical-align: middle;\n",
       "    }\n",
       "\n",
       "    .dataframe tbody tr th {\n",
       "        vertical-align: top;\n",
       "    }\n",
       "\n",
       "    .dataframe thead th {\n",
       "        text-align: right;\n",
       "    }\n",
       "</style>\n",
       "<table border=\"1\" class=\"dataframe\">\n",
       "  <thead>\n",
       "    <tr style=\"text-align: right;\">\n",
       "      <th></th>\n",
       "      <th>id</th>\n",
       "      <th>name</th>\n",
       "      <th>date</th>\n",
       "      <th>sport</th>\n",
       "      <th>distance</th>\n",
       "      <th>time</th>\n",
       "      <th>speed</th>\n",
       "      <th>elev_gain</th>\n",
       "      <th>avg_HR</th>\n",
       "      <th>max_HR</th>\n",
       "      <th>suffer_score</th>\n",
       "      <th>time-minutes</th>\n",
       "      <th>average_speed</th>\n",
       "      <th>start_date</th>\n",
       "    </tr>\n",
       "  </thead>\n",
       "  <tbody>\n",
       "    <tr>\n",
       "      <th>8</th>\n",
       "      <td>15102156207</td>\n",
       "      <td>Recovery gravel in the early morning</td>\n",
       "      <td>2025-07-13</td>\n",
       "      <td>Ride</td>\n",
       "      <td>26.7</td>\n",
       "      <td>2:04</td>\n",
       "      <td>12.8</td>\n",
       "      <td>1043.0</td>\n",
       "      <td>108.3</td>\n",
       "      <td>154.0</td>\n",
       "      <td>52.0</td>\n",
       "      <td>125.0</td>\n",
       "      <td>5.7</td>\n",
       "      <td>2025-07-13 13:09:14+00:00</td>\n",
       "    </tr>\n",
       "  </tbody>\n",
       "</table>\n",
       "</div>"
      ],
      "text/plain": [
       "            id                                  name        date sport  \\\n",
       "8  15102156207  Recovery gravel in the early morning  2025-07-13  Ride   \n",
       "\n",
       "   distance  time  speed  elev_gain  avg_HR  max_HR  suffer_score  \\\n",
       "8      26.7  2:04   12.8     1043.0   108.3   154.0          52.0   \n",
       "\n",
       "   time-minutes  average_speed                start_date  \n",
       "8         125.0            5.7 2025-07-13 13:09:14+00:00  "
      ]
     },
     "execution_count": 162,
     "metadata": {},
     "output_type": "execute_result"
    }
   ],
   "source": [
    "new_activities_df"
   ]
  },
  {
   "cell_type": "code",
   "execution_count": 163,
   "id": "23bc7ed5-dd1b-4df1-b88f-8ad62f5ba041",
   "metadata": {},
   "outputs": [
    {
     "data": {
      "text/html": [
       "<div>\n",
       "<style scoped>\n",
       "    .dataframe tbody tr th:only-of-type {\n",
       "        vertical-align: middle;\n",
       "    }\n",
       "\n",
       "    .dataframe tbody tr th {\n",
       "        vertical-align: top;\n",
       "    }\n",
       "\n",
       "    .dataframe thead th {\n",
       "        text-align: right;\n",
       "    }\n",
       "</style>\n",
       "<table border=\"1\" class=\"dataframe\">\n",
       "  <thead>\n",
       "    <tr style=\"text-align: right;\">\n",
       "      <th></th>\n",
       "      <th>id</th>\n",
       "      <th>name</th>\n",
       "      <th>date</th>\n",
       "      <th>suffer_score</th>\n",
       "      <th>start_date</th>\n",
       "    </tr>\n",
       "  </thead>\n",
       "  <tbody>\n",
       "    <tr>\n",
       "      <th>8</th>\n",
       "      <td>15102156207</td>\n",
       "      <td>Recovery gravel in the early morning</td>\n",
       "      <td>2025-07-13</td>\n",
       "      <td>52.0</td>\n",
       "      <td>2025-07-13 13:09:14+00:00</td>\n",
       "    </tr>\n",
       "  </tbody>\n",
       "</table>\n",
       "</div>"
      ],
      "text/plain": [
       "            id                                  name        date  \\\n",
       "8  15102156207  Recovery gravel in the early morning  2025-07-13   \n",
       "\n",
       "   suffer_score                start_date  \n",
       "8          52.0 2025-07-13 13:09:14+00:00  "
      ]
     },
     "execution_count": 163,
     "metadata": {},
     "output_type": "execute_result"
    }
   ],
   "source": [
    "# Create a new_zone dataframe for recent activities\n",
    "cols = ['id', 'name', 'date', 'suffer_score','start_date']\n",
    "new_data = new_activities_df.loc[:,cols]\n",
    "new_zone_df = pd.DataFrame(new_data, columns=cols)\n",
    "new_zone_df"
   ]
  },
  {
   "cell_type": "code",
   "execution_count": 164,
   "id": "c7f70230-b682-4ef8-8ab2-0081f7558444",
   "metadata": {},
   "outputs": [
    {
     "name": "stdout",
     "output_type": "stream",
     "text": [
      "Fetching zones for activity: 15102156207\n"
     ]
    }
   ],
   "source": [
    "zone = new_zone_df['id'].apply(lambda current_id: get_zones_for_id(current_id, access_token))\n",
    "zone.index = new_zone_df['id']"
   ]
  },
  {
   "cell_type": "code",
   "execution_count": 165,
   "id": "e4c86d6d-ef2c-4b61-b90e-6a511f092247",
   "metadata": {},
   "outputs": [
    {
     "data": {
      "text/html": [
       "<div>\n",
       "<style scoped>\n",
       "    .dataframe tbody tr th:only-of-type {\n",
       "        vertical-align: middle;\n",
       "    }\n",
       "\n",
       "    .dataframe tbody tr th {\n",
       "        vertical-align: top;\n",
       "    }\n",
       "\n",
       "    .dataframe thead th {\n",
       "        text-align: right;\n",
       "    }\n",
       "</style>\n",
       "<table border=\"1\" class=\"dataframe\">\n",
       "  <thead>\n",
       "    <tr style=\"text-align: right;\">\n",
       "      <th></th>\n",
       "      <th>Zone1</th>\n",
       "      <th>Zone2</th>\n",
       "      <th>Zone3</th>\n",
       "      <th>Zone4</th>\n",
       "      <th>Zone5</th>\n",
       "      <th>moderate</th>\n",
       "      <th>intense</th>\n",
       "    </tr>\n",
       "    <tr>\n",
       "      <th>id</th>\n",
       "      <th></th>\n",
       "      <th></th>\n",
       "      <th></th>\n",
       "      <th></th>\n",
       "      <th></th>\n",
       "      <th></th>\n",
       "      <th></th>\n",
       "    </tr>\n",
       "  </thead>\n",
       "  <tbody>\n",
       "    <tr>\n",
       "      <th>15102156207</th>\n",
       "      <td>3.8</td>\n",
       "      <td>117.1</td>\n",
       "      <td>0.1</td>\n",
       "      <td>0.5</td>\n",
       "      <td>3.5</td>\n",
       "      <td>120.9</td>\n",
       "      <td>4.1</td>\n",
       "    </tr>\n",
       "  </tbody>\n",
       "</table>\n",
       "</div>"
      ],
      "text/plain": [
       "             Zone1  Zone2  Zone3  Zone4  Zone5  moderate  intense\n",
       "id                                                               \n",
       "15102156207    3.8  117.1    0.1    0.5    3.5     120.9      4.1"
      ]
     },
     "execution_count": 165,
     "metadata": {},
     "output_type": "execute_result"
    }
   ],
   "source": [
    "# Add in summary zones: moderate and intense\n",
    "zone['moderate'] = zone[['Zone1', 'Zone2']].sum(axis=1)\n",
    "zone['intense'] = zone[['Zone3', 'Zone4', 'Zone5']].sum(axis=1)\n",
    "zone"
   ]
  },
  {
   "cell_type": "code",
   "execution_count": 166,
   "id": "a24736b7-2d22-4654-8b3e-778428b7bc64",
   "metadata": {},
   "outputs": [
    {
     "data": {
      "text/html": [
       "<div>\n",
       "<style scoped>\n",
       "    .dataframe tbody tr th:only-of-type {\n",
       "        vertical-align: middle;\n",
       "    }\n",
       "\n",
       "    .dataframe tbody tr th {\n",
       "        vertical-align: top;\n",
       "    }\n",
       "\n",
       "    .dataframe thead th {\n",
       "        text-align: right;\n",
       "    }\n",
       "</style>\n",
       "<table border=\"1\" class=\"dataframe\">\n",
       "  <thead>\n",
       "    <tr style=\"text-align: right;\">\n",
       "      <th></th>\n",
       "      <th>id</th>\n",
       "      <th>name</th>\n",
       "      <th>date</th>\n",
       "      <th>suffer_score</th>\n",
       "      <th>start_date</th>\n",
       "      <th>Zone1</th>\n",
       "      <th>Zone2</th>\n",
       "      <th>Zone3</th>\n",
       "      <th>Zone4</th>\n",
       "      <th>Zone5</th>\n",
       "      <th>moderate</th>\n",
       "      <th>intense</th>\n",
       "    </tr>\n",
       "  </thead>\n",
       "  <tbody>\n",
       "    <tr>\n",
       "      <th>8</th>\n",
       "      <td>15102156207</td>\n",
       "      <td>Recovery gravel in the early morning</td>\n",
       "      <td>2025-07-13</td>\n",
       "      <td>52.0</td>\n",
       "      <td>2025-07-13 13:09:14+00:00</td>\n",
       "      <td>3.8</td>\n",
       "      <td>117.1</td>\n",
       "      <td>0.1</td>\n",
       "      <td>0.5</td>\n",
       "      <td>3.5</td>\n",
       "      <td>120.9</td>\n",
       "      <td>4.1</td>\n",
       "    </tr>\n",
       "  </tbody>\n",
       "</table>\n",
       "</div>"
      ],
      "text/plain": [
       "            id                                  name        date  \\\n",
       "8  15102156207  Recovery gravel in the early morning  2025-07-13   \n",
       "\n",
       "   suffer_score                start_date  Zone1  Zone2  Zone3  Zone4  Zone5  \\\n",
       "8          52.0 2025-07-13 13:09:14+00:00    3.8  117.1    0.1    0.5    3.5   \n",
       "\n",
       "   moderate  intense  \n",
       "8     120.9      4.1  "
      ]
     },
     "execution_count": 166,
     "metadata": {},
     "output_type": "execute_result"
    }
   ],
   "source": [
    "new_zone_df = pd.merge(new_zone_df, zone, left_on='id',right_index=True)\n",
    "new_zone_df"
   ]
  },
  {
   "cell_type": "code",
   "execution_count": 167,
   "id": "d1b5796e-e118-4507-8508-8af618682308",
   "metadata": {},
   "outputs": [],
   "source": [
    "# Get the Sunday start of the week for each date (time set to midnight)\n",
    "new_zone_df['week_start'] = new_zone_df['start_date'].dt.to_period('W-SUN').dt.start_time"
   ]
  },
  {
   "cell_type": "code",
   "execution_count": 168,
   "id": "050e6e71-7153-4b3b-a6c9-fa6a3af8c358",
   "metadata": {},
   "outputs": [],
   "source": [
    "#new_zone_df.columns are now matched\n",
    "new_zone_df = pd.concat ([new_zone_df, strava_zone_df], axis=0)"
   ]
  },
  {
   "cell_type": "code",
   "execution_count": null,
   "id": "9375a3f6-6064-4c4f-ae8a-2228bc672013",
   "metadata": {},
   "outputs": [],
   "source": [
    "new_zone_df.head(5)"
   ]
  },
  {
   "cell_type": "code",
   "execution_count": 170,
   "id": "5201f33c-74b0-4e0d-93bd-a8c656f0c3b5",
   "metadata": {},
   "outputs": [
    {
     "data": {
      "text/html": [
       "<div>\n",
       "<style scoped>\n",
       "    .dataframe tbody tr th:only-of-type {\n",
       "        vertical-align: middle;\n",
       "    }\n",
       "\n",
       "    .dataframe tbody tr th {\n",
       "        vertical-align: top;\n",
       "    }\n",
       "\n",
       "    .dataframe thead th {\n",
       "        text-align: right;\n",
       "    }\n",
       "</style>\n",
       "<table border=\"1\" class=\"dataframe\">\n",
       "  <thead>\n",
       "    <tr style=\"text-align: right;\">\n",
       "      <th></th>\n",
       "      <th>id</th>\n",
       "      <th>name</th>\n",
       "      <th>date</th>\n",
       "      <th>suffer_score</th>\n",
       "      <th>start_date</th>\n",
       "      <th>Zone1</th>\n",
       "      <th>Zone2</th>\n",
       "      <th>Zone3</th>\n",
       "      <th>Zone4</th>\n",
       "      <th>Zone5</th>\n",
       "      <th>moderate</th>\n",
       "      <th>intense</th>\n",
       "      <th>week_start</th>\n",
       "    </tr>\n",
       "  </thead>\n",
       "  <tbody>\n",
       "    <tr>\n",
       "      <th>8</th>\n",
       "      <td>15102156207</td>\n",
       "      <td>Recovery gravel in the early morning</td>\n",
       "      <td>2025-07-13</td>\n",
       "      <td>52.0</td>\n",
       "      <td>2025-07-13 13:09:14+00:00</td>\n",
       "      <td>3.8</td>\n",
       "      <td>117.1</td>\n",
       "      <td>0.1</td>\n",
       "      <td>0.5</td>\n",
       "      <td>3.5</td>\n",
       "      <td>120.9</td>\n",
       "      <td>4.1</td>\n",
       "      <td>2025-07-07</td>\n",
       "    </tr>\n",
       "    <tr>\n",
       "      <th>127</th>\n",
       "      <td>15093410751</td>\n",
       "      <td>Gross Reservoir Loop Hwy72 - CR97 and Magnolia</td>\n",
       "      <td>2025-07-12</td>\n",
       "      <td>233.0</td>\n",
       "      <td>2025-07-12 13:45:47+00:00</td>\n",
       "      <td>22.3</td>\n",
       "      <td>222.0</td>\n",
       "      <td>82.0</td>\n",
       "      <td>1.6</td>\n",
       "      <td>0.0</td>\n",
       "      <td>244.3</td>\n",
       "      <td>83.6</td>\n",
       "      <td>2025-07-07</td>\n",
       "    </tr>\n",
       "    <tr>\n",
       "      <th>126</th>\n",
       "      <td>15061307314</td>\n",
       "      <td>Nederland exploration and exploitation</td>\n",
       "      <td>2025-07-09</td>\n",
       "      <td>106.0</td>\n",
       "      <td>2025-07-09 14:17:28+00:00</td>\n",
       "      <td>31.9</td>\n",
       "      <td>132.7</td>\n",
       "      <td>29.4</td>\n",
       "      <td>0.0</td>\n",
       "      <td>0.0</td>\n",
       "      <td>164.6</td>\n",
       "      <td>29.4</td>\n",
       "      <td>2025-07-07</td>\n",
       "    </tr>\n",
       "    <tr>\n",
       "      <th>125</th>\n",
       "      <td>15048399185</td>\n",
       "      <td>Jamestown and eats at Lucky's Bakery</td>\n",
       "      <td>2025-07-08</td>\n",
       "      <td>101.0</td>\n",
       "      <td>2025-07-08 14:44:02+00:00</td>\n",
       "      <td>21.4</td>\n",
       "      <td>109.4</td>\n",
       "      <td>26.1</td>\n",
       "      <td>0.8</td>\n",
       "      <td>0.0</td>\n",
       "      <td>130.8</td>\n",
       "      <td>26.9</td>\n",
       "      <td>2025-07-07</td>\n",
       "    </tr>\n",
       "    <tr>\n",
       "      <th>124</th>\n",
       "      <td>15037283785</td>\n",
       "      <td>Old Stage</td>\n",
       "      <td>2025-07-07</td>\n",
       "      <td>54.0</td>\n",
       "      <td>2025-07-07 12:38:38+00:00</td>\n",
       "      <td>2.6</td>\n",
       "      <td>104.8</td>\n",
       "      <td>11.4</td>\n",
       "      <td>0.0</td>\n",
       "      <td>0.0</td>\n",
       "      <td>107.3</td>\n",
       "      <td>11.4</td>\n",
       "      <td>2025-07-07</td>\n",
       "    </tr>\n",
       "  </tbody>\n",
       "</table>\n",
       "</div>"
      ],
      "text/plain": [
       "              id                                            name        date  \\\n",
       "8    15102156207            Recovery gravel in the early morning  2025-07-13   \n",
       "127  15093410751  Gross Reservoir Loop Hwy72 - CR97 and Magnolia  2025-07-12   \n",
       "126  15061307314          Nederland exploration and exploitation  2025-07-09   \n",
       "125  15048399185            Jamestown and eats at Lucky's Bakery  2025-07-08   \n",
       "124  15037283785                                       Old Stage  2025-07-07   \n",
       "\n",
       "     suffer_score                start_date  Zone1  Zone2  Zone3  Zone4  \\\n",
       "8            52.0 2025-07-13 13:09:14+00:00    3.8  117.1    0.1    0.5   \n",
       "127         233.0 2025-07-12 13:45:47+00:00   22.3  222.0   82.0    1.6   \n",
       "126         106.0 2025-07-09 14:17:28+00:00   31.9  132.7   29.4    0.0   \n",
       "125         101.0 2025-07-08 14:44:02+00:00   21.4  109.4   26.1    0.8   \n",
       "124          54.0 2025-07-07 12:38:38+00:00    2.6  104.8   11.4    0.0   \n",
       "\n",
       "     Zone5  moderate  intense week_start  \n",
       "8      3.5     120.9      4.1 2025-07-07  \n",
       "127    0.0     244.3     83.6 2025-07-07  \n",
       "126    0.0     164.6     29.4 2025-07-07  \n",
       "125    0.0     130.8     26.9 2025-07-07  \n",
       "124    0.0     107.3     11.4 2025-07-07  "
      ]
     },
     "execution_count": 170,
     "metadata": {},
     "output_type": "execute_result"
    }
   ],
   "source": [
    "only_cols = ['id', 'name', 'date', 'suffer_score', 'start_date', 'Zone1', 'Zone2',\n",
    "       'Zone3', 'Zone4', 'Zone5', 'moderate', 'intense', 'week_start']\n",
    "new_zone_df = new_zone_df[only_cols]\n",
    "new_zone_df.head()"
   ]
  },
  {
   "cell_type": "code",
   "execution_count": 171,
   "id": "5c86d6fa-2148-46d2-8392-e4303528e410",
   "metadata": {},
   "outputs": [],
   "source": [
    "# Temporarily sort ascending by week_start and date to compute cumulative sum correctly\n",
    "temp = new_zone_df.sort_values(['week_start', 'start_date'])\n",
    "\n",
    "# Calculate cumulative sum within each week\n",
    "cumulative_cols = ['intense', 'moderate', 'suffer_score']\n",
    "cumulative_sums = (\n",
    "    temp\n",
    "    .groupby('week_start')[cumulative_cols]\n",
    "    .cumsum()\n",
    "    .add_prefix('weekly_')  # rename columns if needed\n",
    ")\n",
    "# Add start_date column for reference\n",
    "cumulative_sums['start_date'] = temp['start_date']"
   ]
  },
  {
   "cell_type": "code",
   "execution_count": 172,
   "id": "ed92331c-4533-4563-ba4e-5f16b37c9d53",
   "metadata": {},
   "outputs": [
    {
     "data": {
      "text/html": [
       "<div>\n",
       "<style scoped>\n",
       "    .dataframe tbody tr th:only-of-type {\n",
       "        vertical-align: middle;\n",
       "    }\n",
       "\n",
       "    .dataframe tbody tr th {\n",
       "        vertical-align: top;\n",
       "    }\n",
       "\n",
       "    .dataframe thead th {\n",
       "        text-align: right;\n",
       "    }\n",
       "</style>\n",
       "<table border=\"1\" class=\"dataframe\">\n",
       "  <thead>\n",
       "    <tr style=\"text-align: right;\">\n",
       "      <th></th>\n",
       "      <th>weekly_intense</th>\n",
       "      <th>weekly_moderate</th>\n",
       "      <th>weekly_suffer_score</th>\n",
       "      <th>start_date</th>\n",
       "    </tr>\n",
       "  </thead>\n",
       "  <tbody>\n",
       "    <tr>\n",
       "      <th>8</th>\n",
       "      <td>155.5</td>\n",
       "      <td>767.9</td>\n",
       "      <td>546.0</td>\n",
       "      <td>2025-07-13 13:09:14+00:00</td>\n",
       "    </tr>\n",
       "    <tr>\n",
       "      <th>127</th>\n",
       "      <td>151.4</td>\n",
       "      <td>647.0</td>\n",
       "      <td>494.0</td>\n",
       "      <td>2025-07-12 13:45:47+00:00</td>\n",
       "    </tr>\n",
       "    <tr>\n",
       "      <th>126</th>\n",
       "      <td>67.8</td>\n",
       "      <td>402.8</td>\n",
       "      <td>261.0</td>\n",
       "      <td>2025-07-09 14:17:28+00:00</td>\n",
       "    </tr>\n",
       "  </tbody>\n",
       "</table>\n",
       "</div>"
      ],
      "text/plain": [
       "     weekly_intense  weekly_moderate  weekly_suffer_score  \\\n",
       "8             155.5            767.9                546.0   \n",
       "127           151.4            647.0                494.0   \n",
       "126            67.8            402.8                261.0   \n",
       "\n",
       "                   start_date  \n",
       "8   2025-07-13 13:09:14+00:00  \n",
       "127 2025-07-12 13:45:47+00:00  \n",
       "126 2025-07-09 14:17:28+00:00  "
      ]
     },
     "execution_count": 172,
     "metadata": {},
     "output_type": "execute_result"
    }
   ],
   "source": [
    "cumulative_sums = cumulative_sums.sort_values('start_date', ascending = False)\n",
    "cumulative_sums.head(3)"
   ]
  },
  {
   "cell_type": "code",
   "execution_count": 174,
   "id": "391d5adc-653a-47f7-bb1e-35a3a36dbb29",
   "metadata": {},
   "outputs": [],
   "source": [
    "strava_zone_df = pd.merge(new_zone_df,cumulative_sums, left_on ='start_date', right_on='start_date')"
   ]
  },
  {
   "cell_type": "code",
   "execution_count": null,
   "id": "e2cd1b8e-4e6a-4d2a-b46f-2ce9ede56618",
   "metadata": {},
   "outputs": [],
   "source": []
  },
  {
   "cell_type": "markdown",
   "id": "c55c12a4-51df-4e3a-b6e1-3e27edadbfce",
   "metadata": {},
   "source": [
    "### Build strava_df from activities"
   ]
  },
  {
   "cell_type": "code",
   "execution_count": null,
   "id": "e12d0d4b-8e4f-4071-82fb-400bcc1699c6",
   "metadata": {},
   "outputs": [],
   "source": [
    "# drop activities where no heartrate data was collected\n",
    "# strava_df = strava_df.dropna(subset=['average_heartrate'])\n",
    "\n",
    "# process data with function cleanup (from clean_convert.py)\n",
    "cleanup (strava_df)\n",
    "\n",
    "# add column: converted_speed ride-mph  and run-min/mile  (from clean_convert.py)\n",
    "strava_df['converted_speed'] = strava_df.apply(convert_speed, axis=1)\n",
    "\n",
    "strava_df = order_columns(strava_df)\n",
    "strava_df.head(2)"
   ]
  },
  {
   "cell_type": "markdown",
   "id": "1b0f34f2-ac01-4b9e-85ba-0bf884506a15",
   "metadata": {},
   "source": [
    "### Dataframe approach to create strava_zone_df"
   ]
  },
  {
   "cell_type": "code",
   "execution_count": 39,
   "id": "f72dac6a-4c86-4010-83b4-69b910facdd1",
   "metadata": {},
   "outputs": [
    {
     "data": {
      "text/html": [
       "<div>\n",
       "<style scoped>\n",
       "    .dataframe tbody tr th:only-of-type {\n",
       "        vertical-align: middle;\n",
       "    }\n",
       "\n",
       "    .dataframe tbody tr th {\n",
       "        vertical-align: top;\n",
       "    }\n",
       "\n",
       "    .dataframe thead th {\n",
       "        text-align: right;\n",
       "    }\n",
       "</style>\n",
       "<table border=\"1\" class=\"dataframe\">\n",
       "  <thead>\n",
       "    <tr style=\"text-align: right;\">\n",
       "      <th></th>\n",
       "      <th>id</th>\n",
       "      <th>name</th>\n",
       "      <th>date</th>\n",
       "      <th>suffer_score</th>\n",
       "      <th>start_date</th>\n",
       "    </tr>\n",
       "  </thead>\n",
       "  <tbody>\n",
       "    <tr>\n",
       "      <th>127</th>\n",
       "      <td>15093410751</td>\n",
       "      <td>Gross Reservoir Loop Hwy72 - CR97 and Magnolia</td>\n",
       "      <td>2025-07-12</td>\n",
       "      <td>233.0</td>\n",
       "      <td>2025-07-12 13:45:47+00:00</td>\n",
       "    </tr>\n",
       "  </tbody>\n",
       "</table>\n",
       "</div>"
      ],
      "text/plain": [
       "              id                                            name        date  \\\n",
       "127  15093410751  Gross Reservoir Loop Hwy72 - CR97 and Magnolia  2025-07-12   \n",
       "\n",
       "     suffer_score                start_date  \n",
       "127         233.0 2025-07-12 13:45:47+00:00  "
      ]
     },
     "execution_count": 39,
     "metadata": {},
     "output_type": "execute_result"
    }
   ],
   "source": [
    "# Create a zone dataframe\n",
    "cols = ['id', 'name', 'date', 'suffer_score','start_date']\n",
    "#data = strava_df.iloc[:,[0,1,2,-4,-1]]\n",
    "data = strava_df.loc[:,cols]\n",
    "strava_zone_df = pd.DataFrame(data, columns=cols)\n",
    "strava_zone_df.head(1)"
   ]
  },
  {
   "cell_type": "markdown",
   "id": "633e0c0f-05e1-4e11-bf07-060927954191",
   "metadata": {},
   "source": [
    "### Logging historical data"
   ]
  },
  {
   "cell_type": "code",
   "execution_count": 8,
   "id": "c390d303-08b1-4b44-8e04-5c07e118757f",
   "metadata": {},
   "outputs": [],
   "source": [
    "# This was to log historical data - DO NOT RUN -are you sure?\n",
    "activity_ids = strava_df['id'].tolist()\n",
    "\n",
    "# Split into two batches\n",
    "batch1 = activity_ids[:64]\n",
    "batch2 = activity_ids[64:]\n",
    "\n",
    "# Process batch 1\n",
    "zone_data_1 = [get_zones_for_id(current_id, access_token) for current_id in batch1]\n",
    "\n",
    "# Sleep 15 minutes to avoid rate limit\n",
    "print(\"Sleeping for 16 minutes to respect Strava rate limit...\")\n",
    "time.sleep(16 * 60)\n",
    "\n",
    "# Process batch 2\n",
    "zone_data_2 = [get_zones_for_id(current_id, access_token) for current_id in batch2]"
   ]
  },
  {
   "cell_type": "code",
   "execution_count": 42,
   "id": "1c8803c6-96c6-45ce-9ede-08fb1368f0b4",
   "metadata": {},
   "outputs": [],
   "source": [
    "# Combine results into one DataFrame\n",
    "all_zone_data = zone_data_1 + zone_data_2\n",
    "zone_df = pd.DataFrame(all_zone_data,index=batch1 + batch2 )"
   ]
  },
  {
   "cell_type": "raw",
   "id": "52fb4794-2263-4b0e-bf02-8da750fb2e07",
   "metadata": {},
   "source": [
    "zone_df = strava_zone_df['id'].apply(lambda current_id: get_zones_for_id(current_id, access_token))"
   ]
  },
  {
   "cell_type": "code",
   "execution_count": 40,
   "id": "fe861f48-b2a5-46bb-b52d-83865970327d",
   "metadata": {},
   "outputs": [
    {
     "data": {
      "text/html": [
       "<div>\n",
       "<style scoped>\n",
       "    .dataframe tbody tr th:only-of-type {\n",
       "        vertical-align: middle;\n",
       "    }\n",
       "\n",
       "    .dataframe tbody tr th {\n",
       "        vertical-align: top;\n",
       "    }\n",
       "\n",
       "    .dataframe thead th {\n",
       "        text-align: right;\n",
       "    }\n",
       "</style>\n",
       "<table border=\"1\" class=\"dataframe\">\n",
       "  <thead>\n",
       "    <tr style=\"text-align: right;\">\n",
       "      <th></th>\n",
       "      <th>Zone1</th>\n",
       "      <th>Zone2</th>\n",
       "      <th>Zone3</th>\n",
       "      <th>Zone4</th>\n",
       "      <th>Zone5</th>\n",
       "      <th>moderate</th>\n",
       "      <th>intense</th>\n",
       "    </tr>\n",
       "  </thead>\n",
       "  <tbody>\n",
       "    <tr>\n",
       "      <th>15093410751</th>\n",
       "      <td>22.3</td>\n",
       "      <td>222.0</td>\n",
       "      <td>82.0</td>\n",
       "      <td>1.6</td>\n",
       "      <td>0.0</td>\n",
       "      <td>244.3</td>\n",
       "      <td>83.6</td>\n",
       "    </tr>\n",
       "    <tr>\n",
       "      <th>15061307314</th>\n",
       "      <td>31.9</td>\n",
       "      <td>132.7</td>\n",
       "      <td>29.4</td>\n",
       "      <td>0.0</td>\n",
       "      <td>0.0</td>\n",
       "      <td>164.6</td>\n",
       "      <td>29.4</td>\n",
       "    </tr>\n",
       "  </tbody>\n",
       "</table>\n",
       "</div>"
      ],
      "text/plain": [
       "             Zone1  Zone2  Zone3  Zone4  Zone5  moderate  intense\n",
       "15093410751   22.3  222.0   82.0    1.6    0.0     244.3     83.6\n",
       "15061307314   31.9  132.7   29.4    0.0    0.0     164.6     29.4"
      ]
     },
     "execution_count": 40,
     "metadata": {},
     "output_type": "execute_result"
    }
   ],
   "source": [
    "zone_df.head(2)"
   ]
  },
  {
   "cell_type": "code",
   "execution_count": 26,
   "id": "8547aa8e-f75f-408a-99d0-a07c6501b042",
   "metadata": {},
   "outputs": [],
   "source": [
    "# Add in summary zones: moderate and intense\n",
    "zone_df['moderate'] = zone_df[['Zone1', 'Zone2']].sum(axis=1)\n",
    "zone_df['intense'] = zone_df[['Zone3', 'Zone4', 'Zone5']].sum(axis=1)"
   ]
  },
  {
   "cell_type": "code",
   "execution_count": 42,
   "id": "a0eec47c-d0e0-4308-92d2-0fa24cfe07e0",
   "metadata": {},
   "outputs": [],
   "source": [
    "# merge both dfs\n",
    "strava_zone_df = pd.merge(strava_zone_df, zone_df, left_on='id',right_index=True)"
   ]
  },
  {
   "cell_type": "code",
   "execution_count": 43,
   "id": "4a407c8d-1ca8-4256-ace0-753ead57a15d",
   "metadata": {},
   "outputs": [],
   "source": [
    "# Get the Sunday start of the week for each date (time set to midnight)\n",
    "strava_zone_df['week_start'] = strava_zone_df['start_date'].dt.to_period('W-SUN').dt.start_time"
   ]
  },
  {
   "cell_type": "code",
   "execution_count": 44,
   "id": "9e9f6adf-1686-4fec-a72b-33f4964b0c4e",
   "metadata": {},
   "outputs": [],
   "source": [
    "# Temporarily sort ascending by week_start and date to compute cumulative sum correctly\n",
    "temp = strava_zone_df.sort_values(['week_start', 'start_date'], ascending=[True, True])\n",
    "\n",
    "# Calculate cumulative sum within each week\n",
    "cumulative_cols = ['intense', 'moderate', 'suffer_score']\n",
    "cumulative_sums = (\n",
    "    temp\n",
    "    .groupby('week_start')[cumulative_cols]\n",
    "    .cumsum()\n",
    "    .add_prefix('weekly_')  # rename columns if needed\n",
    ")\n",
    "strava_zone_df = strava_zone_df.join(cumulative_sums)"
   ]
  },
  {
   "cell_type": "code",
   "execution_count": 45,
   "id": "3bb0ee2a-a7d4-4c97-9ce1-fd9e76805d0d",
   "metadata": {},
   "outputs": [],
   "source": [
    "keep_cols = ['id', 'name', 'date', 'suffer_score', 'moderate', 'intense',\n",
    "       'weekly_intense','weekly_moderate','weekly_suffer_score']"
   ]
  },
  {
   "cell_type": "code",
   "execution_count": 46,
   "id": "ba018936-79a0-46a5-99cb-9b8f40a69a91",
   "metadata": {},
   "outputs": [
    {
     "data": {
      "text/html": [
       "<div>\n",
       "<style scoped>\n",
       "    .dataframe tbody tr th:only-of-type {\n",
       "        vertical-align: middle;\n",
       "    }\n",
       "\n",
       "    .dataframe tbody tr th {\n",
       "        vertical-align: top;\n",
       "    }\n",
       "\n",
       "    .dataframe thead th {\n",
       "        text-align: right;\n",
       "    }\n",
       "</style>\n",
       "<table border=\"1\" class=\"dataframe\">\n",
       "  <thead>\n",
       "    <tr style=\"text-align: right;\">\n",
       "      <th></th>\n",
       "      <th>id</th>\n",
       "      <th>name</th>\n",
       "      <th>date</th>\n",
       "      <th>suffer_score</th>\n",
       "      <th>moderate</th>\n",
       "      <th>intense</th>\n",
       "      <th>weekly_intense</th>\n",
       "      <th>weekly_moderate</th>\n",
       "      <th>weekly_suffer_score</th>\n",
       "    </tr>\n",
       "  </thead>\n",
       "  <tbody>\n",
       "    <tr>\n",
       "      <th>127</th>\n",
       "      <td>15093410751</td>\n",
       "      <td>Gross Reservoir Loop Hwy72 - CR97 and Magnolia</td>\n",
       "      <td>2025-07-12</td>\n",
       "      <td>233.0</td>\n",
       "      <td>244.3</td>\n",
       "      <td>83.6</td>\n",
       "      <td>151.4</td>\n",
       "      <td>647.0</td>\n",
       "      <td>494.0</td>\n",
       "    </tr>\n",
       "    <tr>\n",
       "      <th>126</th>\n",
       "      <td>15061307314</td>\n",
       "      <td>Nederland exploration and exploitation</td>\n",
       "      <td>2025-07-09</td>\n",
       "      <td>106.0</td>\n",
       "      <td>164.6</td>\n",
       "      <td>29.4</td>\n",
       "      <td>67.8</td>\n",
       "      <td>402.8</td>\n",
       "      <td>261.0</td>\n",
       "    </tr>\n",
       "  </tbody>\n",
       "</table>\n",
       "</div>"
      ],
      "text/plain": [
       "              id                                            name        date  \\\n",
       "127  15093410751  Gross Reservoir Loop Hwy72 - CR97 and Magnolia  2025-07-12   \n",
       "126  15061307314          Nederland exploration and exploitation  2025-07-09   \n",
       "\n",
       "     suffer_score  moderate  intense  weekly_intense  weekly_moderate  \\\n",
       "127         233.0     244.3     83.6           151.4            647.0   \n",
       "126         106.0     164.6     29.4            67.8            402.8   \n",
       "\n",
       "     weekly_suffer_score  \n",
       "127                494.0  \n",
       "126                261.0  "
      ]
     },
     "execution_count": 46,
     "metadata": {},
     "output_type": "execute_result"
    }
   ],
   "source": [
    "strava_zone_df[keep_cols].head(2)"
   ]
  },
  {
   "cell_type": "markdown",
   "id": "feaef901-0879-4422-8d66-13c7efca6e76",
   "metadata": {},
   "source": [
    "### New dataframes for plotting"
   ]
  },
  {
   "cell_type": "code",
   "execution_count": 175,
   "id": "6785116a-49c3-409a-8acf-7eddcefae75c",
   "metadata": {},
   "outputs": [],
   "source": [
    "week_summary = (\n",
    "    strava_zone_df\n",
    "    .groupby('week_start')[['weekly_intense','weekly_moderate','weekly_suffer_score']]\n",
    "    .max()\n",
    "    .reset_index()\n",
    ")\n",
    "# Format weeks as strings (e.g. 'Jul 01', 'Jul 08')\n",
    "week_summary[\"week\"] = week_summary[\"week_start\"].dt.strftime('%b %d')\n",
    "#week_summary[['weekly_intense','weekly_moderate']].head(3)"
   ]
  },
  {
   "cell_type": "code",
   "execution_count": 183,
   "id": "554375b4-e9ae-40f3-ab73-e00b850fa59a",
   "metadata": {},
   "outputs": [
    {
     "data": {
      "text/html": [
       "<div>\n",
       "<style scoped>\n",
       "    .dataframe tbody tr th:only-of-type {\n",
       "        vertical-align: middle;\n",
       "    }\n",
       "\n",
       "    .dataframe tbody tr th {\n",
       "        vertical-align: top;\n",
       "    }\n",
       "\n",
       "    .dataframe thead th {\n",
       "        text-align: right;\n",
       "    }\n",
       "</style>\n",
       "<table border=\"1\" class=\"dataframe\">\n",
       "  <thead>\n",
       "    <tr style=\"text-align: right;\">\n",
       "      <th></th>\n",
       "      <th>week_start</th>\n",
       "      <th>weekly_intense</th>\n",
       "      <th>weekly_moderate</th>\n",
       "      <th>weekly_suffer_score</th>\n",
       "      <th>week</th>\n",
       "    </tr>\n",
       "  </thead>\n",
       "  <tbody>\n",
       "    <tr>\n",
       "      <th>26</th>\n",
       "      <td>2025-07-07</td>\n",
       "      <td>155.5</td>\n",
       "      <td>767.9</td>\n",
       "      <td>546.0</td>\n",
       "      <td>Jul 07</td>\n",
       "    </tr>\n",
       "    <tr>\n",
       "      <th>25</th>\n",
       "      <td>2025-06-30</td>\n",
       "      <td>143.9</td>\n",
       "      <td>794.7</td>\n",
       "      <td>597.0</td>\n",
       "      <td>Jun 30</td>\n",
       "    </tr>\n",
       "    <tr>\n",
       "      <th>24</th>\n",
       "      <td>2025-06-23</td>\n",
       "      <td>259.7</td>\n",
       "      <td>479.1</td>\n",
       "      <td>662.0</td>\n",
       "      <td>Jun 23</td>\n",
       "    </tr>\n",
       "    <tr>\n",
       "      <th>23</th>\n",
       "      <td>2025-06-16</td>\n",
       "      <td>240.2</td>\n",
       "      <td>554.1</td>\n",
       "      <td>668.0</td>\n",
       "      <td>Jun 16</td>\n",
       "    </tr>\n",
       "    <tr>\n",
       "      <th>22</th>\n",
       "      <td>2025-06-09</td>\n",
       "      <td>95.1</td>\n",
       "      <td>292.5</td>\n",
       "      <td>287.0</td>\n",
       "      <td>Jun 09</td>\n",
       "    </tr>\n",
       "  </tbody>\n",
       "</table>\n",
       "</div>"
      ],
      "text/plain": [
       "   week_start  weekly_intense  weekly_moderate  weekly_suffer_score    week\n",
       "26 2025-07-07           155.5            767.9                546.0  Jul 07\n",
       "25 2025-06-30           143.9            794.7                597.0  Jun 30\n",
       "24 2025-06-23           259.7            479.1                662.0  Jun 23\n",
       "23 2025-06-16           240.2            554.1                668.0  Jun 16\n",
       "22 2025-06-09            95.1            292.5                287.0  Jun 09"
      ]
     },
     "execution_count": 183,
     "metadata": {},
     "output_type": "execute_result"
    }
   ],
   "source": [
    "week_summary.sort_values('week_start',ascending=False).head()"
   ]
  },
  {
   "cell_type": "code",
   "execution_count": 176,
   "id": "aa60c814-62ab-4aa8-b6f1-842e7d0bc7a1",
   "metadata": {},
   "outputs": [
    {
     "data": {
      "image/png": "[encoded data removed]",
      "text/plain": [
       "<Figure size 1008x432 with 1 Axes>"
      ]
     },
     "metadata": {},
     "output_type": "display_data"
    }
   ],
   "source": [
    "import matplotlib.pyplot as plt\n",
    "\n",
    "ax = week_summary.plot(\n",
    "    y=['weekly_moderate','weekly_intense'],\n",
    "    x='week',\n",
    "    kind='bar', \n",
    "    stacked=True, \n",
    "    figsize=(14, 6), \n",
    "    color=['#98FB98', '#F08080']\n",
    ")\n",
    "\n",
    "# Overlay line plot for 'weekly_suffer_score'\n",
    "line = ax.plot(\n",
    "    week_summary[\"week\"],\n",
    "    week_summary[\"weekly_suffer_score\"],\n",
    "    color=\"black\",\n",
    "    marker=\"o\",\n",
    "    linewidth=2,\n",
    "    label=\"Suffer_Score\"  \n",
    ")\n",
    "\n",
    "plt.title(\"Time in Heart Rate Zones\")\n",
    "plt.xlabel(\"Activity ID\")\n",
    "plt.ylabel(\"Time (minutes)\")\n",
    "plt.legend(title=\"Zone\")\n",
    "plt.xticks(rotation=45, ha='right')\n",
    "plt.tight_layout()\n",
    "plt.show()"
   ]
  },
  {
   "cell_type": "code",
   "execution_count": 21,
   "id": "337fee14-0fe7-4746-b962-8e8f6473df46",
   "metadata": {},
   "outputs": [],
   "source": [
    "# Melt the DataFrame to long format and plot\n",
    "long_df = pd.melt(\n",
    "    week_summary,\n",
    "    id_vars=\"week\",\n",
    "    value_vars=[\"weekly_intense\", \"weekly_moderate\"],\n",
    "    var_name=\"zone\",\n",
    "    value_name=\"minutes\"\n",
    ")"
   ]
  },
  {
   "cell_type": "code",
   "execution_count": 38,
   "id": "46124f58-1a0c-46f7-aa62-4c90a57a142d",
   "metadata": {},
   "outputs": [
    {
     "data": {
      "image/png": "[encoded data removed]",
      "text/plain": [
       "<Figure size 1008x432 with 1 Axes>"
      ]
     },
     "metadata": {},
     "output_type": "display_data"
    }
   ],
   "source": [
    "# Add a line plot on top \n",
    "plt.figure(figsize=(14, 6))\n",
    "# Add line plot with a label\n",
    "ax = sns.barplot(\n",
    "    data=long_df,\n",
    "    x=\"week\",\n",
    "    y=\"minutes\",\n",
    "    hue=\"zone\",\n",
    "    palette={\"weekly_intense\": \"salmon\", \"weekly_moderate\": \"palegreen\"}\n",
    ")\n",
    "line = ax.plot(\n",
    "    week_summary[\"week\"],\n",
    "    week_summary[\"weekly_suffer_score\"],\n",
    "    color=\"black\",\n",
    "    marker=\"o\",\n",
    "    linewidth=2,\n",
    "    label=\"suffer_score\"  \n",
    ")\n",
    "# Create the legend manually from all handles\n",
    "handles, labels = ax.get_legend_handles_labels()\n",
    "ax.legend(handles=handles, labels=labels)\n",
    "\n",
    "# Optional: improve layout\n",
    "plt.xticks(rotation=45, ha='right')\n",
    "plt.tight_layout()\n",
    "#plt.legend()\n",
    "plt.show()"
   ]
  },
  {
   "cell_type": "code",
   "execution_count": 38,
   "id": "9fdcd425-d0ef-40c8-bff4-c707c7d35bad",
   "metadata": {},
   "outputs": [
    {
     "data": {
      "text/html": [
       "<div>\n",
       "<style scoped>\n",
       "    .dataframe tbody tr th:only-of-type {\n",
       "        vertical-align: middle;\n",
       "    }\n",
       "\n",
       "    .dataframe tbody tr th {\n",
       "        vertical-align: top;\n",
       "    }\n",
       "\n",
       "    .dataframe thead th {\n",
       "        text-align: right;\n",
       "    }\n",
       "</style>\n",
       "<table border=\"1\" class=\"dataframe\">\n",
       "  <thead>\n",
       "    <tr style=\"text-align: right;\">\n",
       "      <th></th>\n",
       "      <th>id</th>\n",
       "      <th>name</th>\n",
       "      <th>date</th>\n",
       "      <th>sport</th>\n",
       "      <th>distance</th>\n",
       "      <th>time</th>\n",
       "      <th>speed</th>\n",
       "      <th>elev_gain</th>\n",
       "      <th>avg_HR</th>\n",
       "      <th>max_HR</th>\n",
       "      <th>suffer_score</th>\n",
       "      <th>time-minutes</th>\n",
       "      <th>average_speed</th>\n",
       "      <th>start_date</th>\n",
       "    </tr>\n",
       "  </thead>\n",
       "  <tbody>\n",
       "    <tr>\n",
       "      <th>127</th>\n",
       "      <td>15093410751</td>\n",
       "      <td>Gross Reservoir Loop Hwy72 - CR97 and Magnolia</td>\n",
       "      <td>2025-07-12</td>\n",
       "      <td>Ride</td>\n",
       "      <td>56.0</td>\n",
       "      <td>5:27</td>\n",
       "      <td>10.2</td>\n",
       "      <td>6290.0</td>\n",
       "      <td>113.3</td>\n",
       "      <td>141.0</td>\n",
       "      <td>233.0</td>\n",
       "      <td>327.9</td>\n",
       "      <td>4.6</td>\n",
       "      <td>2025-07-12 13:45:47+00:00</td>\n",
       "    </tr>\n",
       "  </tbody>\n",
       "</table>\n",
       "</div>"
      ],
      "text/plain": [
       "              id                                            name        date  \\\n",
       "127  15093410751  Gross Reservoir Loop Hwy72 - CR97 and Magnolia  2025-07-12   \n",
       "\n",
       "    sport  distance  time speed  elev_gain  avg_HR  max_HR  suffer_score  \\\n",
       "127  Ride      56.0  5:27  10.2     6290.0   113.3   141.0         233.0   \n",
       "\n",
       "     time-minutes  average_speed                start_date  \n",
       "127         327.9            4.6 2025-07-12 13:45:47+00:00  "
      ]
     },
     "execution_count": 38,
     "metadata": {},
     "output_type": "execute_result"
    }
   ],
   "source": [
    "strava_df.head(1)"
   ]
  },
  {
   "cell_type": "code",
   "execution_count": 47,
   "id": "ba9d8596-447d-4f82-a9ea-d356465332ab",
   "metadata": {},
   "outputs": [
    {
     "data": {
      "text/html": [
       "<div>\n",
       "<style scoped>\n",
       "    .dataframe tbody tr th:only-of-type {\n",
       "        vertical-align: middle;\n",
       "    }\n",
       "\n",
       "    .dataframe tbody tr th {\n",
       "        vertical-align: top;\n",
       "    }\n",
       "\n",
       "    .dataframe thead th {\n",
       "        text-align: right;\n",
       "    }\n",
       "</style>\n",
       "<table border=\"1\" class=\"dataframe\">\n",
       "  <thead>\n",
       "    <tr style=\"text-align: right;\">\n",
       "      <th></th>\n",
       "      <th>id</th>\n",
       "      <th>name</th>\n",
       "      <th>date</th>\n",
       "      <th>suffer_score</th>\n",
       "      <th>start_date</th>\n",
       "      <th>Zone1</th>\n",
       "      <th>Zone2</th>\n",
       "      <th>Zone3</th>\n",
       "      <th>Zone4</th>\n",
       "      <th>Zone5</th>\n",
       "      <th>moderate</th>\n",
       "      <th>intense</th>\n",
       "      <th>week_start</th>\n",
       "      <th>weekly_intense</th>\n",
       "      <th>weekly_moderate</th>\n",
       "      <th>weekly_suffer_score</th>\n",
       "    </tr>\n",
       "  </thead>\n",
       "  <tbody>\n",
       "    <tr>\n",
       "      <th>127</th>\n",
       "      <td>15093410751</td>\n",
       "      <td>Gross Reservoir Loop Hwy72 - CR97 and Magnolia</td>\n",
       "      <td>2025-07-12</td>\n",
       "      <td>233.0</td>\n",
       "      <td>2025-07-12 13:45:47+00:00</td>\n",
       "      <td>22.3</td>\n",
       "      <td>222.0</td>\n",
       "      <td>82.0</td>\n",
       "      <td>1.6</td>\n",
       "      <td>0.0</td>\n",
       "      <td>244.3</td>\n",
       "      <td>83.6</td>\n",
       "      <td>2025-07-07</td>\n",
       "      <td>151.4</td>\n",
       "      <td>647.0</td>\n",
       "      <td>494.0</td>\n",
       "    </tr>\n",
       "  </tbody>\n",
       "</table>\n",
       "</div>"
      ],
      "text/plain": [
       "              id                                            name        date  \\\n",
       "127  15093410751  Gross Reservoir Loop Hwy72 - CR97 and Magnolia  2025-07-12   \n",
       "\n",
       "     suffer_score                start_date  Zone1  Zone2  Zone3  Zone4  \\\n",
       "127         233.0 2025-07-12 13:45:47+00:00   22.3  222.0   82.0    1.6   \n",
       "\n",
       "     Zone5  moderate  intense week_start  weekly_intense  weekly_moderate  \\\n",
       "127    0.0     244.3     83.6 2025-07-07           151.4            647.0   \n",
       "\n",
       "     weekly_suffer_score  \n",
       "127                494.0  "
      ]
     },
     "execution_count": 47,
     "metadata": {},
     "output_type": "execute_result"
    }
   ],
   "source": [
    "strava_zone_df.head(1)"
   ]
  },
  {
   "cell_type": "code",
   "execution_count": 48,
   "id": "5b0ea957-8959-4a5e-8d81-60afad227e6f",
   "metadata": {},
   "outputs": [
    {
     "name": "stdout",
     "output_type": "stream",
     "text": [
      "All data saved.\n"
     ]
    }
   ],
   "source": [
    "# Save both\n",
    "strava_df.to_pickle(\"strava_data.pkl\")\n",
    "strava_zone_df.to_pickle(\"strava_zone_data.pkl\")\n",
    "\n",
    "print(\"All data saved.\")"
   ]
  },
  {
   "cell_type": "code",
   "execution_count": null,
   "id": "02a5ce75-2859-4d48-a9ea-a103f1576bd9",
   "metadata": {},
   "outputs": [],
   "source": []
  }
 ],
 "metadata": {
  "kernelspec": {
   "display_name": "Python 3",
   "language": "python",
   "name": "python3"
  },
  "language_info": {
   "codemirror_mode": {
    "name": "ipython",
    "version": 3
   },
   "file_extension": ".py",
   "mimetype": "text/x-python",
   "name": "python",
   "nbconvert_exporter": "python",
   "pygments_lexer": "ipython3",
   "version": "3.8.8"
  }
 },
 "nbformat": 4,
 "nbformat_minor": 5
}
